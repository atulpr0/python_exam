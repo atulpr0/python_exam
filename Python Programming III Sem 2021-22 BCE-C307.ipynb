{
 "cells": [
  {
   "cell_type": "markdown",
   "metadata": {},
   "source": [
    "# Python Programming"
   ]
  },
  {
   "cell_type": "markdown",
   "metadata": {},
   "source": [
    "**Day1 - 11/10/22**"
   ]
  },
  {
   "cell_type": "markdown",
   "metadata": {},
   "source": [
    "*Prerequiste: Installation of Anaconda* <br>\n",
    "How to print anything using python on Jupyter Notebook?<br>\n",
    "Tip-Anything can be printed using print() function.\n",
    "use shift+ Enter to run a cell<br>\n",
    "Get familer with Jupyter notebook <br>\n",
    "using https://www.dataquest.io/blog/jupyter-notebook-tips-tricks-shortcuts/ or\n",
    "https://towardsdatascience.com/jypyter-notebook-shortcuts-bf0101a98330"
   ]
  },
  {
   "cell_type": "code",
   "execution_count": 1,
   "metadata": {},
   "outputs": [
    {
     "name": "stdout",
     "output_type": "stream",
     "text": [
      "Welcome to the word of Python Programming\n"
     ]
    }
   ],
   "source": [
    "print('Welcome to the word of Python Programming')"
   ]
  },
  {
   "cell_type": "code",
   "execution_count": 4,
   "metadata": {},
   "outputs": [
    {
     "name": "stdout",
     "output_type": "stream",
     "text": [
      "1\n"
     ]
    }
   ],
   "source": [
    "print(1)"
   ]
  },
  {
   "cell_type": "code",
   "execution_count": 5,
   "metadata": {},
   "outputs": [
    {
     "ename": "NameError",
     "evalue": "name 'name' is not defined",
     "output_type": "error",
     "traceback": [
      "\u001b[1;31m---------------------------------------------------------------------------\u001b[0m",
      "\u001b[1;31mNameError\u001b[0m                                 Traceback (most recent call last)",
      "\u001b[1;32m~\\AppData\\Local\\Temp\\ipykernel_7220\\2122694447.py\u001b[0m in \u001b[0;36m<cell line: 1>\u001b[1;34m()\u001b[0m\n\u001b[1;32m----> 1\u001b[1;33m \u001b[0mprint\u001b[0m\u001b[1;33m(\u001b[0m\u001b[0mname\u001b[0m\u001b[1;33m)\u001b[0m\u001b[1;33m\u001b[0m\u001b[1;33m\u001b[0m\u001b[0m\n\u001b[0m",
      "\u001b[1;31mNameError\u001b[0m: name 'name' is not defined"
     ]
    }
   ],
   "source": [
    "print(name)"
   ]
  },
  {
   "cell_type": "code",
   "execution_count": 6,
   "metadata": {},
   "outputs": [
    {
     "name": "stdout",
     "output_type": "stream",
     "text": [
      "3\n"
     ]
    }
   ],
   "source": [
    "print(1+2)"
   ]
  },
  {
   "cell_type": "code",
   "execution_count": 7,
   "metadata": {},
   "outputs": [
    {
     "name": "stdout",
     "output_type": "stream",
     "text": [
      "Hi! I am a Begineer.\n"
     ]
    }
   ],
   "source": [
    "print(\"Hi! I am a Begineer.\")"
   ]
  },
  {
   "cell_type": "code",
   "execution_count": 8,
   "metadata": {},
   "outputs": [
    {
     "name": "stdout",
     "output_type": "stream",
     "text": [
      "1\n"
     ]
    }
   ],
   "source": [
    "a=1\n",
    "print(a)"
   ]
  },
  {
   "cell_type": "code",
   "execution_count": 9,
   "metadata": {},
   "outputs": [
    {
     "data": {
      "text/plain": [
       "int"
      ]
     },
     "execution_count": 9,
     "metadata": {},
     "output_type": "execute_result"
    }
   ],
   "source": [
    "type(a)"
   ]
  },
  {
   "cell_type": "code",
   "execution_count": 10,
   "metadata": {},
   "outputs": [
    {
     "name": "stdout",
     "output_type": "stream",
     "text": [
      "1.1\n"
     ]
    }
   ],
   "source": [
    "a = 1.1\n",
    "print(a)"
   ]
  },
  {
   "cell_type": "code",
   "execution_count": 11,
   "metadata": {},
   "outputs": [
    {
     "data": {
      "text/plain": [
       "float"
      ]
     },
     "execution_count": 11,
     "metadata": {},
     "output_type": "execute_result"
    }
   ],
   "source": [
    "type(a)"
   ]
  },
  {
   "cell_type": "code",
   "execution_count": 62,
   "metadata": {},
   "outputs": [
    {
     "name": "stdout",
     "output_type": "stream",
     "text": [
      "Python Programming\n"
     ]
    }
   ],
   "source": [
    "a = 'Python Programming'\n",
    "print(a)"
   ]
  },
  {
   "cell_type": "code",
   "execution_count": 13,
   "metadata": {},
   "outputs": [
    {
     "data": {
      "text/plain": [
       "str"
      ]
     },
     "execution_count": 13,
     "metadata": {},
     "output_type": "execute_result"
    }
   ],
   "source": [
    "type(a)"
   ]
  },
  {
   "cell_type": "code",
   "execution_count": 1,
   "metadata": {},
   "outputs": [
    {
     "name": "stdout",
     "output_type": "stream",
     "text": [
      "sum of two numbers is 5\n"
     ]
    }
   ],
   "source": [
    "a = 2\n",
    "b = 3\n",
    "print(\"sum of two numbers is\",a+b)"
   ]
  },
  {
   "cell_type": "markdown",
   "metadata": {},
   "source": [
    "**Day 2 -12/10/22**"
   ]
  },
  {
   "cell_type": "markdown",
   "metadata": {},
   "source": [
    "**Keywords** <br>\n",
    "Keywords are reserved words in python having a predefined meaning. We cannot use these words for any other purpose like variable names, function names or any other identifier, and are also case sensitive."
   ]
  },
  {
   "cell_type": "code",
   "execution_count": 2,
   "metadata": {},
   "outputs": [
    {
     "name": "stdout",
     "output_type": "stream",
     "text": [
      "['False', 'None', 'True', 'and', 'as', 'assert', 'async', 'await', 'break', 'class', 'continue', 'def', 'del', 'elif', 'else', 'except', 'finally', 'for', 'from', 'global', 'if', 'import', 'in', 'is', 'lambda', 'nonlocal', 'not', 'or', 'pass', 'raise', 'return', 'try', 'while', 'with', 'yield']\n",
      "Total number of keywords in Python: 35\n"
     ]
    },
    {
     "data": {
      "text/plain": [
       "list"
      ]
     },
     "execution_count": 2,
     "metadata": {},
     "output_type": "execute_result"
    }
   ],
   "source": [
    "import keyword\n",
    "print(keyword.kwlist)\n",
    "print(\"Total number of keywords in Python:\", len(keyword.kwlist))\n",
    "type(keyword.kwlist)"
   ]
  },
  {
   "cell_type": "code",
   "execution_count": 38,
   "metadata": {},
   "outputs": [
    {
     "name": "stdout",
     "output_type": "stream",
     "text": [
      "3.8.5 (default, Sep  3 2020, 21:29:08) [MSC v.1916 64 bit (AMD64)]\n"
     ]
    }
   ],
   "source": [
    "import sys\n",
    "print(sys.version)"
   ]
  },
  {
   "cell_type": "markdown",
   "metadata": {},
   "source": [
    "**History**<br>\n",
    "Developed by *Guido Van Rossum.*<br>\n",
    "Name was influenced from the comedy series \"Monty Python's Flying Circus\".<br>\n",
    "In December 1989 the implmentation for the python language started and first source code was released in 1991.<br>\n",
    "Latest version 3.10<br>\n",
    "**Features**<br>\n",
    "1) Easy to Learn<br>\n",
    "2) Easy to Code<br>\n",
    "3) Easy to Read<br>\n",
    "4) Object Oriented<br>\n",
    "5) High Level Language<br>\n",
    "6) Supports Multiple Paradigm<br>\n",
    "7) Free and Open Source <br>\n",
    "8) Interpreted <br>\n",
    "9) Dynamically Typed<br>\n",
    "10) Portable or Cross Platform<br>\n",
    "11) Extensible<br>\n",
    "12) Integrated <br>\n",
    "13) Interactive<br>\n",
    "14) GUI Support<br>\n",
    "15) Dynamic Memory Allocation<br>\n",
    "16) Automatic Garbage Collection<br>\n",
    "17) Large Library support<br>\n",
    "\n",
    "**Versions**<br>\n",
    "Python Version\tReleased Date<br>\n",
    "Python 1.0\tJanuary 1994<br>\n",
    "Python 1.5\tDecember 31, 1997<br>\n",
    "Python 1.6\tSeptember 5, 2000<br>\n",
    "Python 2.0\tOctober 16, 2000<br>\n",
    "Python 2.1\tApril 17, 2001<br>\n",
    "Python 2.2\tDecember 21, 2001<br>\n",
    "Python 2.3\tJuly 29, 2003<br>\n",
    "Python 2.4\tNovember 30, 2004<br>\n",
    "Python 2.5\tSeptember 19, 2006<br>\n",
    "Python 2.6\tOctober 1, 2008<br>\n",
    "Python 2.7\tJuly 3, 2010<br>\n",
    "Python 3.0\tDecember 3, 2008<br>\n",
    "Python 3.1\tJune 27, 2009<br>\n",
    "Python 3.2\tFebruary 20, 2011<br>\n",
    "Python 3.3\tSeptember 29, 2012<br>\n",
    "Python 3.4\tMarch 16, 2014<br>\n",
    "Python 3.5\tSeptember 13, 2015<br>\n",
    "Python 3.6\tDecember 23, 2016<br>\n",
    "Python 3.7\tJune 27, 2018<br>\n",
    "Python 3.8\tOctober 14, 2019<br>\n",
    "Python 3.9\tOctober 05, 2020<br>\n",
    "Python 3.10\tOctober 04, 2021<br>"
   ]
  },
  {
   "cell_type": "markdown",
   "metadata": {},
   "source": [
    "Python Programs can be run using two modes<br>\n",
    "1) Interactive Mode\n",
    "Python provides us the feature to execute the Python statement one by one at the interactive prompt. It is preferable in the case where we are concerned about the output of each line of our Python program. Use python Prompt<br>\n",
    "2) Script Mode\n",
    "The interpreter prompt is best to run the single-line statements of the code. However, we cannot write the code every-time on the terminal. It is not suitable to write multiple lines of code.\n",
    "\n",
    "Using the script mode, we can write multiple lines code into a file which can be executed later. For this purpose, we need to open an editor like notepad, create a file named and save it with .py extension, which stands for \"Python\".\n",
    "Open an Editor and write your python code. Save the file using .py extension. Open the Command Prompt and navigate to the directory holding the .py file. Now type python followed by filename.py<br>"
   ]
  },
  {
   "cell_type": "markdown",
   "metadata": {},
   "source": [
    "**Day 3 - 14/10/22**"
   ]
  },
  {
   "cell_type": "markdown",
   "metadata": {},
   "source": [
    "**Identifiers**<br>\n",
    "\n",
    "An identifier is a user-defined name to represent a variable, a function, a class, a module, or any other object.\n",
    "\n",
    "**Rules for Naming Identifiers**<br>\n",
    "a. A Python identifier can be a combination of lowercase/ uppercase letters, digits, or an underscore.<br>\n",
    "b. An identifier cannot begin with a digit.<br>\n",
    "c. We cannot use special symbols in the identifier name.<br>\n",
    "d. We cannot use a keyword as an identifier.<br>\n",
    "e. Python identifier can’t contain only digits.<br>\n",
    "f. Python identifier name can start with an underscore.<br>\n",
    "g. There is no limit on the length of the identifier name.<br>\n",
    "h. Python identifier names are case-sensitive.<br>\n",
    "\n",
    "Best Practice:\n",
    "1. Class names should start with capital letters. For example Person, Employee, etc.<br>\n",
    "2. If the class name has multiple words, use Uppercase for the first character of each word. For example EmployeeData, StringUtils, etc.<br>\n",
    "3. You should use small letters for variables, functions, and module names. For example, collections, foo(), etc.<br>\n",
    "4. If variables, functions, and module names have multiple words then separate them with an underscore. For example, is_empty(), employee_object, etc.<br>\n",
    "5. For private variables, you can start their names with an underscore.<br>\n",
    "6. Avoid underscore as the first and last character in the identifier name. It’s used by python built-in types.<br>\n",
    "7. If the identifier starts and ends with two underscores, then it means that the identifier is a language-defined special name, such as __init__. So you should avoid having two underscores at the start and the end of the identifier name.<br>\n",
    "8. Keep identifier names meaningful to clarify their intent. For example, phone_number, is_uppercase, etc.<br>\n",
    "9. camel case for naming. Let’s just clear the air here by saying camel case is myVarOne<br>\n",
    "\n",
    "To check whether you have not used a keyword as an identifier. Either remeber the list of keywords provided in Keyword module or import keyword module and use is iskeyword() function.<br>\n",
    "Example : <br>\n",
    "\n",
    "import keyword<br>\n",
    "keyword.iskeyword('_$$_') it will return True or False. True for the string is present in Keyword list.<br>\n",
    "\n",
    "To check any string is a valid identifier. use isindentifier() function of the str.<br>\n",
    "\n",
    "'9lives'.isidentifier() it will return True or False<br>\n",
    "\n",
    "Note : Use of underscore is somewhat different. Go through References for better understanding<br>\n",
    "Reference:https://data-flair.training/blogs/identifiers-in-python/ <br>\n",
    "https://www.askpython.com/python/python-identifiers-rules-best-practices<br>\n",
    "https://dbader.org/blog/meaning-of-underscores-in-python <br>\n",
    "https://towardsdatascience.com/5-different-meanings-of-underscore-in-python-3fafa6cd0379  (Essential Reading)"
   ]
  },
  {
   "cell_type": "code",
   "execution_count": 1,
   "metadata": {},
   "outputs": [
    {
     "data": {
      "text/plain": [
       "['ArithmeticError',\n",
       " 'AssertionError',\n",
       " 'AttributeError',\n",
       " 'BaseException',\n",
       " 'BlockingIOError',\n",
       " 'BrokenPipeError',\n",
       " 'BufferError',\n",
       " 'BytesWarning',\n",
       " 'ChildProcessError',\n",
       " 'ConnectionAbortedError',\n",
       " 'ConnectionError',\n",
       " 'ConnectionRefusedError',\n",
       " 'ConnectionResetError',\n",
       " 'DeprecationWarning',\n",
       " 'EOFError',\n",
       " 'Ellipsis',\n",
       " 'EnvironmentError',\n",
       " 'Exception',\n",
       " 'False',\n",
       " 'FileExistsError',\n",
       " 'FileNotFoundError',\n",
       " 'FloatingPointError',\n",
       " 'FutureWarning',\n",
       " 'GeneratorExit',\n",
       " 'IOError',\n",
       " 'ImportError',\n",
       " 'ImportWarning',\n",
       " 'IndentationError',\n",
       " 'IndexError',\n",
       " 'InterruptedError',\n",
       " 'IsADirectoryError',\n",
       " 'KeyError',\n",
       " 'KeyboardInterrupt',\n",
       " 'LookupError',\n",
       " 'MemoryError',\n",
       " 'ModuleNotFoundError',\n",
       " 'NameError',\n",
       " 'None',\n",
       " 'NotADirectoryError',\n",
       " 'NotImplemented',\n",
       " 'NotImplementedError',\n",
       " 'OSError',\n",
       " 'OverflowError',\n",
       " 'PendingDeprecationWarning',\n",
       " 'PermissionError',\n",
       " 'ProcessLookupError',\n",
       " 'RecursionError',\n",
       " 'ReferenceError',\n",
       " 'ResourceWarning',\n",
       " 'RuntimeError',\n",
       " 'RuntimeWarning',\n",
       " 'StopAsyncIteration',\n",
       " 'StopIteration',\n",
       " 'SyntaxError',\n",
       " 'SyntaxWarning',\n",
       " 'SystemError',\n",
       " 'SystemExit',\n",
       " 'TabError',\n",
       " 'TimeoutError',\n",
       " 'True',\n",
       " 'TypeError',\n",
       " 'UnboundLocalError',\n",
       " 'UnicodeDecodeError',\n",
       " 'UnicodeEncodeError',\n",
       " 'UnicodeError',\n",
       " 'UnicodeTranslateError',\n",
       " 'UnicodeWarning',\n",
       " 'UserWarning',\n",
       " 'ValueError',\n",
       " 'Warning',\n",
       " 'WindowsError',\n",
       " 'ZeroDivisionError',\n",
       " '__IPYTHON__',\n",
       " '__build_class__',\n",
       " '__debug__',\n",
       " '__doc__',\n",
       " '__import__',\n",
       " '__loader__',\n",
       " '__name__',\n",
       " '__package__',\n",
       " '__spec__',\n",
       " 'abs',\n",
       " 'all',\n",
       " 'any',\n",
       " 'ascii',\n",
       " 'bin',\n",
       " 'bool',\n",
       " 'breakpoint',\n",
       " 'bytearray',\n",
       " 'bytes',\n",
       " 'callable',\n",
       " 'chr',\n",
       " 'classmethod',\n",
       " 'compile',\n",
       " 'complex',\n",
       " 'copyright',\n",
       " 'credits',\n",
       " 'delattr',\n",
       " 'dict',\n",
       " 'dir',\n",
       " 'display',\n",
       " 'divmod',\n",
       " 'enumerate',\n",
       " 'eval',\n",
       " 'exec',\n",
       " 'execfile',\n",
       " 'filter',\n",
       " 'float',\n",
       " 'format',\n",
       " 'frozenset',\n",
       " 'get_ipython',\n",
       " 'getattr',\n",
       " 'globals',\n",
       " 'hasattr',\n",
       " 'hash',\n",
       " 'help',\n",
       " 'hex',\n",
       " 'id',\n",
       " 'input',\n",
       " 'int',\n",
       " 'isinstance',\n",
       " 'issubclass',\n",
       " 'iter',\n",
       " 'len',\n",
       " 'license',\n",
       " 'list',\n",
       " 'locals',\n",
       " 'map',\n",
       " 'max',\n",
       " 'memoryview',\n",
       " 'min',\n",
       " 'next',\n",
       " 'object',\n",
       " 'oct',\n",
       " 'open',\n",
       " 'ord',\n",
       " 'pow',\n",
       " 'print',\n",
       " 'property',\n",
       " 'range',\n",
       " 'repr',\n",
       " 'reversed',\n",
       " 'round',\n",
       " 'runfile',\n",
       " 'set',\n",
       " 'setattr',\n",
       " 'slice',\n",
       " 'sorted',\n",
       " 'staticmethod',\n",
       " 'str',\n",
       " 'sum',\n",
       " 'super',\n",
       " 'tuple',\n",
       " 'type',\n",
       " 'vars',\n",
       " 'zip']"
      ]
     },
     "execution_count": 1,
     "metadata": {},
     "output_type": "execute_result"
    }
   ],
   "source": [
    "dir(__builtins__)"
   ]
  },
  {
   "cell_type": "code",
   "execution_count": 3,
   "metadata": {},
   "outputs": [
    {
     "data": {
      "text/plain": [
       "False"
      ]
     },
     "execution_count": 3,
     "metadata": {},
     "output_type": "execute_result"
    }
   ],
   "source": [
    "'_' in dir(__builtins__)"
   ]
  },
  {
   "cell_type": "code",
   "execution_count": 4,
   "metadata": {},
   "outputs": [
    {
     "data": {
      "text/plain": [
       "2"
      ]
     },
     "execution_count": 4,
     "metadata": {},
     "output_type": "execute_result"
    }
   ],
   "source": [
    "1+1"
   ]
  },
  {
   "cell_type": "code",
   "execution_count": 5,
   "metadata": {},
   "outputs": [
    {
     "data": {
      "text/plain": [
       "False"
      ]
     },
     "execution_count": 5,
     "metadata": {},
     "output_type": "execute_result"
    }
   ],
   "source": [
    "'_' in dir(__builtins__)"
   ]
  },
  {
   "cell_type": "code",
   "execution_count": 8,
   "metadata": {},
   "outputs": [
    {
     "data": {
      "text/plain": [
       "False"
      ]
     },
     "execution_count": 8,
     "metadata": {},
     "output_type": "execute_result"
    }
   ],
   "source": [
    "_"
   ]
  },
  {
   "cell_type": "markdown",
   "metadata": {},
   "source": [
    "**Day 4**"
   ]
  },
  {
   "cell_type": "markdown",
   "metadata": {},
   "source": [
    "**Variables**<br>\n",
    "Variables are containers for storing data values. or reserved memory locations to store and manipulate values.<br>\n",
    "\n",
    "A Python variable is a symbolic name that is a reference or pointer to an object. Once an object is assigned to a variable, you can refer to the object by that name. But the data itself is still contained within the object.<br>\n",
    "n = 10 <br>\n",
    "This assignment creates an integer object with the value 10 and assigns the variable n to point to that object.<br>\n",
    " m = n<br>\n",
    "What happens when it is executed? Python does not create another object. It simply creates a new symbolic name or reference, m, which points to the same object that n points to.<br>\n",
    "m = 400<br>\n",
    "n = foo<br>\n",
    "\n",
    "There is no longer any reference to the integer object 10 . It is orphaned, and there is no way to access it.<br>\n",
    "An object’s life begins when it is created, at which time at least one reference to it is created. During an object’s lifetime, additional references to it may be created, as you saw above, and references to it may be deleted as well. An object stays alive, as it were, so long as there is at least one reference to it.<br>\n",
    "\n",
    "When the number of references to an object drops to zero, it is no longer accessible. At that point, its lifetime is over. <br>Python will eventually notice that it is inaccessible and reclaim the allocated memory so it can be used for something else.  this process is referred to as garbage collection.<br>\n",
    "\n",
    "In Python, every object that is created is given a number that uniquely identifies it. It is guaranteed that no two objects will have the same unique number during any period in which their lifetimes overlap. Once an object’s reference count drops to zero and it is garbage collected, as happened to the 10 object above, then its identifying number becomes available and may be used again.<br>\n",
    "The built-in Python function id() returns an object’s integer identifier. Using the id() function, you can verify that two variables indeed point to the same object:\n",
    "<br>\n",
    "n = 300<br>\n",
    "m = n<br>\n",
    "After the assignment m = n, m and n both point to the same object, confirmed by the fact that id(m) and id(n) return the same number. <br>\n",
    "id(n)<br>\n",
    "60127840<br>\n",
    "id(m)<br>\n",
    "60127840<br>\n",
    "\n",
    "Once m is reassigned to 400, m and n point to different objects with different identities.<br>\n",
    "m = 400<br>\n",
    "id(m)<br>\n",
    "60127872<br>\n",
    "\n",
    "**Caching Small Integer Values**<br>\n",
    "try<br>\n",
    "m=1<br>\n",
    "id(m)<br>\n",
    "n=1<br>\n",
    "id(n)<br>\n",
    "Whats the result? Answer to the solution is interning<br>\n",
    "\n",
    "**Integer interning**<br>\n",
    "At startup, Python pre-loads/caches a list of integers into the memory. These are in the range -5 to +256. Any time when we try to create an integer object within this range, Python automatically refer to these objects in the memory instead of creating new integer objects.<br>\n",
    "\n",
    "**String interning**<br>\n",
    "Like integers, some of the strings also get interned. Generally, any string that satisfies the identifier naming convention will get interned. Sometimes there will be exceptions. So, don’t rely on it.<br>\n",
    "\n",
    "z = \"data\"<br>\n",
    "y = \"data\"<br>\n",
    "print(id(z))<br>\n",
    "print(id(y))<br>\n",
    "\n",
    "https://towardsdatascience.com/optimization-in-python-interning-805be5e9fd3e<br>\n",
    "https://towardsdatascience.com/python-memory-and-objects-e7bec4a2845<br>\n",
    "\n",
    "**Examples of Variables**<br>\n",
    "A =10 ( python knows it is integer)<br>\n",
    "B= 1.2 (float)<br>\n",
    "C = 1+3j (complex)<br>\n",
    "D=“Hello” or ‘Hello’ (string)<br>\n",
    "\n",
    "x = 5 <br>\n",
    "y = \"John\"<br>\n",
    "var = 23.5<br>\n",
    "<br>\n",
    "If you want to specify the data type of a variable, this can be done with casting.<br>\n",
    "<br>\n",
    "Example<br>\n",
    "x = str(3)    # x will be '3'<br>\n",
    "y = int(3)    # y will be 3<br>\n",
    "z = float(3)  # z will be 3.0<br>\n",
    "\n",
    "**Multiple Assignments**<br>\n",
    "\n",
    "Python allows you to assign a single value to several variables simultaneously. For example −<br>\n",
    "\n",
    "a = b = c = 1<br>\n",
    "Here, an integer object is created with the value 1, and all three variables are assigned to the same memory location.<br>\n",
    "\n",
    "You can also assign multiple objects to multiple variables. For example −<br>\n",
    "\n",
    "a,b,c = 1,2,\"john\"<br>\n",
    "Here, two integer objects with values 1 and 2 are assigned to variables a and b respectively, and one string object with the value \"john\" is assigned to the variable c.<br>\n",
    "\n",
    " x,y,z = \"Orange\", \"Banana\", 'Cherry'<br>\n",
    " print(x)<br>\n",
    " print(y)<br>\n",
    " print(z)<br>\n",
    " \n",
    " x = y = z = \"Mango\"<br>\n",
    " print(x)<br>\n",
    " print(y)<br>\n",
    " print(z)<br>\n",
    " \n",
    "A number in python can be represented in these forms:<br>\n",
    "\n",
    "1. Decimal form (base 10)<br>\n",
    "The allowed digits are : 0 to 9\n",
    "\n",
    "2. Binary form (base 2)<br>\n",
    "The allowed digits are : 0 & 1<br>\n",
    "Literal value should be prefixed with 0b or 0B<br>\n",
    "Eg:<br>\n",
    "a = 0B1111<br>\n",
    "a =0B123 (NOT ALLOWED)<br>\n",
    "a=b111 (NOT ALLOWED)<br>\n",
    "\n",
    "3. Octal form (base 8)<br>\n",
    "The allowed digits are : 0 to 7<br>\n",
    "Literal value should be prefixed with 0o or 0O.<br>\n",
    "Eg: a=0o123<br>\n",
    "\n",
    "4. Hexa decimal form (base 16)<br>\n",
    "The allowed digits are : 0 to 9, a-f (both lower and upper cases are allowed)<br>\n",
    "Literal value should be prefixed with 0x or 0X<br>\n",
    "Eg:<br>\n",
    " a =0XFACE<br>\n",
    " \n",
    "We can also do Base conversion by using in-built functions for base conversions<br>\n",
    "1.bin():<br>\n",
    "We can use bin() to convert from any base to binary<br>\n",
    "2. oct():<br>\n",
    "We can use oct() to convert from any base to octal<br>\n",
    "3. hex():<br>\n",
    "We can use hex() to convert from any base to hexa decimal<br>\n",
    "\n",
    "**float data type**:<br>\n",
    "We can use float data type to represent floating point values (decimal values)<br>\n",
    "Eg: <br>\n",
    "f=1.234<br>\n",
    "type(f) float<br>\n",
    "We can also represent floating point values by using exponential form (scientific notation)<br>\n",
    "Eg: <br>\n",
    "f=1.2e3<br>\n",
    "print(f) 1200.0<br>\n",
    "instead of 'e' we can use 'E'<br>\n",
    "The main advantage of exponential form is we can represent big values in less memory.<br>\n",
    "***Note:We can represent int values in decimal, binary, octal and hexa decimal forms. But we can represent float values only by using decimal form.**<br>\n",
    "\n",
    "**Complex Data Type:**<br>\n",
    "A complex number is of the form a+bj (where a is called real part and b is called imaginary part)<br>\n",
    "a and b contain intergers or floating point values<br>\n",
    " Eg:<br>\n",
    " 3+5j<br>\n",
    " 10+5.5j<br>\n",
    " 0.5+0.1j<br>\n",
    "In the real part if we use int value then we can specify that either by decimal,octal,binary or hexa decimal form.<br>\n",
    "But imaginary part should be specified only by using decimal form.<br>\n",
    "1) >>> a=0B11+5j<br>\n",
    "2) >>> a<br>\n",
    "3) (3+5j)<br>\n",
    "4) >>> a=3+0B11j<br>\n",
    "5) SyntaxError: invalid syntax<br>\n",
    "Even we can perform operations on complex type values.<br>\n",
    "1) >>> a=10+1.5j<br>\n",
    "2) >>> b=20+2.5j<br>\n",
    "3) >>> c=a+b<br>\n",
    "4) >>> print(c)<br>\n",
    "5) (30+4j)<br>\n",
    "6) >>> type(c)<br>\n",
    "7) <class 'complex'> <br>\n",
    "\n",
    "we can use builtin attributes, to extraxt the values<br>\n",
    "a=10+1.5j<br>\n",
    "a.real<br>\n",
    "a.imag<br>\n",
    "\n",
    "**bool data type:**<br>\n",
    "We can use this data type to represent boolean values.The only allowed values for this data type are:<br>\n",
    "True and False<br>\n",
    "Internally Python represents True as 1 and False as 0<br>\n",
    "b=True<br>\n",
    "type(b) =>bool<br>\n",
    "Eg:<br>\n",
    "a=10<br>\n",
    "b=20<br>\n",
    "c=a<b<br>\n",
    "print(c)==>True<br>\n",
    "True+True==>2<br>\n",
    "True-False==>1<br>\n",
    "\n",
    "**None-Type**\n",
    "There is a simple type, NoneType that has exactly one object: None. None is used to represent “null”… nothing.\n",
    "`None` is the *only* object belonging to NoneType , and is often used as a placeholder in code.<br>\n",
    "type(None)<br>\n",
    "NoneType<br>\n",
    "\n",
    "Example:<br>\n",
    "large_num = None<br>\n",
    "\n",
    "for number in [1, 2, 3, 4]:<br>\n",
    "    if number > 10:<br>\n",
    "        large_num = number<br>\n",
    "        break<br>\n",
    "\n",
    "if large_num is None:<br>\n",
    "    print(\"The list did not contain any number larger than 10\")<br>"
   ]
  },
  {
   "cell_type": "code",
   "execution_count": 66,
   "metadata": {},
   "outputs": [
    {
     "name": "stdout",
     "output_type": "stream",
     "text": [
      "10\n",
      "7\n",
      "16\n",
      "2\n"
     ]
    }
   ],
   "source": [
    "a=10\n",
    "b=0o007\n",
    "c=0X10\n",
    "d=0B10\n",
    "print(a)\n",
    "print(b)\n",
    "print(c)\n",
    "print(d)"
   ]
  },
  {
   "cell_type": "code",
   "execution_count": 3,
   "metadata": {},
   "outputs": [
    {
     "name": "stdout",
     "output_type": "stream",
     "text": [
      "1) False\n",
      "2) True\n",
      "3) True\n",
      "4) True\n",
      "5) True\n",
      "6) False\n",
      "7) True\n",
      "8) True\n",
      "9) False\n",
      "10) True\n",
      "11) True\n",
      "12) False\n"
     ]
    }
   ],
   "source": [
    "print(\"1)\",bool(0)) #==>False\n",
    "print(\"2)\",bool(1)) #==>True\n",
    "print(\"3)\",bool(10)) #===>True\n",
    "print(\"4)\",bool(10.5)) #===>True\n",
    "print(\"5)\",bool(0.178)) #==>True\n",
    "print(\"6)\",bool(0.0)) #==>False\n",
    "print(\"7)\",bool(10-2j)) #==>True\n",
    "print(\"8)\",bool(0+1.5j)) #==>True\n",
    "print(\"9)\",bool(0+0j)) #==>False\n",
    "print(\"10)\",bool(\"True\")) #==>True\n",
    "print(\"11)\",bool(\"False\")) #==>True\n",
    "print(\"12)\",bool(\"\")) #==>False"
   ]
  },
  {
   "cell_type": "code",
   "execution_count": 3,
   "metadata": {},
   "outputs": [
    {
     "data": {
      "text/plain": [
       "2"
      ]
     },
     "execution_count": 3,
     "metadata": {},
     "output_type": "execute_result"
    }
   ],
   "source": [
    "True * 2"
   ]
  },
  {
   "cell_type": "markdown",
   "metadata": {},
   "source": [
    "**Day 5**"
   ]
  },
  {
   "cell_type": "markdown",
   "metadata": {},
   "source": [
    "**Python Statements**\n",
    "Instructions that a Python interpreter can execute are called statements.\n",
    "like a=1 , if statement, for statement etc\n",
    "\n",
    "The statements which are used to assign a value to the variable are called as assignment statements.\n",
    "\n",
    "The assignment statement gives a value to a variable:\n",
    "\n",
    "message = \"What's up, Doc?\"<br>\n",
    "n = 17<br>\n",
    "pi = 3.14159<br>\n",
    "\n",
    "This example makes three assignments. The first assigns the string value \"What's up, Doc?\" to a variable named message. The second gives the integer 17 to n, and the third assigns the floating-point number 3.14159 to a variable called pi.\n",
    "\n",
    "The assignment token, =, should not be confused with equals, which uses the token ==. The assignment statement binds a name, on the left-hand side of the operator, to a value, on the right-hand side. This is why you will get an error if you enter:\n",
    "\n",
    "17 = n <br>\n",
    "File \"<interactive input>\", line 1<br>\n",
    "SyntaxError: can't assign to literal<br>\n",
    "Tip: When reading or writing code, say to yourself “n is assigned 17” or “n gets the value 17”. Don’t say “n equals 17”.\n",
    "\n",
    "A common way to represent variables on paper is to write the name with an arrow pointing to the variable’s value. This kind of figure is called a state snapshot because it shows what state each of the variables is in at a particular instant in time. (Think of it as the variable’s state of mind). \n",
    "<br>\n",
    "\n",
    "**Expressions**\n",
    "   \n",
    "An expression is a combination of values, variables, operators, and calls to functions. If you type an expression at the Python prompt, the interpreter evaluates it and displays the result:\n",
    "\n",
    "1 + 1 <br>\n",
    "2<br>\n",
    "len(\"hello\")<br>\n",
    "5<br>\n",
    "    \n",
    "In this example len is a built-in Python function that returns the number of characters in a string. We’ve previously seen the print and the type functions, so this is our third example of a function!\n",
    "\n",
    "The evaluation of an expression produces a value, which is why expressions can appear on the right hand side of assignment statements. A value all by itself is a simple expression, and so is a variable.\n",
    "\n",
    "17 <br>\n",
    "y = 3.14<br>\n",
    "x = len(\"hello\")<br>\n",
    "print(x)<br>\n",
    "5<br>\n",
    "print(y)<br>\n",
    "3.14<br>\n",
    "    \n",
    "**Operators and operands**\n",
    "Operators are special tokens that represent computations like addition, multiplication and division. The values the operator uses are called operands.\n",
    "The tokens +, -, and *, and the use of parenthesis for grouping, mean in Python what they mean in mathematics. The asterisk (*) is the token for multiplication, and ** is the token for exponentiation.\n",
    "\n",
    "1) >>> 2 ** 3 <br>\n",
    "2) 8<br>\n",
    "3) >>> 3 ** 2<br>\n",
    "4) 9<br>\n",
    "When a variable name appears in the place of an operand, it is replaced with its value before the operation is performed.\n",
    "\n",
    "Addition, subtraction, multiplication, and exponentiation all do what you expect.\n",
    "\n",
    "Example: so let us convert 645 minutes into hours:\n",
    "\n",
    "1)>>> minutes = 645<br>\n",
    "2)>>> hours = minutes / 60<br>\n",
    "3)>>> hours<br>\n",
    "10.75<br>\n",
    "\n",
    "In Python 3, the division operator / always yields a floating point result. What we might have wanted to know was how many whole hours there are, and how many minutes remain. Python gives us two different flavors of the division operator. The second, called floor division uses the token //. Its result is always a whole number.\n",
    "\n",
    "7 / 4<br>\n",
    "1.75<br>\n",
    "7 // 4<br><br>\n",
    "1\n",
    "minutes = 645<br>\n",
    "hours = minutes // 60<br>\n",
    "hours<br>\n",
    "10<br>\n",
    "\n",
    "**Type converter functions**\n",
    "\n",
    "Here we’ll look at three more Python functions, int, float and str, which will (attempt to) convert their arguments into types int, float and str respectively. We call these type converter functions.\n",
    "\n",
    "The int function can take a floating point number or a string, and turn it into an int. For floating point numbers, it discards the decimal portion of the number — a process we call truncation towards zero on the number line. Let us see this in action.\n",
    ">>> int(3.14)<br>\n",
    "3<br>\n",
    ">>> int(3.9999)             # This doesn't round to the closest int!<br>\n",
    "3<br>\n",
    ">>> int(3.0)<br>\n",
    "3<br>\n",
    ">>> int(-3.999)             # Note that the result is closer to zero<br>\n",
    "-3<br>\n",
    ">>> int(minutes / 60)<br>\n",
    "10<br>\n",
    ">>> int(\"2345\")             # Parse a string to produce an int<br>\n",
    "2345<br>\n",
    ">>> int(17)                 # It even works if arg is already an int<br>\n",
    "17<br>\n",
    ">>> int(\"23 bottles\")<br>\n",
    "This last case doesn’t look like a number — what do we expect?<br>\n",
    "\n",
    "Traceback (most recent call last):<br>\n",
    "File \"<interactive input>\", line 1, in <module><br>\n",
    "ValueError: invalid literal for int() with base 10: '23 bottles'<br>\n",
    "\n",
    "The type converter float can turn an integer, a float, or a syntactically legal string into a float:<br>\n",
    "\n",
    ">>> float(17)<br>\n",
    "17.0<br>\n",
    ">>> float(\"123.45\")<br>\n",
    "123.45<br>\n",
    "\n",
    "The type converter str turns its argument into a string:\n",
    "\n",
    ">>> str(17)<br>\n",
    "'17'<br>\n",
    ">>> str(123.45)<br>\n",
    "'123.45'<br>\n",
    "    \n",
    "**Multi-line statement**\n",
    "\n",
    "Explicit Line Continuation is marked by backslash in last \n",
    "a = 1 + 2 + 3 + \\\n",
    "      4 + 5 + 6 + \\\n",
    "      7 + 8 + 9\n",
    "<br>Implicit line continuation is always available inside brackets.\n",
    "a = (1 + 2 + 3 +\n",
    "       4 + 5 + 6 +\n",
    "        7 + 8 + 9)\n",
    "        \n",
    "We can also put multi line statements in a single statement using ;\n",
    "A=1;b=2;c=3;\n",
    "\n",
    "**String Formatters**<br>\n",
    "X= 10; printer=\"HP\"  \n",
    "X, printer = 10 , \"HP\"\n",
    "\n",
    "print(\" I just printed %s pages from the printer %s\"%(X,printer))  # % string formatter\n",
    "\n",
    "I just printed 10 pages from the printer HP\n",
    "\n",
    "print(\"I just printed {0} pages from the printer {1}\".format(X,printer)) #format\n",
    "I just printed 10 pages from the printer HP\n",
    "\n",
    "print(\"I just printed {X} pages from the printer {printer}\".format(X=11,printer=\"Epson\")) #format with assignment\n",
    "I just printed 11 pages from the printer Epson\n",
    "\n",
    "print(f\" I just printed {x} pages from the printer {printer}\")  # f-strings\n",
    " I just printed Mango pages from the printer HP"
   ]
  },
  {
   "cell_type": "code",
   "execution_count": 67,
   "metadata": {},
   "outputs": [
    {
     "name": "stdout",
     "output_type": "stream",
     "text": [
      " I just printed 10 pages from the printer HP\n"
     ]
    }
   ],
   "source": [
    "X= 10; printer=\"HP\"  \n",
    "X, printer = 10 , \"HP\"\n",
    "\n",
    "print(\" I just printed %s pages from the printer %s\"%(X,printer))  # % string formatter"
   ]
  },
  {
   "cell_type": "code",
   "execution_count": 3,
   "metadata": {},
   "outputs": [
    {
     "name": "stdout",
     "output_type": "stream",
     "text": [
      "I just printed 10 pages from the printer HP\n"
     ]
    }
   ],
   "source": [
    "print(\"I just printed {0} pages from the printer {1}\".format(X,printer)) #format"
   ]
  },
  {
   "cell_type": "code",
   "execution_count": 69,
   "metadata": {},
   "outputs": [
    {
     "name": "stdout",
     "output_type": "stream",
     "text": [
      "Faculty of Engineering & Technolgy, A computer science Engineering in .\n",
      "This article is written in Python\n",
      "Hello, I am 18 years old !\n"
     ]
    }
   ],
   "source": [
    "# Python3 program to demonstrate\n",
    "# the str.format() method\n",
    "\n",
    "# using format option in a simple string\n",
    "print(\"{}, A computer science Engineering in .\".format(\"Faculty of Engineering & Technolgy\"))\n",
    "\n",
    "# using format option for a\n",
    "# value stored in a variable\n",
    "str = \"This article is written in {}\"\n",
    "print(str.format(\"Python\"))\n",
    "\n",
    "# formatting a string using a numeric constant\n",
    "print(\"Hello, I am {} years old !\".format(18))"
   ]
  },
  {
   "cell_type": "code",
   "execution_count": 4,
   "metadata": {},
   "outputs": [
    {
     "name": "stdout",
     "output_type": "stream",
     "text": [
      "I just printed 11 pages from the printer Epson\n"
     ]
    }
   ],
   "source": [
    "print(\"I just printed {X} pages from the printer {printer}\".format(X=11,printer=\"Epson\")) #format with assignment"
   ]
  },
  {
   "cell_type": "code",
   "execution_count": 6,
   "metadata": {},
   "outputs": [
    {
     "name": "stdout",
     "output_type": "stream",
     "text": [
      " I just printed 10 pages from the printer HP\n"
     ]
    }
   ],
   "source": [
    "print(f\" I just printed {X} pages from the printer {printer}\")  # f-strings"
   ]
  },
  {
   "cell_type": "code",
   "execution_count": 8,
   "metadata": {},
   "outputs": [
    {
     "name": "stdout",
     "output_type": "stream",
     "text": [
      "Hi ! My name is User and I am 19 years old\n",
      "This is one two three four\n",
      "Fetians love FET!!\n",
      "FET love Fetians!!\n",
      "Every programmer should know the use of Open Source programming and Operating Systems\n",
      "Every Operating Systems should know the use of Source Open programming and programmer\n",
      "GeeksforGeeks is a computer science portal for geeks\n"
     ]
    }
   ],
   "source": [
    "# Python program using multiple place\n",
    "# holders to demonstrate str.format() method\n",
    "\n",
    "# different datatypes can be used in formatting\n",
    "print(\"Hi ! My name is {} and I am {} years old\".format(\"User\", 19))\n",
    "\n",
    "# The values passed as parameters\n",
    "# are replaced in order of their entry\n",
    "print(\"This is {} {} {} {}\".format(\"one\", \"two\", \"three\", \"four\"))\n",
    "\n",
    "#positional arguments are placed in order\n",
    "print(\"{0} love {1}!!\".format(\"Fetians\",\"FET\"))\n",
    "\n",
    "# Reverse the index numbers with the\n",
    "# parameters of the placeholders\n",
    "print(\"{1} love {0}!!\".format(\"Fetians\",\"FET\"))\n",
    "\n",
    "print(\"Every {} should know the use of {} {} programming and {}\".format(\"programmer\", \"Open\", \"Source\",\"Operating Systems\"))\n",
    "\n",
    "# Use the index numbers of the\n",
    "# values to change the order that\n",
    "# they appear in the string\n",
    "print(\"Every {3} should know the use of {2} {1} programming and {0}\".format(\"programmer\", \"Open\", \"Source\",\"Operating Systems\"))\n",
    "\n",
    "# Keyword arguments are called\n",
    "# by their keyword name\n",
    "print(\"{gfg} is a {0} science portal for {1}\".format(\"computer\", \"geeks\", gfg=\"GeeksforGeeks\"))"
   ]
  },
  {
   "cell_type": "markdown",
   "metadata": {},
   "source": [
    "**Strings**\n",
    "\n",
    "class str represents the Strings in Python.<br>\n",
    "Strings in Python can be enclosed in either single quotes (') or double quotes (\"), or three of each (''' or \"\"\").<br>\n",
    "Example <br>\n",
    "\n",
    "\"Hello\"<br>\n",
    "'Hello'<br>\n",
    "'''Hello'''<br>\n",
    "\"\"\"Hello\"\"\"<br>\n",
    "\n",
    ">>> type('This is a string.')<br>\n",
    "<class 'str'><br>\n",
    ">>> type(\"And so is this.\")<br>\n",
    "<class 'str'><br>\n",
    ">>> type(\"\"\"and this.\"\"\")<br>\n",
    "<class 'str'><br>\n",
    ">>> type('''and even this...''')<br>\n",
    "<class 'str'><br>\n",
    "\n",
    "Double quoted strings can contain single quotes inside them, as in \"Bruce's beard\", and single quoted strings can have double quotes inside them, as in 'The knights who say \"Ni!\"'.<br>\n",
    "\n",
    "Strings enclosed with three occurrences of either quote symbol are called triple quoted strings. They can contain either single or double quotes:<br>\n",
    "\n",
    ">>> print('''\"Oh no\", she exclaimed, \"Ben's bike is broken!\"''')<br>\n",
    "\"Oh no\", she exclaimed, \"Ben's bike is broken!\"<br>\n",
    "\n",
    "Triple quoted strings can even span multiple lines:<br>\n",
    "\n",
    ">>> message = \"\"\"This message will<br>\n",
    "... span several<br>\n",
    "... lines.\"\"\"<br>\n",
    ">>> print(message)<br>\n",
    "This message will<br>\n",
    "span several<br>\n",
    "lines.<br>\n",
    "\n",
    "Python doesn’t care whether you use single or double quotes or the three-of-a-kind quotes to surround your strings: once it has parsed the text of your program or command, the way it stores the value is identical in all cases, and the surrounding quotes are not part of the value.\n",
    "\n",
    "**String Slicing**\n",
    "String are just represented as Arrays and supports Slicing\n",
    "\n",
    "slice means a piece<br>\n",
    "[] operator is called slice operator,which can be used to retrieve parts of String.<br>\n",
    "In Python Strings follows zero based index.<br>\n",
    "The index can be either +ve or -ve.<br>\n",
    "+ve index means forward direction from Left to Right<br>\n",
    "-ve index means backward direction from Right to Left<br>\n",
    "\n",
    "Example<br>\n",
    "s = \"Fetians\"<br>\n",
    "indexing starts from 0 to length -1<br>\n",
    "s[0] -->'F' , s[1] -->'e',s[2] -->'t', s[3] -->'i',s[4] -->'a',s[5] -->'n',s[6] -->'s'<br>\n",
    "\n",
    "Strings are immutable (Not changeable) <br>\n",
    "\ta = “ Namit”  ---a[0] = ‘S’ ---ERROR <br>\n",
    "For shorter strings with same value, they are stored at one place and reference is shared with different variables. That’s why strings are made immutable, so changes occur and both variables can have consistent view of the string.<br>\n",
    "\n",
    "The slice s[start:end] is the elements beginning at start and extending up to but not including end. Suppose we have s = \"Hello“<br>\n",
    "s[1:4] is 'ell' -- chars starting at index 1 and extending up to but not including index 4<br>\n",
    "s[1:] is 'ello' -- omitting either index defaults to the start or end of the string<br>\n",
    "s[:] is 'Hello' -- omitting both always gives us a copy of the whole thing (this is the pythonic way to copy a sequence like a string or list)<br>\n",
    "s[1:100] is 'ello' -- an index that is too big is truncated down to the string length<br>\n",
    "\n",
    "Python also supports negative indexing<br>\n",
    "negative indexing starts with -1, which represents the last character.<br>"
   ]
  },
  {
   "cell_type": "code",
   "execution_count": 24,
   "metadata": {},
   "outputs": [],
   "source": [
    "s= 'Fetians'"
   ]
  },
  {
   "cell_type": "code",
   "execution_count": 26,
   "metadata": {},
   "outputs": [
    {
     "name": "stdout",
     "output_type": "stream",
     "text": [
      "F\n",
      "e\n",
      "t\n",
      "i\n",
      "a\n",
      "n\n",
      "s\n"
     ]
    },
    {
     "ename": "IndexError",
     "evalue": "string index out of range",
     "output_type": "error",
     "traceback": [
      "\u001b[1;31m---------------------------------------------------------------------------\u001b[0m",
      "\u001b[1;31mIndexError\u001b[0m                                Traceback (most recent call last)",
      "\u001b[1;32m<ipython-input-26-62d533bf8584>\u001b[0m in \u001b[0;36m<module>\u001b[1;34m\u001b[0m\n\u001b[0;32m      6\u001b[0m \u001b[0mprint\u001b[0m\u001b[1;33m(\u001b[0m\u001b[0ms\u001b[0m\u001b[1;33m[\u001b[0m\u001b[1;36m5\u001b[0m\u001b[1;33m]\u001b[0m\u001b[1;33m)\u001b[0m  \u001b[1;31m#n\u001b[0m\u001b[1;33m\u001b[0m\u001b[1;33m\u001b[0m\u001b[0m\n\u001b[0;32m      7\u001b[0m \u001b[0mprint\u001b[0m\u001b[1;33m(\u001b[0m\u001b[0ms\u001b[0m\u001b[1;33m[\u001b[0m\u001b[1;36m6\u001b[0m\u001b[1;33m]\u001b[0m\u001b[1;33m)\u001b[0m  \u001b[1;31m#s\u001b[0m\u001b[1;33m\u001b[0m\u001b[1;33m\u001b[0m\u001b[0m\n\u001b[1;32m----> 8\u001b[1;33m \u001b[0mprint\u001b[0m\u001b[1;33m(\u001b[0m\u001b[0ms\u001b[0m\u001b[1;33m[\u001b[0m\u001b[1;36m7\u001b[0m\u001b[1;33m]\u001b[0m\u001b[1;33m)\u001b[0m  \u001b[1;31m#Error: Index out of bounds or range\u001b[0m\u001b[1;33m\u001b[0m\u001b[1;33m\u001b[0m\u001b[0m\n\u001b[0m",
      "\u001b[1;31mIndexError\u001b[0m: string index out of range"
     ]
    }
   ],
   "source": [
    "print(s[0])  #F\n",
    "print(s[1])  #e\n",
    "print(s[2])  #t\n",
    "print(s[3])  #i\n",
    "print(s[4])  #a\n",
    "print(s[5])  #n\n",
    "print(s[6])  #s\n",
    "print(s[7])  #Error: Index out of bounds or range"
   ]
  },
  {
   "cell_type": "code",
   "execution_count": 27,
   "metadata": {},
   "outputs": [
    {
     "name": "stdout",
     "output_type": "stream",
     "text": [
      "Fet\n"
     ]
    }
   ],
   "source": [
    "#Slincing[start:end] {remember end is not included}\n",
    "#slice Fet from the string Fetians\n",
    "print(s[0:3]) # 0-F,1-e,2-t"
   ]
  },
  {
   "cell_type": "code",
   "execution_count": 28,
   "metadata": {},
   "outputs": [
    {
     "name": "stdout",
     "output_type": "stream",
     "text": [
      "etia\n"
     ]
    }
   ],
   "source": [
    "#slice etia from the string Fetians\n",
    "print(s[1:5])"
   ]
  },
  {
   "cell_type": "code",
   "execution_count": 29,
   "metadata": {},
   "outputs": [
    {
     "name": "stdout",
     "output_type": "stream",
     "text": [
      "ans\n",
      "ans\n"
     ]
    }
   ],
   "source": [
    "# slice ans from Fetians\n",
    "print(s[4:7])\n",
    "print(s[4:])"
   ]
  },
  {
   "cell_type": "code",
   "execution_count": 30,
   "metadata": {},
   "outputs": [
    {
     "name": "stdout",
     "output_type": "stream",
     "text": [
      "Fetians\n",
      "etians\n",
      "tians\n",
      "ans\n"
     ]
    }
   ],
   "source": [
    "# slice[start:end] -- all characters starting at start index upto end-1 (i.e excluding end)\n",
    "#What if de omit end parameter\n",
    "print(s[0:])\n",
    "print(s[1:])\n",
    "print(s[2:])\n",
    "print(s[4:])"
   ]
  },
  {
   "cell_type": "code",
   "execution_count": 31,
   "metadata": {},
   "outputs": [
    {
     "name": "stdout",
     "output_type": "stream",
     "text": [
      "Fetian\n",
      "Fetia\n",
      "Fet\n"
     ]
    }
   ],
   "source": [
    "# What if we omit start index from the slice\n",
    "print(s[:6])\n",
    "print(s[:5])\n",
    "print(s[:3])"
   ]
  },
  {
   "cell_type": "code",
   "execution_count": 32,
   "metadata": {},
   "outputs": [],
   "source": [
    "#Negative Indexing (Remember : String is always read from left to right)\n",
    "#negative indexing starts with -1, which represents the last character.\n",
    "#s[-7] -->'F' , s[-6] -->'e',s[-5] -->'t', s[-4] -->'i',s[-3] -->'a',s[-2] -->'n',s[-1] -->'s'"
   ]
  },
  {
   "cell_type": "code",
   "execution_count": 33,
   "metadata": {},
   "outputs": [
    {
     "name": "stdout",
     "output_type": "stream",
     "text": [
      "F\n",
      "e\n",
      "t\n",
      "i\n",
      "a\n",
      "n\n",
      "s\n"
     ]
    }
   ],
   "source": [
    "print(s[-7])  #F\n",
    "print(s[-6])  #e\n",
    "print(s[-5])  #t\n",
    "print(s[-4])  #i\n",
    "print(s[-3])  #a\n",
    "print(s[-2])  #n\n",
    "print(s[-1])  #s"
   ]
  },
  {
   "cell_type": "code",
   "execution_count": 34,
   "metadata": {},
   "outputs": [
    {
     "name": "stdout",
     "output_type": "stream",
     "text": [
      "Fet\n"
     ]
    }
   ],
   "source": [
    "#Slincing[start:end] {remember end is not included}\n",
    "#slice Fet from the string Fetians using negative indexing\n",
    "print(s[-7:-4]) # -7->F,-6->e,-5->t"
   ]
  },
  {
   "cell_type": "code",
   "execution_count": 35,
   "metadata": {},
   "outputs": [
    {
     "name": "stdout",
     "output_type": "stream",
     "text": [
      "etia\n"
     ]
    }
   ],
   "source": [
    "#slice etia from the string Fetians using negative indexing\n",
    "print(s[-6:-2])"
   ]
  },
  {
   "cell_type": "code",
   "execution_count": 36,
   "metadata": {},
   "outputs": [
    {
     "data": {
      "text/plain": [
       "'tia'"
      ]
     },
     "execution_count": 36,
     "metadata": {},
     "output_type": "execute_result"
    }
   ],
   "source": [
    "#slice tia from the string Fetians using negative indexing DIY\n",
    "s[-5:-2]"
   ]
  },
  {
   "cell_type": "code",
   "execution_count": 38,
   "metadata": {},
   "outputs": [
    {
     "name": "stdout",
     "output_type": "stream",
     "text": [
      "Fetian\n",
      "Fetia\n",
      "Feti\n",
      "Fet\n"
     ]
    }
   ],
   "source": [
    "#what will happen if we omit the start index in negative indexed slicing\n",
    "print(s[:-1])\n",
    "print(s[:-2])\n",
    "print(s[:-3])\n",
    "print(s[:-4])"
   ]
  },
  {
   "cell_type": "code",
   "execution_count": 39,
   "metadata": {},
   "outputs": [
    {
     "name": "stdout",
     "output_type": "stream",
     "text": [
      "s\n",
      "ns\n",
      "ans\n",
      "ians\n"
     ]
    }
   ],
   "source": [
    "#what will happen if we omit the end index in negative indexed slicing\n",
    "print(s[-1:])\n",
    "print(s[-2:])\n",
    "print(s[-3:])\n",
    "print(s[-4:])"
   ]
  },
  {
   "cell_type": "code",
   "execution_count": 40,
   "metadata": {},
   "outputs": [
    {
     "name": "stdout",
     "output_type": "stream",
     "text": [
      "Fetians\n"
     ]
    }
   ],
   "source": [
    "#What will happen if we forget both start and end index\n",
    "print(s[:])"
   ]
  },
  {
   "cell_type": "code",
   "execution_count": 41,
   "metadata": {},
   "outputs": [
    {
     "name": "stdout",
     "output_type": "stream",
     "text": [
      "Ftas\n",
      "Fetians\n",
      "Fetians\n",
      "Fetians\n",
      "snaiteF\n"
     ]
    }
   ],
   "source": [
    "print(s[:10:2]) # slicing with jump[start:end:jump]\n",
    "print(s[:10:])\n",
    "print(s[:10:1])\n",
    "print(s[::])\n",
    "print(s[:]) # jump is optional [start:end:jump] and jump=1 is by default.\n",
    "print(s[::-1])"
   ]
  },
  {
   "cell_type": "markdown",
   "metadata": {},
   "source": [
    "**Few Useful String Functions**<br>\n",
    "a = “Hello Python”<br>\n",
    "len(a) – Gives the length of the String<br>\n",
    "a.lower() – Converts all Uppercase to Lower<br>\n",
    "a.upper() – Converts all lowercase to upper<br>\n",
    "a.find(‘Python’) -searches for the given other string (not a regular expression) within s, and returns the first index where it begins or -1 if not found.<br>\n",
    "a.strip() -- returns a string with whitespace removed from the start and end.<br>\n",
    "s.startswith('other'), s.endswith('other') -- tests if the string starts or ends with the given other string<br>\n",
    "s.split('delim') -- returns a list of substrings separated by the given delimiter. The delimiter is not a regular expression, it's just text. <br>\n",
    "'aaa,bbb,ccc'.split(',') -> ['aaa', 'bbb', 'ccc']. As a convenient special case s.split() (with no arguments) splits on all whitespace chars.\n",
    "\n",
    "a.count(‘Python’) -Python string method count() returns the number of occurrences of substring sub in the range [start, end]. Optional arguments start and end are interpreted as in slice notation.<br>\n",
    "a.index(str, beg=0, end=len(string)) - Same as find(), but raises an exception if str not found.<br>\n",
    "https://towardsdatascience.com/useful-string-methods-in-python-5047ea4d3f90\n"
   ]
  },
  {
   "cell_type": "code",
   "execution_count": 71,
   "metadata": {},
   "outputs": [],
   "source": [
    "a= \"faculty of engineering aND teCHnology\""
   ]
  },
  {
   "cell_type": "code",
   "execution_count": 47,
   "metadata": {},
   "outputs": [
    {
     "data": {
      "text/plain": [
       "37"
      ]
     },
     "execution_count": 47,
     "metadata": {},
     "output_type": "execute_result"
    }
   ],
   "source": [
    "len(a)"
   ]
  },
  {
   "cell_type": "code",
   "execution_count": 48,
   "metadata": {},
   "outputs": [
    {
     "data": {
      "text/plain": [
       "'FACULTY OF ENGINEERING AND TECHNOLOGY'"
      ]
     },
     "execution_count": 48,
     "metadata": {},
     "output_type": "execute_result"
    }
   ],
   "source": [
    "a.upper()"
   ]
  },
  {
   "cell_type": "code",
   "execution_count": 49,
   "metadata": {},
   "outputs": [
    {
     "data": {
      "text/plain": [
       "'faculty of engineering and technology'"
      ]
     },
     "execution_count": 49,
     "metadata": {},
     "output_type": "execute_result"
    }
   ],
   "source": [
    "a.lower()"
   ]
  },
  {
   "cell_type": "code",
   "execution_count": 50,
   "metadata": {},
   "outputs": [
    {
     "data": {
      "text/plain": [
       "'Faculty Of Engineering And Technology'"
      ]
     },
     "execution_count": 50,
     "metadata": {},
     "output_type": "execute_result"
    }
   ],
   "source": [
    "a.title()"
   ]
  },
  {
   "cell_type": "code",
   "execution_count": 72,
   "metadata": {},
   "outputs": [
    {
     "data": {
      "text/plain": [
       "'faculty of engineering and technology'"
      ]
     },
     "execution_count": 72,
     "metadata": {},
     "output_type": "execute_result"
    }
   ],
   "source": [
    "a.casefold()"
   ]
  },
  {
   "cell_type": "code",
   "execution_count": 1,
   "metadata": {},
   "outputs": [
    {
     "data": {
      "text/plain": [
       "2"
      ]
     },
     "execution_count": 1,
     "metadata": {},
     "output_type": "execute_result"
    }
   ],
   "source": [
    "a = 'faculty of engineering and technology of GK(DU)'\n",
    "a.count('of')"
   ]
  },
  {
   "cell_type": "code",
   "execution_count": 54,
   "metadata": {},
   "outputs": [
    {
     "data": {
      "text/plain": [
       "3"
      ]
     },
     "execution_count": 54,
     "metadata": {},
     "output_type": "execute_result"
    }
   ],
   "source": [
    "a.count(\"o\")"
   ]
  },
  {
   "cell_type": "code",
   "execution_count": 2,
   "metadata": {},
   "outputs": [
    {
     "name": "stdout",
     "output_type": "stream",
     "text": [
      "##########################faculty of engineering and technology of GK(DU)###########################\n",
      "faculty of engineering and technology of GK(DU)\n"
     ]
    }
   ],
   "source": [
    "print(a.center(100,'#'))\n",
    "print(a)"
   ]
  },
  {
   "cell_type": "code",
   "execution_count": 62,
   "metadata": {},
   "outputs": [
    {
     "data": {
      "text/plain": [
       "True"
      ]
     },
     "execution_count": 62,
     "metadata": {},
     "output_type": "execute_result"
    }
   ],
   "source": [
    "a.startswith('f')"
   ]
  },
  {
   "cell_type": "code",
   "execution_count": 63,
   "metadata": {},
   "outputs": [
    {
     "data": {
      "text/plain": [
       "False"
      ]
     },
     "execution_count": 63,
     "metadata": {},
     "output_type": "execute_result"
    }
   ],
   "source": [
    "a.endswith('o')"
   ]
  },
  {
   "cell_type": "code",
   "execution_count": 67,
   "metadata": {},
   "outputs": [
    {
     "name": "stdout",
     "output_type": "stream",
     "text": [
      "12\n",
      "12\n",
      "46\n"
     ]
    }
   ],
   "source": [
    "message = 'Python is a fun programming language and uses functional programming too. Having more fun.'\n",
    "# The find() method returns the index of first occurrence of the substring (if found). \n",
    "# If not found, it returns -1.\n",
    "# check the index of 'fun'\n",
    "print(message.find('fun'))\n",
    "print(message.index('fun'))\n",
    "print(message.index('fun',13))"
   ]
  },
  {
   "cell_type": "code",
   "execution_count": 10,
   "metadata": {},
   "outputs": [
    {
     "name": "stdout",
     "output_type": "stream",
     "text": [
      "6\n",
      "18\n",
      "20\n",
      "olleH\n"
     ]
    }
   ],
   "source": [
    "# The index() method is similar to the find() method for strings.\n",
    "\n",
    "# The only difference is that find() method \n",
    "# returns -1 if the substring is not found, whereas index() throws an exception.\n",
    "\n",
    "sentence = 'Pythoning programming is fun.'\n",
    "\n",
    "# Substring is searched in 'gramming is fun.'\n",
    "print(sentence.find('ing'))\n",
    "print(sentence.index('ing', 10))\n",
    "\n",
    "# Substring is searched in 'gramming is '\n",
    "print(sentence.index('g is', 10, -4))\n",
    "\n",
    "# Substring is searched in 'programming'\n",
    "#print(sentence.index('fun', 7, 18))\n",
    "\n",
    "s = \"Hello\"\n",
    "print(s[::-1])"
   ]
  },
  {
   "cell_type": "code",
   "execution_count": 74,
   "metadata": {},
   "outputs": [
    {
     "name": "stdout",
     "output_type": "stream",
     "text": [
      "s1.join(s2): 1abc2abc3\n",
      "abc123\n",
      "s2.join(s1): a123b123c\n"
     ]
    }
   ],
   "source": [
    "s1 = 'abc'\n",
    "s2 = '123'\n",
    "\n",
    "# each element of s2 is separated by s1. s1 will act like seperator.\n",
    "# '1'+ 'abc'+ '2'+ 'abc'+ '3'\n",
    "print('s1.join(s2):', s1.join(s2))\n",
    "print(s1+s2)\n",
    "# each element of s1 is separated by s2. s2 will act like seperator.\n",
    "# 'a'+ '123'+ 'b'+ '123'+ 'b'\n",
    "print('s2.join(s1):', s2.join(s1))"
   ]
  },
  {
   "cell_type": "code",
   "execution_count": 79,
   "metadata": {},
   "outputs": [
    {
     "name": "stdout",
     "output_type": "stream",
     "text": [
      "['Python i', ' a fun programming language']\n"
     ]
    }
   ],
   "source": [
    "#The split() method breaks up a string at the specified separator and returns a list of strings.\n",
    "text = 'Python is a fun programming language'\n",
    "\n",
    "# split the text from space\n",
    "print(text.split(\"s\"))\n",
    "\n",
    "# Output: ['Python', 'is', 'a', 'fun', 'programming', 'language']"
   ]
  },
  {
   "cell_type": "code",
   "execution_count": null,
   "metadata": {},
   "outputs": [],
   "source": [
    "# The syntax of split() is:\n",
    "\n",
    "# str.split(separator, maxsplit)\n",
    "# split() Parameters\n",
    "# The split() method takes a maximum of 2 parameters:\n",
    "\n",
    "# separator (optional)- Delimiter at which splits occur. If not provided, the string is splitted at whitespaces.\n",
    "# maxsplit (optional) - Maximum number of splits. If not provided, there is no limit on the number of splits."
   ]
  },
  {
   "cell_type": "code",
   "execution_count": 73,
   "metadata": {},
   "outputs": [
    {
     "name": "stdout",
     "output_type": "stream",
     "text": [
      "['Love', 'thy', 'neighbor']\n",
      "['Coffee', 'Tea', 'Milk']\n",
      "['Coffee, Tea, Milk']\n"
     ]
    }
   ],
   "source": [
    "text= 'Love thy neighbor'\n",
    "\n",
    "# splits at space\n",
    "print(text.split())\n",
    "\n",
    "grocery = 'Coffee, Tea, Milk'\n",
    "\n",
    "# splits at ','\n",
    "print(grocery.split(', '))\n",
    "\n",
    "# Splits at ':' # seperator is not present in the given variable grocery, hence it returned a single element.\n",
    "print(grocery.split(':'))"
   ]
  },
  {
   "cell_type": "code",
   "execution_count": 74,
   "metadata": {},
   "outputs": [
    {
     "name": "stdout",
     "output_type": "stream",
     "text": [
      "['Milk', 'Horlicks', 'Bread, Butter']\n",
      "['Milk', 'Horlicks, Bread, Butter']\n",
      "['Milk', 'Horlicks', 'Bread', 'Butter']\n",
      "['Milk, Horlicks, Bread, Butter']\n"
     ]
    }
   ],
   "source": [
    "grocery = 'Milk, Horlicks, Bread, Butter'\n",
    "\n",
    "# maxsplit: 2\n",
    "print(grocery.split(', ', 2))\n",
    "\n",
    "# maxsplit: 1\n",
    "print(grocery.split(', ', 1))\n",
    "\n",
    "# maxsplit: 5\n",
    "print(grocery.split(', ', 5))\n",
    "\n",
    "# maxsplit: 0\n",
    "print(grocery.split(', ', 0))"
   ]
  },
  {
   "cell_type": "code",
   "execution_count": 75,
   "metadata": {},
   "outputs": [
    {
     "name": "stdout",
     "output_type": "stream",
     "text": [
      "['I', 'love', 'Python', 'Programming.']\n"
     ]
    }
   ],
   "source": [
    "#The splitlines() method splits the string at line breaks and returns a list.\n",
    "# \\n is a line boundary \n",
    "sentence = 'I\\nlove\\nPython\\nProgramming.'\n",
    "\n",
    "# returns a list after spliting string at line breaks \n",
    "resulting_list = sentence.splitlines()\n",
    "\n",
    "print(resulting_list)\n",
    "\n",
    "# Output: ['I', 'love', 'Python', 'Programming.']"
   ]
  },
  {
   "cell_type": "code",
   "execution_count": 43,
   "metadata": {},
   "outputs": [],
   "source": [
    "b = \"HELLO\""
   ]
  },
  {
   "cell_type": "code",
   "execution_count": 44,
   "metadata": {},
   "outputs": [
    {
     "data": {
      "text/plain": [
       "'hello'"
      ]
     },
     "execution_count": 44,
     "metadata": {},
     "output_type": "execute_result"
    }
   ],
   "source": [
    "b.casefold()"
   ]
  },
  {
   "cell_type": "code",
   "execution_count": 45,
   "metadata": {},
   "outputs": [
    {
     "data": {
      "text/plain": [
       "'hello'"
      ]
     },
     "execution_count": 45,
     "metadata": {},
     "output_type": "execute_result"
    }
   ],
   "source": [
    "b.swapcase()"
   ]
  },
  {
   "cell_type": "code",
   "execution_count": 18,
   "metadata": {},
   "outputs": [
    {
     "name": "stdout",
     "output_type": "stream",
     "text": [
      "olleH\n"
     ]
    }
   ],
   "source": [
    "# Program to reverse a string using join and reversed function\n",
    "b = \"Hello\"\n",
    "b =\"\".join(reversed(b))\n",
    "print(b)\n"
   ]
  },
  {
   "cell_type": "markdown",
   "metadata": {},
   "source": [
    "**String Concatenation**<br>\n",
    "S = “red”<br>\n",
    "S = S + “blue” ----redblue ( new string) strings are immutable<br>\n",
    "S+= ‘ blue’ ----- redblueblue<br> \n",
    "A = “ blue”<br>\n",
    "A = A * 2 ---- blueblue ( i.e A+A)<br>\n",
    "A =A* 3 ---- blueblueblueblueblueblue (A+A+A)<br>\n",
    "What will be A = A * 1 ?<br>\n",
    "\n",
    "b = “yellow”<br>\n",
    "b = b + 3 --- error 3 is integer<br>\n",
    "Do b = b + str(3) --- yellow3<br>"
   ]
  },
  {
   "cell_type": "code",
   "execution_count": 18,
   "metadata": {},
   "outputs": [
    {
     "name": "stdout",
     "output_type": "stream",
     "text": [
      "redblue\n",
      "redblueblue\n"
     ]
    }
   ],
   "source": [
    "S = \"red\"\n",
    "S = S + \"blue\"\n",
    "print(S)\n",
    "S+= 'blue'\n",
    "print(S)"
   ]
  },
  {
   "cell_type": "code",
   "execution_count": 20,
   "metadata": {},
   "outputs": [
    {
     "name": "stdout",
     "output_type": "stream",
     "text": [
      "blueblue\n",
      "blueblueblueblueblueblue\n"
     ]
    },
    {
     "data": {
      "text/plain": [
       "'blueblueblueblueblueblue'"
      ]
     },
     "execution_count": 20,
     "metadata": {},
     "output_type": "execute_result"
    }
   ],
   "source": [
    "A = \"blue\"\n",
    "A = A * 2\n",
    "print(A)\n",
    "A = A * 3\n",
    "print(A)\n",
    "#What will be A = A * 1 ?\n",
    "A = A * 1\n",
    "A"
   ]
  },
  {
   "cell_type": "code",
   "execution_count": 26,
   "metadata": {},
   "outputs": [
    {
     "data": {
      "text/plain": [
       "'yellow3'"
      ]
     },
     "execution_count": 26,
     "metadata": {},
     "output_type": "execute_result"
    }
   ],
   "source": [
    "b = \"yellow\"\n",
    "#b = b + 3\n",
    "b = b + str(3)# --- yellow3\n",
    "b"
   ]
  },
  {
   "cell_type": "code",
   "execution_count": 30,
   "metadata": {},
   "outputs": [
    {
     "name": "stdout",
     "output_type": "stream",
     "text": [
      "Python is fantastic\n"
     ]
    }
   ],
   "source": [
    "#Python does not support use of curly braces to delimit the code blocks\n",
    "#Use Spaces, tabs or combination\n",
    "#Indentation to mark the start of the block\n",
    "x = \"one\"\n",
    "def myfunc():\n",
    " global x\n",
    " x = \"fantastic\"\n",
    "myfunc()\n",
    "print(\"Python is \" + x)"
   ]
  },
  {
   "cell_type": "code",
   "execution_count": 31,
   "metadata": {},
   "outputs": [
    {
     "data": {
      "text/plain": [
       "4"
      ]
     },
     "execution_count": 31,
     "metadata": {},
     "output_type": "execute_result"
    }
   ],
   "source": [
    "def square(a):\n",
    "     return a**2\n",
    "square(2)"
   ]
  },
  {
   "cell_type": "code",
   "execution_count": 82,
   "metadata": {},
   "outputs": [
    {
     "data": {
      "text/plain": [
       "4.0"
      ]
     },
     "execution_count": 82,
     "metadata": {},
     "output_type": "execute_result"
    }
   ],
   "source": [
    "##Comments and DocStrings\n",
    "#Fucntion to square a value----> #Comment\n",
    "def square(a:int) -> \"the square of a number\":  ##function annotation\n",
    "    '''computes square of input variable a'''      ## Doc-string\n",
    "    z = a**2\n",
    "    return z\n",
    "square(2.0)"
   ]
  },
  {
   "cell_type": "code",
   "execution_count": 84,
   "metadata": {},
   "outputs": [
    {
     "name": "stdout",
     "output_type": "stream",
     "text": [
      "Help on function square in module __main__:\n",
      "\n",
      "square(a: int) -> 'the square of a number'\n",
      "    computes square of input variable a\n",
      "\n"
     ]
    }
   ],
   "source": [
    "help(square)"
   ]
  },
  {
   "cell_type": "code",
   "execution_count": 88,
   "metadata": {},
   "outputs": [
    {
     "data": {
      "text/plain": [
       "{'a': int, 'return': 'the square of a number'}"
      ]
     },
     "execution_count": 88,
     "metadata": {},
     "output_type": "execute_result"
    }
   ],
   "source": [
    "#square(#press shift+Tab to view details of the function\n",
    "#or\n",
    "#use square?\n",
    "# square.__doc__\n",
    "square.__annotations__"
   ]
  },
  {
   "cell_type": "code",
   "execution_count": 26,
   "metadata": {},
   "outputs": [
    {
     "data": {
      "text/plain": [
       "'Automatically created module for IPython interactive environment'"
      ]
     },
     "execution_count": 26,
     "metadata": {},
     "output_type": "execute_result"
    }
   ],
   "source": [
    "__doc__"
   ]
  },
  {
   "cell_type": "code",
   "execution_count": 38,
   "metadata": {},
   "outputs": [
    {
     "name": "stdout",
     "output_type": "stream",
     "text": [
      "\n",
      "Welcome to Python 3.8's help utility!\n",
      "\n",
      "If this is your first time using Python, you should definitely check out\n",
      "the tutorial on the Internet at https://docs.python.org/3.8/tutorial/.\n",
      "\n",
      "Enter the name of any module, keyword, or topic to get help on writing\n",
      "Python programs and using Python modules.  To quit this help utility and\n",
      "return to the interpreter, just type \"quit\".\n",
      "\n",
      "To get a list of available modules, keywords, symbols, or topics, type\n",
      "\"modules\", \"keywords\", \"symbols\", or \"topics\".  Each module also comes\n",
      "with a one-line summary of what it does; to list the modules whose name\n",
      "or summary contain a given string such as \"spam\", type \"modules spam\".\n",
      "\n",
      "help> bool\n",
      "Help on class bool in module builtins:\n",
      "\n",
      "class bool(int)\n",
      " |  bool(x) -> bool\n",
      " |  \n",
      " |  Returns True when the argument x is true, False otherwise.\n",
      " |  The builtins True and False are the only two instances of the class bool.\n",
      " |  The class bool is a subclass of the class int, and cannot be subclassed.\n",
      " |  \n",
      " |  Method resolution order:\n",
      " |      bool\n",
      " |      int\n",
      " |      object\n",
      " |  \n",
      " |  Methods defined here:\n",
      " |  \n",
      " |  __and__(self, value, /)\n",
      " |      Return self&value.\n",
      " |  \n",
      " |  __or__(self, value, /)\n",
      " |      Return self|value.\n",
      " |  \n",
      " |  __rand__(self, value, /)\n",
      " |      Return value&self.\n",
      " |  \n",
      " |  __repr__(self, /)\n",
      " |      Return repr(self).\n",
      " |  \n",
      " |  __ror__(self, value, /)\n",
      " |      Return value|self.\n",
      " |  \n",
      " |  __rxor__(self, value, /)\n",
      " |      Return value^self.\n",
      " |  \n",
      " |  __xor__(self, value, /)\n",
      " |      Return self^value.\n",
      " |  \n",
      " |  ----------------------------------------------------------------------\n",
      " |  Static methods defined here:\n",
      " |  \n",
      " |  __new__(*args, **kwargs) from builtins.type\n",
      " |      Create and return a new object.  See help(type) for accurate signature.\n",
      " |  \n",
      " |  ----------------------------------------------------------------------\n",
      " |  Methods inherited from int:\n",
      " |  \n",
      " |  __abs__(self, /)\n",
      " |      abs(self)\n",
      " |  \n",
      " |  __add__(self, value, /)\n",
      " |      Return self+value.\n",
      " |  \n",
      " |  __bool__(self, /)\n",
      " |      self != 0\n",
      " |  \n",
      " |  __ceil__(...)\n",
      " |      Ceiling of an Integral returns itself.\n",
      " |  \n",
      " |  __divmod__(self, value, /)\n",
      " |      Return divmod(self, value).\n",
      " |  \n",
      " |  __eq__(self, value, /)\n",
      " |      Return self==value.\n",
      " |  \n",
      " |  __float__(self, /)\n",
      " |      float(self)\n",
      " |  \n",
      " |  __floor__(...)\n",
      " |      Flooring an Integral returns itself.\n",
      " |  \n",
      " |  __floordiv__(self, value, /)\n",
      " |      Return self//value.\n",
      " |  \n",
      " |  __format__(self, format_spec, /)\n",
      " |      Default object formatter.\n",
      " |  \n",
      " |  __ge__(self, value, /)\n",
      " |      Return self>=value.\n",
      " |  \n",
      " |  __getattribute__(self, name, /)\n",
      " |      Return getattr(self, name).\n",
      " |  \n",
      " |  __getnewargs__(self, /)\n",
      " |  \n",
      " |  __gt__(self, value, /)\n",
      " |      Return self>value.\n",
      " |  \n",
      " |  __hash__(self, /)\n",
      " |      Return hash(self).\n",
      " |  \n",
      " |  __index__(self, /)\n",
      " |      Return self converted to an integer, if self is suitable for use as an index into a list.\n",
      " |  \n",
      " |  __int__(self, /)\n",
      " |      int(self)\n",
      " |  \n",
      " |  __invert__(self, /)\n",
      " |      ~self\n",
      " |  \n",
      " |  __le__(self, value, /)\n",
      " |      Return self<=value.\n",
      " |  \n",
      " |  __lshift__(self, value, /)\n",
      " |      Return self<<value.\n",
      " |  \n",
      " |  __lt__(self, value, /)\n",
      " |      Return self<value.\n",
      " |  \n",
      " |  __mod__(self, value, /)\n",
      " |      Return self%value.\n",
      " |  \n",
      " |  __mul__(self, value, /)\n",
      " |      Return self*value.\n",
      " |  \n",
      " |  __ne__(self, value, /)\n",
      " |      Return self!=value.\n",
      " |  \n",
      " |  __neg__(self, /)\n",
      " |      -self\n",
      " |  \n",
      " |  __pos__(self, /)\n",
      " |      +self\n",
      " |  \n",
      " |  __pow__(self, value, mod=None, /)\n",
      " |      Return pow(self, value, mod).\n",
      " |  \n",
      " |  __radd__(self, value, /)\n",
      " |      Return value+self.\n",
      " |  \n",
      " |  __rdivmod__(self, value, /)\n",
      " |      Return divmod(value, self).\n",
      " |  \n",
      " |  __rfloordiv__(self, value, /)\n",
      " |      Return value//self.\n",
      " |  \n",
      " |  __rlshift__(self, value, /)\n",
      " |      Return value<<self.\n",
      " |  \n",
      " |  __rmod__(self, value, /)\n",
      " |      Return value%self.\n",
      " |  \n",
      " |  __rmul__(self, value, /)\n",
      " |      Return value*self.\n",
      " |  \n",
      " |  __round__(...)\n",
      " |      Rounding an Integral returns itself.\n",
      " |      Rounding with an ndigits argument also returns an integer.\n",
      " |  \n",
      " |  __rpow__(self, value, mod=None, /)\n",
      " |      Return pow(value, self, mod).\n",
      " |  \n",
      " |  __rrshift__(self, value, /)\n",
      " |      Return value>>self.\n",
      " |  \n",
      " |  __rshift__(self, value, /)\n",
      " |      Return self>>value.\n",
      " |  \n",
      " |  __rsub__(self, value, /)\n",
      " |      Return value-self.\n",
      " |  \n",
      " |  __rtruediv__(self, value, /)\n",
      " |      Return value/self.\n",
      " |  \n",
      " |  __sizeof__(self, /)\n",
      " |      Returns size in memory, in bytes.\n",
      " |  \n",
      " |  __sub__(self, value, /)\n",
      " |      Return self-value.\n",
      " |  \n",
      " |  __truediv__(self, value, /)\n",
      " |      Return self/value.\n",
      " |  \n",
      " |  __trunc__(...)\n",
      " |      Truncating an Integral returns itself.\n",
      " |  \n",
      " |  as_integer_ratio(self, /)\n",
      " |      Return integer ratio.\n",
      " |      \n",
      " |      Return a pair of integers, whose ratio is exactly equal to the original int\n",
      " |      and with a positive denominator.\n",
      " |      \n",
      " |      >>> (10).as_integer_ratio()\n",
      " |      (10, 1)\n",
      " |      >>> (-10).as_integer_ratio()\n",
      " |      (-10, 1)\n",
      " |      >>> (0).as_integer_ratio()\n",
      " |      (0, 1)\n",
      " |  \n",
      " |  bit_length(self, /)\n",
      " |      Number of bits necessary to represent self in binary.\n",
      " |      \n",
      " |      >>> bin(37)\n",
      " |      '0b100101'\n",
      " |      >>> (37).bit_length()\n",
      " |      6\n",
      " |  \n",
      " |  conjugate(...)\n",
      " |      Returns self, the complex conjugate of any int.\n",
      " |  \n",
      " |  to_bytes(self, /, length, byteorder, *, signed=False)\n",
      " |      Return an array of bytes representing an integer.\n",
      " |      \n",
      " |      length\n",
      " |        Length of bytes object to use.  An OverflowError is raised if the\n",
      " |        integer is not representable with the given number of bytes.\n",
      " |      byteorder\n",
      " |        The byte order used to represent the integer.  If byteorder is 'big',\n",
      " |        the most significant byte is at the beginning of the byte array.  If\n",
      " |        byteorder is 'little', the most significant byte is at the end of the\n",
      " |        byte array.  To request the native byte order of the host system, use\n",
      " |        `sys.byteorder' as the byte order value.\n",
      " |      signed\n",
      " |        Determines whether two's complement is used to represent the integer.\n",
      " |        If signed is False and a negative integer is given, an OverflowError\n",
      " |        is raised.\n",
      " |  \n",
      " |  ----------------------------------------------------------------------\n",
      " |  Class methods inherited from int:\n",
      " |  \n",
      " |  from_bytes(bytes, byteorder, *, signed=False) from builtins.type\n",
      " |      Return the integer represented by the given array of bytes.\n",
      " |      \n",
      " |      bytes\n",
      " |        Holds the array of bytes to convert.  The argument must either\n",
      " |        support the buffer protocol or be an iterable object producing bytes.\n",
      " |        Bytes and bytearray are examples of built-in objects that support the\n",
      " |        buffer protocol.\n",
      " |      byteorder\n",
      " |        The byte order used to represent the integer.  If byteorder is 'big',\n",
      " |        the most significant byte is at the beginning of the byte array.  If\n",
      " |        byteorder is 'little', the most significant byte is at the end of the\n",
      " |        byte array.  To request the native byte order of the host system, use\n",
      " |        `sys.byteorder' as the byte order value.\n",
      " |      signed\n",
      " |        Indicates whether two's complement is used to represent the integer.\n",
      " |  \n",
      " |  ----------------------------------------------------------------------\n",
      " |  Data descriptors inherited from int:\n",
      " |  \n",
      " |  denominator\n",
      " |      the denominator of a rational number in lowest terms\n",
      " |  \n",
      " |  imag\n",
      " |      the imaginary part of a complex number\n",
      " |  \n",
      " |  numerator\n",
      " |      the numerator of a rational number in lowest terms\n",
      " |  \n",
      " |  real\n",
      " |      the real part of a complex number\n",
      "\n",
      "help> exit\n",
      "No Python documentation found for 'exit'.\n",
      "Use help() to get the interactive help utility.\n",
      "Use help(str) for help on the str class.\n",
      "\n",
      "help> \n",
      "\n",
      "You are now leaving help and returning to the Python interpreter.\n",
      "If you want to ask for help on a particular object directly from the\n",
      "interpreter, you can type \"help(object)\".  Executing \"help('string')\"\n",
      "has the same effect as typing a particular string at the help> prompt.\n"
     ]
    }
   ],
   "source": [
    "help()"
   ]
  },
  {
   "cell_type": "markdown",
   "metadata": {},
   "source": [
    "**Operators**"
   ]
  },
  {
   "cell_type": "markdown",
   "metadata": {},
   "source": [
    "**Airthmatic Operators**<br>\n",
    " + Addition<br>\n",
    " - Subtraction<br>\n",
    " * Multiplication<br>\n",
    " / Division<br>\n",
    " // Floor Division<br>\n",
    " ** Exponentiation<br>\n",
    " % Modulo Division<br>\n",
    " A=10; B =4;<br>\n",
    " A/B =2.5 and A//B =2 and 'A**B 10000 and A%B = 2<br>\n",
    " “23” + “43” –string uses + operator for concatenation<br>\n",
    "**Note:\n",
    "/ operator always performs floating point arithmetic. Hence it will always returns float value.<br>\n",
    "But Floor division (//) can perform both floating point and integral arithmetic. If arguments are int type then result is int type. If atleast one argument is float type then result is float type.<br>**"
   ]
  },
  {
   "cell_type": "code",
   "execution_count": 10,
   "metadata": {},
   "outputs": [
    {
     "name": "stdout",
     "output_type": "stream",
     "text": [
      "a+b= 12\n",
      "a-b= 8\n",
      "a*b= 20\n",
      "a/b= 5.0\n",
      "a//b= 5\n",
      "a%b= 0\n",
      "a**b= 100\n"
     ]
    }
   ],
   "source": [
    "a,b=10,2\n",
    "print('a+b=',a+b)\n",
    "print('a-b=',a-b)\n",
    "print('a*b=',a*b)\n",
    "print('a/b=',a/b)\n",
    "print('a//b=',a//b)\n",
    "print('a%b=',a%b)\n",
    "print('a**b=',a**b)"
   ]
  },
  {
   "cell_type": "markdown",
   "metadata": {},
   "source": [
    "**Relational Operator**\n",
    "The operators which compare the values of their operands are called comparison/ relational operators. <br>\n",
    "Python has 6 Relational/Comparison Operators<br>\n",
    "1) == If the values of two operands are equal, then the condition is true, otherwise, it is false. Common Mistake:- Do not confuse it with the Assignment Operator(=). (X == Y) is True.<br>\n",
    "2) != If the values of the two operands are not equal, then the condition is true. (X != Y) is true. <br>\n",
    "3) > If the value of the left operand is greater than the value of the right operand, then the condition is true. (X > Y) is false <br>\n",
    "4) < If the value of the left operand is less than the value of the right operand, then the condition is true. (X < Y) is true.<br> \n",
    "5) >= If the value of the left operand is greater than or equal to the value of the right operand, then the condition is true. (X >= Y) is false.<br>\n",
    "6) <= If the value of the left operand is less than or equal to the value of the right operand, then the condition is true. (X <= Y) is true.<br>"
   ]
  },
  {
   "cell_type": "code",
   "execution_count": 14,
   "metadata": {},
   "outputs": [
    {
     "name": "stdout",
     "output_type": "stream",
     "text": [
      "Are they equal? False\n",
      "Are they notequal? True\n",
      "a>b?  True\n",
      "a<b?  False\n",
      "a>=b?  True\n",
      "a<=b? False\n"
     ]
    }
   ],
   "source": [
    "a,b=10,2\n",
    "print('Are they equal?',a==b)\n",
    "print('Are they not equal?',a!=b)\n",
    "print('a>b? ',a>b)\n",
    "print('a<b? ',a<b)\n",
    "print('a>=b? ',a>=b)\n",
    "print('a<=b?',a<=b)"
   ]
  },
  {
   "cell_type": "markdown",
   "metadata": {},
   "source": [
    "**Logical Operators**<br>\n",
    "The operators which act on one or two boolean values and return another boolean value are called logical operators. There are 3 key logical operators.<br>\n",
    "and - Logical AND: If both the operands are True then the condition is true. (X and Y) is false <br>\n",
    "or -  Logical OR: If any of the two operands True are then the condition is true. (X or Y) is true <br>\n",
    "not - Logical NOT: Used to reverse the logical state of its operand. Not(X) is false<br>\n",
    "\n",
    "<tr><b>AND TRUTH TABLE<tr><br>\n",
    "<tr>\n",
    "    <th><td> <b>   X  <td>\n",
    "    <th><td> <b>   Y   <td>\n",
    "    <th><td> <b>   X and Y<td>\n",
    "<tr><br>\n",
    "<tr>\n",
    "    <th><td> <b>  0<td>\n",
    "    <th><td> <b>  0<td>\n",
    "    <th><td> <b>  0<td>\n",
    "<tr><br>\n",
    "<tr>\n",
    "    <th><td> <b>1<td>\n",
    "    <th><td> <b>0<td>\n",
    "    <th><td> <b>0<td>\n",
    "<tr><br>\n",
    "<tr>\n",
    "    <th><td> <b>0<td>\n",
    "    <th><td> <b>1<td>\n",
    "    <th><td> <b>0<td>\n",
    "<tr><br>\n",
    "<tr>\n",
    "    <th><td> <b>1<td>\n",
    "    <th><td> <b>1<td>\n",
    "    <th><td> <b>1<td>\n",
    "<tr><br>\n"
   ]
  },
  {
   "cell_type": "code",
   "execution_count": 56,
   "metadata": {},
   "outputs": [
    {
     "name": "stdout",
     "output_type": "stream",
     "text": [
      "x=0 and y=0 False\n",
      "x=1 and y=0 False\n",
      "x=0 and y=1 False\n",
      "x=1 and y=1 True\n"
     ]
    }
   ],
   "source": [
    "#AND OPERATOR\n",
    "# Suppose x = 0 (false) and y = 1 (true)\n",
    "x,y=bool(0),bool(0)\n",
    "_and = x and y\n",
    "print(\"x=0 and y=0\", _and)\n",
    "\n",
    "x,y=bool(1),bool(0)\n",
    "_and = x and y\n",
    "print(\"x=1 and y=0\", _and)\n",
    "\n",
    "x,y=bool(0),bool(1)\n",
    "_and = x and y\n",
    "print(\"x=0 and y=1\", _and)\n",
    "\n",
    "x,y=bool(1),bool(1)\n",
    "_and = x and y\n",
    "print(\"x=1 and y=1\", _and)"
   ]
  },
  {
   "cell_type": "markdown",
   "metadata": {},
   "source": [
    "**OR TRUTH TABLE**\n",
    "\n"
   ]
  },
  {
   "cell_type": "markdown",
   "metadata": {},
   "source": [
    "<tr><b>OR TRUTH TABLE<tr><br>\n",
    "<tr>\n",
    "    <th><td> <b>   X  <td>\n",
    "    <th><td> <b>   Y   <td>\n",
    "    <th><td> <b>   X OR Y<td>\n",
    "<tr><br>\n",
    "<tr>\n",
    "    <th><td> <b>  0<td>\n",
    "    <th><td> <b>  0<td>\n",
    "    <th><td> <b>  0<td>\n",
    "<tr><br>\n",
    "<tr>\n",
    "    <th><td> <b>1<td>\n",
    "    <th><td> <b>0<td>\n",
    "    <th><td> <b>1<td>\n",
    "<tr><br>\n",
    "<tr>\n",
    "    <th><td> <b>0<td>\n",
    "    <th><td> <b>1<td>\n",
    "    <th><td> <b>1<td>\n",
    "<tr><br>\n",
    "<tr>\n",
    "    <th><td> <b>1<td>\n",
    "    <th><td> <b>1<td>\n",
    "    <th><td> <b>1<td>\n",
    "<tr><br>\n"
   ]
  },
  {
   "cell_type": "code",
   "execution_count": 27,
   "metadata": {},
   "outputs": [
    {
     "name": "stdout",
     "output_type": "stream",
     "text": [
      "x=0 or y=0 False\n",
      "x=1 or y=0 True\n",
      "x=0 or y=1 True\n",
      "x=1 or y=1 True\n"
     ]
    }
   ],
   "source": [
    "#OR OPERATOR\n",
    "# Suppose 0 (false) and 1 (true)\n",
    "\n",
    "x,y=bool(0),bool(0)\n",
    "_or = x or y\n",
    "print(\"x=0 or y=0\", _or)\n",
    "\n",
    "x,y=bool(1),bool(0)\n",
    "_or = x or y\n",
    "print(\"x=1 or y=0\", _or)\n",
    "\n",
    "x,y=bool(0),bool(1)\n",
    "_and = x or y\n",
    "print(\"x=0 or y=1\", _or)\n",
    "\n",
    "x,y=bool(1),bool(1)\n",
    "_and = x or y\n",
    "print(\"x=1 or y=1\", _or)"
   ]
  },
  {
   "cell_type": "markdown",
   "metadata": {},
   "source": [
    "<tr><b>NOT TRUTH TABLE<tr><br>\n",
    "<tr>\n",
    "    <th><td> <b>   X  <td>\n",
    "    <th><td> <b>   NOT X   <td>\n",
    "<tr><br>\n",
    "<tr>\n",
    "    <th><td> <b>  0<td>\n",
    "    <th><td> <b>  1<td>\n",
    "<tr><br>\n",
    "<tr>\n",
    "    <th><td> <b>1<td>\n",
    "    <th><td> <b>0<td>\n",
    "<tr><br>"
   ]
  },
  {
   "cell_type": "code",
   "execution_count": 22,
   "metadata": {},
   "outputs": [
    {
     "name": "stdout",
     "output_type": "stream",
     "text": [
      "not of x=0  True\n",
      "not of x=1 False\n"
     ]
    }
   ],
   "source": [
    "x=bool(0)\n",
    "_not = not x\n",
    "print(\"not of x=0 \", _not)\n",
    "\n",
    "x=bool(1)\n",
    "_not = not x \n",
    "print(\"not of x=1\", _not)"
   ]
  },
  {
   "cell_type": "markdown",
   "metadata": {},
   "source": [
    "**Assignment Operators**<br>\n",
    "1) =    Stores the right side operand to left side operand<br>\n",
    "2) +=   Sum of both operands is calculated and then sum is stored in left side operand<br>\n",
    "3) -=   Difference is calculated and result is stored in left side operand.<br>\n",
    "4) \\*=   Multiplication of both operands is calculated and stored in left side operand.<br>\n",
    "5) /=   Float Division is done and result ( i.e quotient)is stored in left side operand.<br>\n",
    "6) //=  Floor Division is done and result ( i.e quotient with fractional part) is stored in left side operand.<br>\n",
    "7) %=   Modulo Divison is done and result ( i.e reminder) is stored in left side operand.<br>\n",
    "8) **=  Exponentiation is done and result is stored in left side operand.<br>"
   ]
  },
  {
   "cell_type": "code",
   "execution_count": 44,
   "metadata": {},
   "outputs": [
    {
     "name": "stdout",
     "output_type": "stream",
     "text": [
      "a= 1\n",
      "a+=1  2\n",
      "a-=1  1\n",
      "a*=2  2\n",
      "a/=4  0.5\n",
      "a//=3  1\n",
      "a%=3  1\n",
      "a**=2  16\n"
     ]
    }
   ],
   "source": [
    "a=1\n",
    "print(\"a=\",a)\n",
    "\n",
    "a+=1\n",
    "print(\"a+=1 \",a) # a= a+1\n",
    "\n",
    "a-=1\n",
    "print(\"a-=1 \",a) #a = a -1\n",
    "\n",
    "a*=2\n",
    "print(\"a*=2 \",a)# a = a*2\n",
    "\n",
    "a/=4\n",
    "print(\"a/=4 \",a)# a = a/4\n",
    "\n",
    "a=4\n",
    "a//=3\n",
    "print(\"a//=3 \",a) # a= a//3\n",
    "\n",
    "a=4\n",
    "a%=3\n",
    "print(\"a%=3 \",a) # a = a%3\n",
    "\n",
    "a=4\n",
    "a**=2\n",
    "print(\"a**=2 \",a)# a= a**2"
   ]
  },
  {
   "cell_type": "markdown",
   "metadata": {},
   "source": [
    "**Order of Operations and Associavity**<br>\n",
    "Except Exponentiation all operators are left associative.<br>\n",
    "Comparision and Assignment operators are non associative<br>\n",
    "Order od Precedence <br>\n",
    "P - Paranthesis (())<br>\n",
    "E - Exponentiation(\\**)<br>\n",
    "M - Multiplication(\\*), D - Division(/) , FD - floor division(//) and MD - modulo division(%)<br> \n",
    "A - Addition(+), S - Subtraction(-) <br>\n",
    "BLS - Bitwise Left shift (>>) and BRS - Bitwise Right Shift(>>)<br>\n",
    "BA - Bitwise And (&)<br>\n",
    "BOR - Bitwise OR (|) and BXOR - Bitwise XOR (^)<br>\n",
    "Non equality comparision (<=,>=,<,>)<br>\n",
    "Equality Compraision operators (==,!=)<br>\n",
    "Assignment Operators (=,+=,-=,\\*=,/=,//==,%=)<br>\n",
    "Identity Operators (is , is not)<br>\n",
    "Membership Operators (in, not in)<br>\n",
    "Logical Operators (AND,OR,NOT)<br>"
   ]
  },
  {
   "cell_type": "code",
   "execution_count": 55,
   "metadata": {},
   "outputs": [
    {
     "name": "stdout",
     "output_type": "stream",
     "text": [
      "3\n",
      "9.0\n",
      "4\n",
      "0.25\n",
      "3\n",
      "3\n",
      "512\n",
      "2.5\n",
      "19\n"
     ]
    }
   ],
   "source": [
    "print(5-2)\n",
    "print(10-5/5)\n",
    "print(2*(3-1))\n",
    "print((1+1)**(-2))\n",
    "print(2**1+1)\n",
    "print(3*1**3)\n",
    "print(2 ** 3 ** 2)  # exponentiation is right associative\n",
    "print(45 % 10 / 2)\n",
    "\n",
    "print(3**1 + 2**2**2)"
   ]
  },
  {
   "cell_type": "markdown",
   "metadata": {},
   "source": [
    "**Bitwise Operator**\n",
    "These operators operate bitwise.<br>\n",
    "These operators are applicable only for int and boolean types.<br>\n",
    "By mistake if we are trying to apply for any other type then we will get Error.<br>\n",
    "& --> If both bits are 1 then only result is 1 otherwise result is 0<br>\n",
    "| --> If atleast one bit is 1 then result is 1 otherwise result is 0<br>\n",
    "^ --> If bits are different then only result is 1 otherwise result is 0<br>\n",
    "~ --> bitwise complement operator i.e 1 means 0 and 0 means 1<br>\n",
    "\\>> --> Bitwise Right shift Operator<br>\n",
    "<<  -->Bitwise Left shift Operator<br>"
   ]
  },
  {
   "cell_type": "markdown",
   "metadata": {},
   "source": [
    "**BITWISE AND &**<br>\n",
    "a = 0  0  0  0  1  0  1  0<br>\n",
    "b = 0  0  0  0  1  1  1  0<br>\n",
    "r = 0  0  0  0  1  0  1  0<br>"
   ]
  },
  {
   "cell_type": "code",
   "execution_count": 58,
   "metadata": {},
   "outputs": [
    {
     "data": {
      "text/plain": [
       "'0b1010'"
      ]
     },
     "execution_count": 58,
     "metadata": {},
     "output_type": "execute_result"
    }
   ],
   "source": [
    "a=10\n",
    "bin(10)"
   ]
  },
  {
   "cell_type": "code",
   "execution_count": 60,
   "metadata": {},
   "outputs": [
    {
     "data": {
      "text/plain": [
       "'0b1110'"
      ]
     },
     "execution_count": 60,
     "metadata": {},
     "output_type": "execute_result"
    }
   ],
   "source": [
    "b= 14\n",
    "bin(14)"
   ]
  },
  {
   "cell_type": "code",
   "execution_count": 61,
   "metadata": {},
   "outputs": [
    {
     "name": "stdout",
     "output_type": "stream",
     "text": [
      "10\n"
     ]
    }
   ],
   "source": [
    "print(a&b)"
   ]
  },
  {
   "cell_type": "markdown",
   "metadata": {},
   "source": [
    "**BITWISE OR |**<br>\n",
    "a = 0  0  0  0  1  0  1  0<br>\n",
    "b = 0  0  0  0  1  1  1  0<br>\n",
    "r = 0  0  0  0  1  1  1  0<br>"
   ]
  },
  {
   "cell_type": "code",
   "execution_count": 62,
   "metadata": {},
   "outputs": [
    {
     "name": "stdout",
     "output_type": "stream",
     "text": [
      "14\n"
     ]
    }
   ],
   "source": [
    "print(a|b)"
   ]
  },
  {
   "cell_type": "markdown",
   "metadata": {},
   "source": [
    "**BITWISE XOR |**The result in each position is 1 if only one of the bits is 1, but will be 0 if both are 0 or both are 1<br>\n",
    "a = 0  0  0  0  1  0  1  0<br>\n",
    "b = 0  0  0  0  1  1  1  0<br>\n",
    "r = 0  0  0  0  0  1  0  0<br>"
   ]
  },
  {
   "cell_type": "code",
   "execution_count": 66,
   "metadata": {},
   "outputs": [
    {
     "name": "stdout",
     "output_type": "stream",
     "text": [
      "4\n"
     ]
    }
   ],
   "source": [
    "print(a^b)"
   ]
  },
  {
   "cell_type": "markdown",
   "metadata": {},
   "source": [
    "**BITWISE NOT**\n",
    "the bitwise NOT operator (~), which expects just one argument, making it the only unary bitwise operator. It performs logical negation on a given number by flipping all of its bits.<br>\n",
    "0 to 1<br>\n",
    "1 to 0"
   ]
  },
  {
   "cell_type": "code",
   "execution_count": 4,
   "metadata": {},
   "outputs": [
    {
     "data": {
      "text/plain": [
       "-11"
      ]
     },
     "execution_count": 4,
     "metadata": {},
     "output_type": "execute_result"
    }
   ],
   "source": [
    "~10\n",
    "#output -11"
   ]
  },
  {
   "cell_type": "code",
   "execution_count": null,
   "metadata": {},
   "outputs": [],
   "source": [
    "# let us assume 8 bit system for integers\n",
    "# then 10 in binary is  0 0 0 0 1 0 1 0\n",
    "# negating 10 will form 1 1 1 1 0 1 0 1 (which is a negative number as MSB is 1)\n",
    "# now to read a negative number will should do 2's complement\n",
    "# 1 1 1 1 0 1 0 1 \n",
    "\n",
    "# 0 0 0 0 1 0 1 0  ( 1's Complement)\n",
    "#             + 1\n",
    "# -----------------\n",
    "# 0 0 0 0 1 0 1 1 ( this is negative eleven )"
   ]
  },
  {
   "cell_type": "markdown",
   "metadata": {},
   "source": [
    "**LEFT SHIFT**<br>\n",
    "Left Shift The bitwise left shift operator (<<) moves the bits of its first operand to the left by the number of places specified in its second operand. It also takes care of inserting enough zero bits to fill the gap that arises on the right edge of the new bit pattern.Shifting a single bit to the left by one place doubles its value.<br>\n",
    "    a\t   100111\t  39<br>\n",
    "a << 1\t  1001110\t  78<br>\n",
    "a << 2\t 10011100\t  156<br>\n",
    "a << 3\t100111000\t  312<br>\n",
    "\n",
    "In general, shifting bits to the left corresponds to multiplying the number by a power of two, with an exponent equal to the number of places shifted:<br>\n",
    "\n",
    "The arithmetic formula for the left shift operator<br>\n",
    "a<<n = a * 2\\**n<br>\n",
    "The left shift used to be a popular optimization technique because bit shifting is a single instruction and is cheaper to calculate than exponent or product. <br>"
   ]
  },
  {
   "cell_type": "markdown",
   "metadata": {},
   "source": [
    "**Right Shift**<br>\n",
    "The bitwise right shift operator (>>) is analogous to the left one, but instead of moving bits to the left, it pushes them to the right by the specified number of places. The rightmost bits always get dropped.<br>\n",
    "Every time you shift a bit to the right by one position, you halve its underlying value. Moving the same bit by two places to the right produces a quarter of the original value, and so on.<br>\n",
    "a\t    10011101\t157<br>\n",
    "a >> 1\t1001110\t    78<br>\n",
    "a >> 2\t100111\t    39<br>\n",
    "a >> 3\t10011\t    19<br>"
   ]
  },
  {
   "cell_type": "markdown",
   "metadata": {},
   "source": [
    "**Identity Operator**<br>\n",
    "Operator checks if both operands are same or not.<br>\n",
    "\n",
    "if x and y are equal then <br>\n",
    "x is y --> True<br>\n",
    "x is not y  --> False<br>\n",
    "\n",
    "if x and y are not equal then <br>\n",
    "x is y --> False<br>\n",
    "x is not y  --> True<br>"
   ]
  },
  {
   "cell_type": "code",
   "execution_count": 1,
   "metadata": {},
   "outputs": [
    {
     "name": "stdout",
     "output_type": "stream",
     "text": [
      "False\n",
      "False\n",
      "True\n"
     ]
    }
   ],
   "source": [
    "x = 200\n",
    "y = 300\n",
    "print(x==y)\n",
    "print (x is y)\n",
    "print (x is not y)"
   ]
  },
  {
   "cell_type": "code",
   "execution_count": 2,
   "metadata": {},
   "outputs": [
    {
     "name": "stdout",
     "output_type": "stream",
     "text": [
      "True\n",
      "False\n",
      "True\n"
     ]
    }
   ],
   "source": [
    "x = 300\n",
    "y = 300\n",
    "print(x==y)\n",
    "print (x is y) # False, as it is checking the memory location not the value at the location\n",
    "print (x is not y)\n",
    "# check what is x,y= 300,300 in above case? Hint: Memory Optimiztion"
   ]
  },
  {
   "cell_type": "code",
   "execution_count": 3,
   "metadata": {},
   "outputs": [
    {
     "name": "stdout",
     "output_type": "stream",
     "text": [
      "True\n",
      "True\n",
      "False\n"
     ]
    }
   ],
   "source": [
    "x,y = 300,300\n",
    "print(x==y)\n",
    "print (x is y) # False, as it is checking the memory location not the value at the location\n",
    "print (x is not y)\n",
    "# check what is x,y= 300,300 in above case? Hint: Memory Optimiztion"
   ]
  },
  {
   "cell_type": "markdown",
   "metadata": {},
   "source": [
    "**Membership Operators**<br>\n",
    "They are used to test whether a value or variable is found in a sequence.<br>\n",
    "\n",
    "if x is present in sequence y.<br>\n",
    "in -> true the element is present in the sequence.<br>\n",
    "not in -> false the element is present in the sequence.<br>\n",
    "\n",
    "if x is not present in sequence y.<br>\n",
    "in -> false the element is not present in the sequence.<br>\n",
    "not in -> true the element is not present in the sequence.<br>"
   ]
  },
  {
   "cell_type": "code",
   "execution_count": 42,
   "metadata": {},
   "outputs": [
    {
     "name": "stdout",
     "output_type": "stream",
     "text": [
      "True\n",
      "True\n",
      "True\n",
      "False\n"
     ]
    }
   ],
   "source": [
    "x = 'Hello world'\n",
    "y = [1,2,3,4]\n",
    "#y = 1,2,3,4\n",
    "#y = {1:'a',2:'b'}\n",
    "\n",
    "# Output: True\n",
    "print('H' in x)\n",
    "\n",
    "# Output: True\n",
    "print('hello' not in x)\n",
    "\n",
    "# Output: True\n",
    "print(1 in y)\n",
    "\n",
    "# Output: False\n",
    "print('b' in y)"
   ]
  },
  {
   "cell_type": "markdown",
   "metadata": {},
   "source": [
    "**Condional or Decision making Statements**<br>\n",
    "\n",
    "There are situations where we want a code block to execute when certain criteria or expression evaluates to be True or false, in such situations we want change the regular control flow of the program. To meet these requirements conditional or decision making statements are used. <br>\n",
    "\n",
    "\n",
    "1) **if statement** : when the condition or criteria evalutes to true , the execution to the code block starts.\n",
    "The If statement is the most fundamental decision-making statement, in which the code is executed based on whether it meets the specified condition. It has a code body that only executes if the condition in the if statement is true. The code block can be a single line or a block of code.\n"
   ]
  },
  {
   "cell_type": "code",
   "execution_count": 4,
   "metadata": {},
   "outputs": [
    {
     "name": "stdout",
     "output_type": "stream",
     "text": [
      "5 is a positive number.\n",
      "This statement is true.\n"
     ]
    }
   ],
   "source": [
    "num = 5\n",
    "if num > 0:\n",
    "    print(num, \"is a positive number.\")\n",
    "print(\"This statement is true.\")"
   ]
  },
  {
   "cell_type": "code",
   "execution_count": 8,
   "metadata": {},
   "outputs": [],
   "source": [
    "num = 11\n",
    "if (num < 10):\n",
    "        print(\"Num is smaller than 10\")\n",
    "print(\"This statement will always be executed\")"
   ]
  },
  {
   "cell_type": "code",
   "execution_count": 10,
   "metadata": {},
   "outputs": [],
   "source": [
    "a = 225\n",
    "b = 170\n",
    "if b > a:\n",
    "  print(\"b is greater than a\")"
   ]
  },
  {
   "cell_type": "code",
   "execution_count": 59,
   "metadata": {},
   "outputs": [
    {
     "name": "stdout",
     "output_type": "stream",
     "text": [
      "Congratulations! You have passed your exam\n"
     ]
    }
   ],
   "source": [
    "#You have written an exam for a total score of 100 and if your score is above or equal\n",
    "#to 60 then you will be considered as PASS in the exam.\n",
    "passing_Score = 60\n",
    "my_Score = 67\n",
    "if(my_Score >= passing_Score):\n",
    "             print(\"Congratulations! You have passed your exam\")\n",
    "print(\"This is always executed\")"
   ]
  },
  {
   "cell_type": "markdown",
   "metadata": {},
   "source": [
    "2) **If Else Statement**\n",
    "\n",
    "This statement is used when both the true and false parts of a given condition are specified to be executed. When the condition is true, the statement inside the if block is executed; if the condition is false, the statement inside else block is executed.\n",
    "\n",
    " "
   ]
  },
  {
   "cell_type": "code",
   "execution_count": 12,
   "metadata": {},
   "outputs": [
    {
     "name": "stdout",
     "output_type": "stream",
     "text": [
      "Positive or Zero\n"
     ]
    }
   ],
   "source": [
    "num = 0\n",
    "if num >= 0:\n",
    "    print(\"Positive or Zero\")\n",
    "else:\n",
    "     print(\"Negative number\")"
   ]
  },
  {
   "cell_type": "code",
   "execution_count": 61,
   "metadata": {},
   "outputs": [
    {
     "name": "stdout",
     "output_type": "stream",
     "text": [
      "number is less than 10\n",
      "This statement will always be executed\n"
     ]
    }
   ],
   "source": [
    "num = 5\n",
    "if(num > 10):\n",
    "    print(\"number is greater than 10\")\n",
    "else:\n",
    "    print(\"number is less than 10\")\n",
    "print(\"This statement will always be executed\")"
   ]
  },
  {
   "cell_type": "code",
   "execution_count": 63,
   "metadata": {},
   "outputs": [
    {
     "name": "stdout",
     "output_type": "stream",
     "text": [
      "b is smaller than a\n"
     ]
    }
   ],
   "source": [
    "a = 7\n",
    "b = 0\n",
    "if (a < b):\n",
    "            print( \"a is smaller than b\" )\n",
    "else:\n",
    "            print( \"b is smaller than a\" )"
   ]
  },
  {
   "cell_type": "code",
   "execution_count": 62,
   "metadata": {},
   "outputs": [
    {
     "name": "stdout",
     "output_type": "stream",
     "text": [
      "Congratulations!\n",
      "You are passed in the exam\n"
     ]
    }
   ],
   "source": [
    "passing_Score = 60\n",
    "my_Score = 67\n",
    "if(my_Score >= passing_Score):\n",
    "             print(\"Congratulations!\")    \n",
    "             print(\"You are passed in the exam\")        \n",
    "else:\n",
    "             print(\"Sorry! You failed the exam, better luck next time\")"
   ]
  },
  {
   "cell_type": "markdown",
   "metadata": {},
   "source": [
    "3) **elif statements**\n",
    "In Python, we have one more conditional statement called “elif” statements. “elif” statement is used to check multiple conditions only if the given condition is false. It’s similar to an “if-else” statement and the only difference is that in “else” we will not check the condition but in “elif” we will check the condition.<br>\n",
    "\n",
    "“elif” statements are similar to “if-else” statements but “elif” statements evaluate multiple conditions.<br>\n",
    "\n",
    "Syntax:<br>\n",
    "\n",
    "if (condition):<br>\n",
    "&emsp;#Set of statement to execute if condition is true<br>\n",
    "elif (condition):<br>\n",
    "&emsp;#Set of statements to be executed when if condition is false and elif condition is true<br>\n",
    "else:<br>\n",
    "&emsp;#Set of statement to be executed when both if and elif conditions are false<br>\n"
   ]
  },
  {
   "cell_type": "code",
   "execution_count": 64,
   "metadata": {},
   "outputs": [
    {
     "name": "stdout",
     "output_type": "stream",
     "text": [
      "Number is greater than 5\n"
     ]
    }
   ],
   "source": [
    "num = 10\n",
    "if (num == 0):\n",
    "     print(\"Number is Zero\")\n",
    "elif (num > 5):\n",
    "       print(\"Number is greater than 5\")\n",
    "else:\n",
    "       print(\"Number is smaller than 5\")"
   ]
  },
  {
   "cell_type": "code",
   "execution_count": 13,
   "metadata": {},
   "outputs": [
    {
     "name": "stdout",
     "output_type": "stream",
     "text": [
      "Number is Zero\n"
     ]
    }
   ],
   "source": [
    "num = 0\n",
    "if (num > 0):\n",
    "    print(\"Number is positive\")\n",
    "elif (num < 0):\n",
    "    print(\"Number is negative\")\n",
    "else:\n",
    "    print(\"Number is Zero\")"
   ]
  },
  {
   "cell_type": "code",
   "execution_count": 14,
   "metadata": {},
   "outputs": [
    {
     "name": "stdout",
     "output_type": "stream",
     "text": [
      "Passed in First class with distinction\n"
     ]
    }
   ],
   "source": [
    "my_marks = 90\n",
    "if (my_marks < 40):\n",
    "              print(\"Sorry!, You failed the exam\")\n",
    "elif(my_marks > 60 and my_marks <75): \n",
    "              print(\"Passed in First class\")\n",
    "elif(my_marks > 75 and my_marks <=100):\n",
    "              print(\"Passed in First class with distinction\")\n",
    "else : \n",
    "              print(\"Marks are out of Maximum Range! Re-enter\")"
   ]
  },
  {
   "cell_type": "markdown",
   "metadata": {},
   "source": [
    "**Nested if**\n",
    "A nested if is an if statement that is present in the code block of\n",
    "another if statement. In other words, it means- an if statement inside\n",
    "another if statement. A nested conditional will be executed only when the\n",
    "parent conditional is true."
   ]
  },
  {
   "cell_type": "code",
   "execution_count": 15,
   "metadata": {},
   "outputs": [
    {
     "name": "stdout",
     "output_type": "stream",
     "text": [
      "Negative number\n"
     ]
    }
   ],
   "source": [
    "num = -1\n",
    "if num >= 0:\n",
    "    if num == 0:\n",
    "        print(\"zero\")\n",
    "    else:\n",
    "        print(\"Positive number\")\n",
    "else:\n",
    "    print(\"Negative number\")"
   ]
  },
  {
   "cell_type": "code",
   "execution_count": 16,
   "metadata": {},
   "outputs": [
    {
     "name": "stdout",
     "output_type": "stream",
     "text": [
      "Number is greater than Zero\n"
     ]
    }
   ],
   "source": [
    "# short hand if statement\n",
    "num = 7\n",
    "if (num > 0): print(\"Number is greater than Zero\")"
   ]
  },
  {
   "cell_type": "code",
   "execution_count": 18,
   "metadata": {},
   "outputs": [
    {
     "name": "stdout",
     "output_type": "stream",
     "text": [
      "The given value of a: \n",
      "10\n"
     ]
    }
   ],
   "source": [
    "a = 10\n",
    "if (a): \n",
    "    print( \"The given value of a: \" )\n",
    "    print(a)"
   ]
  },
  {
   "cell_type": "code",
   "execution_count": 20,
   "metadata": {},
   "outputs": [
    {
     "name": "stdout",
     "output_type": "stream",
     "text": [
      "B\n"
     ]
    }
   ],
   "source": [
    "# short hand if else statement or Ternary operator of python\n",
    "#Syntax\n",
    "# value_if_true  if  condition  else  value_if_false\n",
    "a = 7\n",
    "b = 9\n",
    "print(\"A\") if a > b else print(\"B\")\n",
    "# if a>b:\n",
    "#     print('A')\n",
    "# else:\n",
    "#     print('B')"
   ]
  },
  {
   "cell_type": "code",
   "execution_count": 85,
   "metadata": {},
   "outputs": [
    {
     "name": "stdout",
     "output_type": "stream",
     "text": [
      "B is greater\n"
     ]
    }
   ],
   "source": [
    "# short hand if else statement with 3 conditions\n",
    "a = 3\n",
    "b = 5\n",
    "print(\"A is greater\") if a > b else {print(\"=\") if a == b else print(\"B is greater\")}"
   ]
  },
  {
   "cell_type": "code",
   "execution_count": 1,
   "metadata": {},
   "outputs": [],
   "source": [
    "#Example\n",
    "num = 2\n",
    "if num >= 0:\n",
    "    sign = \"positive\"\n",
    "else:\n",
    "    sign = \"negative\"\n",
    "    \n",
    "# Equivalent inline code\n",
    "sign = \"positive\" if num >=0 else \"negative\""
   ]
  },
  {
   "cell_type": "code",
   "execution_count": 89,
   "metadata": {},
   "outputs": [
    {
     "name": "stdout",
     "output_type": "stream",
     "text": [
      "Number is Zero\n"
     ]
    }
   ],
   "source": [
    "num = 0\n",
    "if (num < 0): print(\"Number is smaller than Zero\")\n",
    "elif (num > 0): print(\"Number is greater than Zero\")\n",
    "else: print(\"Number is Zero\")"
   ]
  },
  {
   "cell_type": "code",
   "execution_count": 90,
   "metadata": {},
   "outputs": [
    {
     "name": "stdout",
     "output_type": "stream",
     "text": [
      "All the conditions are true\n"
     ]
    }
   ],
   "source": [
    "num1 = 10\n",
    "num2 = 20\n",
    "num3 = 30\n",
    "if (num1 == 10 and num2 == 20 and num3 == 30):\n",
    "             print(\"All the conditions are true\")\n"
   ]
  },
  {
   "cell_type": "markdown",
   "metadata": {},
   "source": [
    "**Challenge Problem**<br>\n",
    "In the Gregorian calendar, a normal year consists of 365 days. Because the actual length of a sidereal year (the time required for the Earth to revolve once about the Sun) is actually 365.2425 days, a \"leap year\" of 366 days is used once every four years to eliminate the error caused by three normal (but short) years.\n",
    "<br>\n",
    "To determine whether a year is a leap year, follow these steps:\n",
    "\n",
    "1. If the year is evenly divisible by 4, go to step 2. Otherwise, go to step 5.\n",
    "2. If the year is evenly divisible by 100, go to step 3. Otherwise, go to step 4.\n",
    "3. If the year is evenly divisible by 400, go to step 4. Otherwise, go to step 5.\n",
    "4. The year is a leap year (it has 366 days).\n",
    "5. The year is not a leap year (it has 365 days).\n",
    "\n"
   ]
  },
  {
   "cell_type": "code",
   "execution_count": 106,
   "metadata": {},
   "outputs": [
    {
     "name": "stdout",
     "output_type": "stream",
     "text": [
      "Enter the year2000\n",
      "This is a leap year.\n"
     ]
    }
   ],
   "source": [
    "# Python program to check leap year or not\n",
    "checkyear =int(input(\"Enter the year\"))\n",
    "if (checkyear % 4) == 0:\n",
    "    if (checkyear % 100) == 0:\n",
    "        if (checkyear % 400) == 0:\n",
    "            print(\"This is a leap year.\")\n",
    "        else:\n",
    "            print(\"This is not a leap year.\")\n",
    "    else:\n",
    "          print(\"This is not a leap year.\")\n",
    "else:\n",
    "    print(\"This is not a leap year.\")"
   ]
  },
  {
   "cell_type": "markdown",
   "metadata": {},
   "source": [
    "**Challenge Problem 2**\n",
    "Change the above program to ask the user to input the year and month (in numerals) and display whether the year is leap year or not and also display the number of days in the month."
   ]
  },
  {
   "cell_type": "code",
   "execution_count": 23,
   "metadata": {},
   "outputs": [
    {
     "name": "stdout",
     "output_type": "stream",
     "text": [
      "Enter the year: 2024\n",
      "Enter the month: 2\n",
      "Leap Year\n",
      "There are 29 days in this month \n"
     ]
    }
   ],
   "source": [
    "currentYear = int(input (\"Enter the year: \" ) )\n",
    "month = int(input(\"Enter the month: \" ) )\n",
    "if ((currentYear % 4 ) == 0 and (currentYear % 100 ) != 0 or (currentYear % 400 ) == 0 ):\n",
    "       print(\"Leap Year\")\n",
    "       if(month == 1 or month == 3 or month == 5 or month == 7 or month == 8 or month == 10 or month == 12):\n",
    "               print(\"There are 31 days in this month \" )\n",
    "       elif ( month == 4 or month == 6 or month == 9 or month == 11 ):\n",
    "        print(\"There are 30 days in this month \" )\n",
    "       elif ( month == 2 ):\n",
    "        print(\"There are 29 days in this month \" )\n",
    "       else:\n",
    "        print(\"Invalid month \")\n",
    "elif ( ( currentYear % 4 ) != 0 or ( currentYear % 100 ) != 0 or ( currentYear % 400 ) != 0 ):\n",
    "       print(\"Non Leap Year \" )\n",
    "       if ( month == 1 or month == 3 or month == 5 or month == 7 or month == 8 or month == 10 or month == 12 ):\n",
    "        print(\"There are 31 days in this month\" )\n",
    "       elif ( month == 4 or month == 6 or month == 9 or month == 11 ):\n",
    "        print(\"There are 30 days in this month \" )\n",
    "       elif ( month == 2 ):\n",
    "        print(\"There are 28 days in this month \")\n",
    "       else:\n",
    "        print(\"Invalid month \" )\n",
    "else:\n",
    "       print( \" Invalid Year \" )"
   ]
  },
  {
   "cell_type": "markdown",
   "metadata": {},
   "source": [
    "**List**<br>\n",
    "A list is a type of Python object that allows us to store a sequence of other objects. One of its major utilities is that it provides us with means for updating the contents of a list later on.\n",
    "\n",
    "A list object is created using square-brackets, and its contents are separated by commas: [item1, item2, ..., itemN]. Its contents need not be of the same type of object.\n",
    "<br>\n",
    "Examples of List:<br>\n",
    "[3.5, None, 3.5, True, \"hello\"]<br>\n",
    "[\"hello\"]<br>\n",
    "x = \"hello\"<br>\n",
    "[2 < 3, x.capitalize(), 5**2, [1, 2]]<br>\n",
    "list(\"apple\")<br>"
   ]
  },
  {
   "cell_type": "code",
   "execution_count": 26,
   "metadata": {},
   "outputs": [
    {
     "name": "stdout",
     "output_type": "stream",
     "text": [
      "[3.5, None, 3.5, True, 'hello']\n",
      "['hello']\n",
      "[True, 'Hello', 25, [1, 2]]\n",
      "['a', 'p', 'p', 'l', 'e']\n"
     ]
    }
   ],
   "source": [
    "print([3.5, None, 3.5, True, \"hello\"])\n",
    "print([\"hello\"])\n",
    "x = \"hello\"\n",
    "print([2 < 3, x.capitalize(), 5**2, [1, 2]])\n",
    "print(list(\"apple\"))"
   ]
  },
  {
   "cell_type": "code",
   "execution_count": 29,
   "metadata": {},
   "outputs": [
    {
     "data": {
      "text/plain": [
       "False"
      ]
     },
     "execution_count": 29,
     "metadata": {},
     "output_type": "execute_result"
    }
   ],
   "source": [
    "# Lists are sequences\n",
    "# Like a string, the ordering of a list’s contents matters, \n",
    "# meaning that a list is sequential in nature.\n",
    "[1, \"a\", True] == [1, True, \"a\"]"
   ]
  },
  {
   "cell_type": "code",
   "execution_count": null,
   "metadata": {},
   "outputs": [],
   "source": [
    "# a list supports the same mechanism for accessing its contents, via indexing and slicing, as does a string. \n",
    "# Indexing and slicing will be covered in detail later"
   ]
  },
  {
   "cell_type": "code",
   "execution_count": 31,
   "metadata": {},
   "outputs": [
    {
     "name": "stdout",
     "output_type": "stream",
     "text": [
      "5\n",
      "2\n",
      "[4, 6]\n"
     ]
    }
   ],
   "source": [
    "# Accessing the contents of a list with indexing and slicing\n",
    "x = [2, 4, 6, 8, 10]\n",
    "\n",
    "# `x` contains five items\n",
    "print(len(x))\n",
    "\n",
    "\n",
    "# access the 0th item in the list via \"indexing\"\n",
    "print(x[0])\n",
    "\n",
    "\n",
    "# access a subsequence of the list via \"slicing\"\n",
    "print(x[1:3])\n"
   ]
  },
  {
   "cell_type": "markdown",
   "metadata": {},
   "source": [
    "**Lists can be “mutated”**<br>\n",
    "We will encounter other types of containers in Python, what makes the list stand out is that the contents of a list can be changed after the list has already been constructed. Thus a list is an example of a __*mutable*__ object."
   ]
  },
  {
   "cell_type": "code",
   "execution_count": 34,
   "metadata": {},
   "outputs": [
    {
     "name": "stdout",
     "output_type": "stream",
     "text": [
      "[2, 'apple', 6, 8, 10]\n",
      "[2, -3, -4, -5, 10]\n"
     ]
    }
   ],
   "source": [
    "# changing a list after it has been constructed\n",
    "x = [2, 4, 6, 8, 10]\n",
    "y = [2, 4, 6, 8, 10]\n",
    "\n",
    "# \"set\" the string 'apple' into position 1 of `x`\n",
    "x[1] = \"apple\"\n",
    "print(x)\n",
    "#[2, 'apple', 6, 8, 10]\n",
    "\n",
    "# replace a subsequence of `y`\n",
    "y[1:4] = [-3, -4, -5]\n",
    "print(y)\n",
    "#[2, -3, -4, -5, 10]"
   ]
  },
  {
   "cell_type": "markdown",
   "metadata": {},
   "source": [
    "The built-in list-functions __*append*__ and __*extend*__ allow us to add one item and multiple items to the end of a list, respectively:"
   ]
  },
  {
   "cell_type": "code",
   "execution_count": null,
   "metadata": {},
   "outputs": [],
   "source": [
    "x = [2, 4, 6, 8, 10]\n",
    "\n",
    "# use `append` to add a single object to the end of a list\n",
    "x.append(\"moo\")\n",
    "print(x)\n",
    "#[2, 4, 6, 8, 10, 'moo']\n",
    "\n",
    "# use `extend` to add a sequence of items to the end of a list\n",
    "x.extend([True, False, None])\n",
    "print(x)\n",
    "#[2, 4, 6, 8, 10, 'moo', True, False, None]"
   ]
  },
  {
   "cell_type": "markdown",
   "metadata": {},
   "source": [
    "The __*pop*__ and __*remove*__ functions allow us to remove an item from a list based on its position in the list, or by specifying the item itself, respectively."
   ]
  },
  {
   "cell_type": "code",
   "execution_count": 1,
   "metadata": {},
   "outputs": [
    {
     "name": "stdout",
     "output_type": "stream",
     "text": [
      "b\n",
      "['a', 'c', 'd']\n",
      "['a', 'c']\n"
     ]
    }
   ],
   "source": [
    "x = [\"a\", \"b\", \"c\", \"d\"]\n",
    "\n",
    "# pop the position-1 item out from a list\n",
    "# `pop` will return the item that gets removed.\n",
    "print(x.pop(1))\n",
    "\n",
    "print(x)\n",
    "#['a', 'c', 'd']\n",
    "\n",
    "# remove the object \"d\" from the list\n",
    "x.remove(\"d\")\n",
    "print(x)\n",
    "#['a', 'c']"
   ]
  },
  {
   "cell_type": "markdown",
   "metadata": {},
   "source": [
    "**Iteration Statements**\n",
    "There are two types of Iteration Statements\n",
    "1. While:<br>\n",
    "A “while-loop” allows you to repeat a block of code until a condition is no longer true.<br>\n",
    "The while loop continues to execute the code repeatedly, as long as the expression<br>\n",
    "is True. In other words, a while loop iterates over a block of code. In Python, the<br>\n",
    "body of a while loop is determined by the indentation. It starts with indentation and<br>\n",
    "ends at the first unindented line.<br>\n",
    "The most important part of a while loop is the looping variable. This looping variable<br>\n",
    "controls the flow of iterations<br>\n",
    "Syntax:<br>\n",
    "while <condition>:<br>\n",
    "&emsp;block of code<br>\n",
    "    \n",
    "Where condition is an expression that returns True or False, or is any object on which bool can be called. The “body” of the while-loop is the code indented beneath the while-loop statement.\n",
    "\n",
    "The while-loop behaves as follows:\n",
    "\n",
    "Call bool(\\<condition\\>) and execute the indented block of code if True is returned. Otherwise, “exit” the while-loop, skipping past the indented code.\n",
    "\n",
    "If the indented block code is executed, go back to the first step.\n",
    "    \n",
    "\n"
   ]
  },
  {
   "cell_type": "code",
   "execution_count": null,
   "metadata": {},
   "outputs": [],
   "source": [
    "# demonstrating a basic while-loop\n",
    "total = 0\n",
    "while total < 2:\n",
    "    total += 1  # equivalent to: `total = total + 1`\n",
    "    \n",
    "print(total)  # `total` has the value 2"
   ]
  },
  {
   "cell_type": "code",
   "execution_count": null,
   "metadata": {},
   "outputs": [],
   "source": [
    "# This code will perform the following steps:\n",
    "# 1.Define the variable total, and assign it the value 0\n",
    "# 2.Evaluate 0 < 2, which returns True: enter the enclosed code-block\n",
    "# 3.Execute the code block: assign total the value 0 + 1\n",
    "# 4.Evaluate 1 < 2, which returns True: enter the enclosed code-block\n",
    "# 5.Execute the code block: assign total the value 1 + 1\n",
    "# 6.Evaluate 2 < 2, which returns False: skip the enclosed code-block\n",
    "# 7.Print the value of total (2)\n",
    "\n",
    "# Warning!\n",
    "\n",
    "# It is possible to write a while-loop such that its conditional statement is always True, \n",
    "# in which case your code will run ceaselessly! If this ever happens to you in a Jupyter notebook, \n",
    "# either interrupt or restart your kernel."
   ]
  },
  {
   "cell_type": "code",
   "execution_count": 2,
   "metadata": {},
   "outputs": [
    {
     "name": "stdout",
     "output_type": "stream",
     "text": [
      "10\n"
     ]
    }
   ],
   "source": [
    "#Given an Integer n, Find the Sum of first n Natural numbers.\n",
    "n = 4\n",
    "sum = 0\n",
    "i = 1             #Initialising the looping variable to 1\n",
    "while (i<=n):     #The loop will continue till the value of i<number\n",
    "    sum = sum + i\n",
    "    i = i+1           #Value of i is updated at the end of every iteration\n",
    "print(sum)"
   ]
  },
  {
   "cell_type": "code",
   "execution_count": 3,
   "metadata": {},
   "outputs": [
    {
     "name": "stdout",
     "output_type": "stream",
     "text": [
      "9\n"
     ]
    }
   ],
   "source": [
    "# for-loop:\n",
    "#A “for-loop” allows you to iterate over a collection of items, \n",
    "#and execute a block of code once for each iteration.\n",
    "# Syntax:(FOR LOOP)\n",
    "# for <var> in <iterable>: \n",
    "#     block of code\n",
    "# Where <var> is any valid variable-identifier and <iterable> is any iterable. \n",
    "# Every sequence-type object is an iterable. \n",
    "# The for statement must end in a colon character, \n",
    "# and the body the for-loop is whitespace-delimited.\n",
    "\n",
    "# The for-loop behaves as follows:\n",
    "# 1.Request the next member of the iterable.\n",
    "# 2.If the iterable is empty, exit the for-loop without running its body.\n",
    "# 3.If the iterable did produce a member, assign that member to <var> \n",
    "# (if <var> was not previously defined, it becomes defined).\n",
    "# 4.Execute the enclosed body of code.\n",
    "# 5. Go back to the first step.\n",
    "\n",
    "# demonstrating a basic for-loop\n",
    "total = 0\n",
    "for item in [1, 3, 5]:\n",
    "    total = total + item\n",
    "\n",
    "print(total)  # `total` has the value 1 + 3 + 5 = 9\n",
    "# `item` is still defined here, and holds the value 5"
   ]
  },
  {
   "cell_type": "code",
   "execution_count": 3,
   "metadata": {},
   "outputs": [],
   "source": [
    "# This code will perform the following steps:\n",
    "# 1.Define the variable total, and assign it the value 0\n",
    "# 2.Iterate on the list, producing value 1, define the variable item and assign it the value 1\n",
    "# 3.Assign total the value 0 + 1\n",
    "# 4.Iterate on the list, producing the value 3 and assigning it to item\n",
    "# 5.Assign total the value 1 + 3\n",
    "# 6.Iterate on the list, producing the value 5 and assigning it to item\n",
    "# 7.Assign total the value 4 + 5\n",
    "# 8.Iterate on the list. Having reached its end, a StopIteration signal it raised by the list, and the for-loop sequence is exited.\n",
    "# 9.Print the value of total (9)\n",
    "\n",
    "# Potential Pitfall\n",
    "# Note that the variable item will persist after the for-loop block is exited. \n",
    "# It will reference the last value from the for-loop iteration (in this case item has the value 5).\n",
    "# That being said, you should not write code that depends on the iterate-variable, \n",
    "# outside of the context of the for-loop."
   ]
  },
  {
   "cell_type": "code",
   "execution_count": 4,
   "metadata": {},
   "outputs": [
    {
     "ename": "NameError",
     "evalue": "name 'x' is not defined",
     "output_type": "error",
     "traceback": [
      "\u001b[1;31m---------------------------------------------------------------------------\u001b[0m",
      "\u001b[1;31mNameError\u001b[0m                                 Traceback (most recent call last)",
      "\u001b[1;32m<ipython-input-4-8429b0db29f5>\u001b[0m in \u001b[0;36m<module>\u001b[1;34m\u001b[0m\n\u001b[0;32m      1\u001b[0m \u001b[1;32mfor\u001b[0m \u001b[0mx\u001b[0m \u001b[1;32min\u001b[0m \u001b[1;33m[\u001b[0m\u001b[1;33m]\u001b[0m\u001b[1;33m:\u001b[0m         \u001b[1;31m# the iterable is empty - the iterate-variable `x` will not be defined\u001b[0m\u001b[1;33m\u001b[0m\u001b[1;33m\u001b[0m\u001b[0m\n\u001b[0;32m      2\u001b[0m     \u001b[0mprint\u001b[0m\u001b[1;33m(\u001b[0m\u001b[1;34m\"Hello?\"\u001b[0m\u001b[1;33m)\u001b[0m  \u001b[1;31m# this code is never executed\u001b[0m\u001b[1;33m\u001b[0m\u001b[1;33m\u001b[0m\u001b[0m\n\u001b[1;32m----> 3\u001b[1;33m \u001b[0mprint\u001b[0m\u001b[1;33m(\u001b[0m\u001b[0mx\u001b[0m\u001b[1;33m)\u001b[0m             \u001b[1;31m# raises an error because `x` was never defined\u001b[0m\u001b[1;33m\u001b[0m\u001b[1;33m\u001b[0m\u001b[0m\n\u001b[0m",
      "\u001b[1;31mNameError\u001b[0m: name 'x' is not defined"
     ]
    }
   ],
   "source": [
    "for x in []:         # the iterable is empty - the iterate-variable `x` will not be defined\n",
    "    print(\"Hello?\")  # this code is never executed\n",
    "print(x)             # raises an error because `x` was never defined"
   ]
  },
  {
   "cell_type": "code",
   "execution_count": null,
   "metadata": {},
   "outputs": [],
   "source": [
    "#Using a for-loop and an if-statement, print each letter in the string \"abcdefghij\", \n",
    "#if that letter is a vowel."
   ]
  },
  {
   "cell_type": "markdown",
   "metadata": {},
   "source": [
    "**break, continue, & else clauses on loops**  \n",
    "The continue and break statements can be used within the bodies of both for-loops and while-loops. They provide added means for “short-circuiting” or prematurely exiting a given loop, respectively.\n",
    "\n",
    "Encountering break within a given loop causes that loop to be exited immediately:It basically means that during the iteration if certain criteria is met then we can do premature exit from the loop."
   ]
  },
  {
   "cell_type": "code",
   "execution_count": 8,
   "metadata": {},
   "outputs": [
    {
     "name": "stdout",
     "output_type": "stream",
     "text": [
      "1  ...next iteration\n",
      "2  ...next iteration\n",
      "3  ...break!\n"
     ]
    }
   ],
   "source": [
    "# breaking out of a loop early\n",
    "for item in [1, 2, 3, 4, 5]:\n",
    "    if item == 3:\n",
    "        print(item, \" ...break!\")\n",
    "        break\n",
    "    print(item, \" ...next iteration\")"
   ]
  },
  {
   "cell_type": "markdown",
   "metadata": {},
   "source": [
    "The continue statement, when encountered within a loop, causes the loop-statement to be revisited immediately.\n",
    "It means whenever we encounter the continue statement in the executing loop, the control flow of the program will go the first line of the loop skipping the contents below the continue statement."
   ]
  },
  {
   "cell_type": "code",
   "execution_count": 15,
   "metadata": {},
   "outputs": [
    {
     "name": "stdout",
     "output_type": "stream",
     "text": [
      "1\n",
      "2\n",
      "4\n",
      "5\n",
      "6\n"
     ]
    }
   ],
   "source": [
    "## demonstrating a `continue` statement in a loop\n",
    "i = 0\n",
    "while i<6:\n",
    "    i=i+1\n",
    "    if(i==3):\n",
    "        continue\n",
    "    print(i)"
   ]
  },
  {
   "cell_type": "code",
   "execution_count": 16,
   "metadata": {},
   "outputs": [
    {
     "name": "stdout",
     "output_type": "stream",
     "text": [
      "x =  1 >> enter loop-body <<\n",
      "--reached end of loop-body--\n",
      "x =  2 >> enter loop-body <<\n",
      "x =  2  continue...back to the top of the loop!\n",
      "x =  3 >> enter loop-body <<\n",
      "--reached end of loop-body--\n"
     ]
    }
   ],
   "source": [
    "# demonstrating a `continue` statement in a loop\n",
    "x = 1\n",
    "while x < 4:\n",
    "    print(\"x = \", x, \">> enter loop-body <<\")\n",
    "    if x == 2:\n",
    "         print(\"x = \", x, \" continue...back to the top of the loop!\")\n",
    "         x += 1\n",
    "         continue\n",
    "    x += 1\n",
    "    print(\"--reached end of loop-body--\")"
   ]
  },
  {
   "cell_type": "markdown",
   "metadata": {},
   "source": [
    "An else clause can be added to the end of any loop. The body of this else-statement will be executed only if the loop was not exited via a ``break`` statement."
   ]
  },
  {
   "cell_type": "code",
   "execution_count": 5,
   "metadata": {},
   "outputs": [
    {
     "name": "stdout",
     "output_type": "stream",
     "text": [
      "2  ...next iteration\n",
      "4  ...next iteration\n",
      "6  ...next iteration\n",
      "3  ...break!\n"
     ]
    }
   ],
   "source": [
    "# including an else-clause at the end of the loop\n",
    "for item in [2, 4, 6, 3]:\n",
    "    if item == 3:\n",
    "        print(item, \" ...break!\")\n",
    "        break\n",
    "    print(item, \" ...next iteration\")\n",
    "else:\n",
    "     print(\"if you are reading this, then the loop completed without a 'break'\")"
   ]
  },
  {
   "cell_type": "markdown",
   "metadata": {},
   "source": [
    "The pass statement is a null statement.\n",
    "● It is generally used as a placeholder for future code, you cannot\n",
    "leave the space blank as it will give a compilation error.\n",
    "● Sometimes, pass is used when the user does not want any code to\n",
    "execute."
   ]
  },
  {
   "cell_type": "code",
   "execution_count": 6,
   "metadata": {},
   "outputs": [
    {
     "name": "stdout",
     "output_type": "stream",
     "text": [
      "Executed\n",
      "Executed\n"
     ]
    }
   ],
   "source": [
    "#demonstrate the use of pass statement\n",
    "for item in [2, 4, 6]:\n",
    "    if item==2:\n",
    "        pass #Pass statement: Nothing will happen\n",
    "    else:\n",
    "        print(\"Executed\")"
   ]
  },
  {
   "cell_type": "markdown",
   "metadata": {},
   "source": [
    "**Nested Loops**\n",
    "Python programming language allows the usage of one loop inside\n",
    "another loop. The loops can be nested the same way, the conditional\n",
    "statements are."
   ]
  },
  {
   "cell_type": "markdown",
   "metadata": {},
   "source": [
    "**Range Function**  \n",
    "A sequence in Python is a succession of values bound together by a single name. like list.    \n",
    "A generator is a special kind of iterator, which stores the instructions for how to generate each of its members, in order, along with its current state of iterations. It generates each member, one at a time, only as it is requested via iteration.  \n",
    "A generator does not store any items. Instead, it stores the instructions for generating each of its members, and stores its iteration state; this means that the generator will know if it has generated its second member, and will thus generate its third member the next time it is iterated on.\n",
    "\n",
    "The whole point of this is that you can use a generator to produce a long sequence of items, without having to store them all in memory.\n",
    "__range() Function/Generator__  \n",
    "The range() function in Python generates a immutable sequence of numbers starting from the given start integer to the stop integer on the fly, like 0, 1, 2, 3, 4..\n",
    "It returns the object of class range.\n",
    "\n",
    "<br>\n",
    "The syntax of the range() function is given below:  \n",
    "range(Lower Limit, Upper Limit) # Both limits are integers.  \n",
    "The function, range(L,U), will produce a list having values L, L+1, L+2....(U-1).  \n",
    "Note: The lower limit is included in the list but the upper limit is not.  \n",
    "<br>\n",
    "For Example:  \n",
    "list(range(0,5))  \n",
    "[0,1,2,3,4] #Output of the range() function  \n",
    "Note: The default step value is +1, i.e. the difference in the consecutive values of the sequence  \n",
    "generated will be +1.  \n",
    "<br>\n",
    "If you want to create a list with a step value other than 1, you can use the following syntax:  \n",
    "range(Lower Limit, Upper Limit, Step Value>  \n",
    "The function, range(L, U, S), will produce a list [L, L+S, L+2S...<= (U-1)].  \n",
    "For Example:  \n",
    "list(range(0,5,2))  \n",
    "[0,2,4] #Output of the range() function  \n",
    "<br>\n",
    "Reference :<br>\n",
    "https://pynative.com/python-if-else-and-for-loop-exercise-with-solutions/  \n"
   ]
  },
  {
   "cell_type": "code",
   "execution_count": 7,
   "metadata": {},
   "outputs": [
    {
     "name": "stdout",
     "output_type": "stream",
     "text": [
      "2\n",
      "3\n",
      "4\n",
      "5\n",
      "6\n"
     ]
    }
   ],
   "source": [
    "# start: 2  (included)\n",
    "#  stop: 7  (excluded)\n",
    "#  step: 1  (default)\n",
    "for i in range(2, 7):\n",
    "    print(i)\n",
    "# prints: 2.. 3.. 4.. 5.. 6"
   ]
  },
  {
   "cell_type": "code",
   "execution_count": 8,
   "metadata": {},
   "outputs": [
    {
     "name": "stdout",
     "output_type": "stream",
     "text": [
      "1\n",
      "3\n",
      "5\n",
      "7\n",
      "9\n"
     ]
    }
   ],
   "source": [
    "# start:  1  (included)\n",
    "#  stop: 10  (excluded)\n",
    "#  step:  2\n",
    "for i in range(1, 10, 2):\n",
    "    print(i)\n",
    "# prints: 1.. 3.. 5.. 7.. 9"
   ]
  },
  {
   "cell_type": "code",
   "execution_count": 9,
   "metadata": {},
   "outputs": [
    {
     "name": "stdout",
     "output_type": "stream",
     "text": [
      "0\n",
      "1\n",
      "2\n",
      "3\n",
      "4\n"
     ]
    }
   ],
   "source": [
    "# A very common use case!\n",
    "# start:  0  (default, included)\n",
    "#  stop:  5  (excluded)\n",
    "#  step:  1  (default)\n",
    "for i in range(5):\n",
    "    print(i)\n",
    "# prints: 0.. 1.. 2.. 3.. 4"
   ]
  },
  {
   "attachments": {
    "Mem_Consumption_Generator.png": {
     "image/png": "[encoded data removed]"
    }
   },
   "cell_type": "markdown",
   "metadata": {},
   "source": [
    "Because range is a generator, the command range(5) will simply store the instructions needed to produce the sequence of numbers 0-4, whereas the list [0, 1, 2, 3, 4] stores all of these items in memory at once. For short sequences, this seems to be a rather paltry savings; this is not the case for long sequences. The following graph compares the memory consumption used when defining a generator for the sequence of numbers  using range, compared to storing the sequence in a list:  \n",
    "![Mem_Consumption_Generator.png](attachment:Mem_Consumption_Generator.png)  \n",
    "Given our discussion of generators, it should make sense that the memory consumed simply by defining range(N) is independent of N , whereas the memory consumed by the list grows linearly with  (for large N).\n"
   ]
  },
  {
   "cell_type": "code",
   "execution_count": 10,
   "metadata": {},
   "outputs": [
    {
     "name": "stdout",
     "output_type": "stream",
     "text": [
      "[0, 1, 2, 3, 4]\n",
      "[0, 1, 2, 3, 4]\n",
      "[0, 1, 2, 3, 4]\n",
      "[0, 2, 4]\n",
      "[5, 4, 3, 2, 1]\n",
      "[-5, -4, -3, -2, -1]\n",
      "[-2, -3, -4, -5]\n"
     ]
    }
   ],
   "source": [
    "#range(lower,uppter) -- generates the numbers starting from lower to upper-1\n",
    "print(list(range(0,5)))\n",
    "print(list(range(5)))\n",
    "print(list(range(0,5,1)))\n",
    "print(list(range(0,5,2)))\n",
    "print(list(range(5,0,-1)))\n",
    "print(list(range(-5,0,1)))\n",
    "print(list(reversed(range(-5,-1,1))))"
   ]
  },
  {
   "cell_type": "code",
   "execution_count": null,
   "metadata": {},
   "outputs": [],
   "source": [
    "#**Challenge**:Using range in a for-loop, print the numbers 10-1, in sequence."
   ]
  },
  {
   "cell_type": "markdown",
   "metadata": {},
   "source": [
    "**Creating your own generator: generator comprehensions**  \n",
    "Python provides a sleek syntax for defining a simple generator in a single line of code; this expression is known as a generator comprehension.  \n",
    "The syntax (\\<expression> for \\<var> in \\<iterable> [if \\<condition>]) specifies the general form for a generator comprehension. This produces a generator, whose instructions for generating its members are provided within the parenthetical statement.  \n",
    "Written in a long form, the pseudo-code for  \n",
    "\n",
    "(\\<expression> for \\<var> in \\<iterable> if \\<condition>)  \n",
    "  \n",
    "is:\n",
    "  \n",
    "for \\<var> in \\<iterable>:  \n",
    "  &emsp;if bool(\\<condition>):  \n",
    "   &emsp;&emsp; yield \\<expression> \n",
    "   <br> \n",
    "The following expression defines a generator for all the even numbers in 0-99:  \n",
    "**when iterated over, `even_gen` will generate 0.. 2.. 4.. ... 98**  \n",
    "even_gen = (i for i in range(100) if i%2 == 0)\n"
   ]
  },
  {
   "cell_type": "code",
   "execution_count": 3,
   "metadata": {},
   "outputs": [
    {
     "name": "stdout",
     "output_type": "stream",
     "text": [
      "<generator object <genexpr> at 0x0000000004CA6F90>\n",
      "98\n"
     ]
    }
   ],
   "source": [
    "even_gen = (i for i in range(100) if i%2 == 0)\n",
    "#print(even_gen)\n",
    "print(max(even_gen))\n",
    "# for i in even_gen:\n",
    "#     if(i<10):\n",
    "#         print(i)"
   ]
  },
  {
   "cell_type": "markdown",
   "metadata": {},
   "source": [
    "The if \\<condition> clause in the generator expression is optional. The generator comprehension  \n",
    "\n",
    "(\\<expression> for \\<var> in <\\iterable>)  \n",
    "corresponds to:  \n",
    "  \n",
    "for \\<var> in \\<iterable>:  \n",
    "    &emsp;yield \\<expression>  \n",
    "For example:  \n",
    "  \n",
    "\\# when iterated over, `example_gen` will generate 0/2.. 9/2.. 21/2.. 32/2  \n",
    "example_gen = (i/2 for i in [0, 9, 21, 32])  "
   ]
  },
  {
   "cell_type": "code",
   "execution_count": 4,
   "metadata": {},
   "outputs": [
    {
     "name": "stdout",
     "output_type": "stream",
     "text": [
      "0.0\n",
      "4.5\n",
      "10.5\n",
      "16.0\n"
     ]
    }
   ],
   "source": [
    "# when iterated over, `example_gen` will generate 0/2.. 9/2.. 21/2.. 32/2\n",
    "example_gen = (i/2 for i in [0, 9, 21, 32])\n",
    "\n",
    "for item in example_gen:\n",
    "    print(item)\n",
    "# prints: 0.0.. 4.5.. 10.5.. 16.0"
   ]
  },
  {
   "cell_type": "code",
   "execution_count": 6,
   "metadata": {},
   "outputs": [
    {
     "name": "stdout",
     "output_type": "stream",
     "text": [
      "<generator object <genexpr> at 0x0000000004CA6660>\n",
      "(0, 0, 0)\n",
      "(1, 1, 1)\n",
      "(2, 4, 8)\n",
      "(3, 9, 27)\n",
      "(4, 16, 64)\n",
      "(5, 25, 125)\n",
      "(6, 36, 216)\n",
      "(7, 49, 343)\n",
      "(8, 64, 512)\n",
      "(9, 81, 729)\n"
     ]
    }
   ],
   "source": [
    "gen2 = ((i, i**2, i**3) for i in range(10))\n",
    "print(gen2)\n",
    "for i in gen2:\n",
    "    print(i)\n",
    "# will generate:\n",
    "# (0, 0, 0)\n",
    "# (1, 1, 1)\n",
    "# (2, 4, 8)\n",
    "# (3, 9, 27)\n",
    "# (4, 16, 64)\n",
    "# (5, 25, 125)\n",
    "# (6, 36, 216)\n",
    "# (7, 49, 343)\n",
    "# (8, 64, 512)\n",
    "# (9, 81, 729)\n",
    "# This output simply indicates that gen2 stores a generator-expression\n",
    "# at the memory address 0x0000000004FC8580; this is simply where the\n",
    "# instructions for generating our sequence of squared numbers is stored.\n",
    "# gen2 will not produce any results until we iterate over it."
   ]
  },
  {
   "cell_type": "code",
   "execution_count": 7,
   "metadata": {},
   "outputs": [
    {
     "name": "stdout",
     "output_type": "stream",
     "text": [
      "apple\n",
      "apple\n",
      "apple\n",
      "pie\n",
      "pie\n",
      "pie\n"
     ]
    }
   ],
   "source": [
    "#This means that <expression> can even involve inline if-else statements!\n",
    "gen1 =((\"apple\" if i < 3 else \"pie\") for i in range(6))\n",
    "\n",
    "for i in gen1:\n",
    "    print(i)\n",
    "# will generate:\n",
    "# 'apple'..\n",
    "# 'apple'..\n",
    "# 'apple'..\n",
    "# 'pie'..\n",
    "# 'pie'..\n",
    "# 'pie'"
   ]
  },
  {
   "cell_type": "code",
   "execution_count": 8,
   "metadata": {},
   "outputs": [
    {
     "name": "stdout",
     "output_type": "stream",
     "text": [
      "30\n",
      "0\n"
     ]
    }
   ],
   "source": [
    "gen = (i**2 for i in range(0,5))\n",
    "print(sum(gen))  # computes the sum 0 + 1 + 4 + 9 + 25 + ... + 9801, sum is a built-in function.\n",
    "print(sum(gen))\n",
    "#Why First sum statement gave answer and other did not.\n",
    "# This is because a generator is exhausted after it is iterated over in full. \n",
    "#You must redefine the generator if you want to iterate over it again; "
   ]
  },
  {
   "cell_type": "markdown",
   "metadata": {},
   "source": [
    "**Chaining comprehensions**  \n",
    "Because generators are iterables, they can be fed into subsequent generator comprehensions. That is, they can be “chained” together.  \n"
   ]
  },
  {
   "cell_type": "code",
   "execution_count": 31,
   "metadata": {},
   "outputs": [
    {
     "data": {
      "text/plain": [
       "200"
      ]
     },
     "execution_count": 31,
     "metadata": {},
     "output_type": "execute_result"
    }
   ],
   "source": [
    "# total = 0\n",
    "# for i in [-20, -10, 0, 10, 20]:\n",
    "#     j = i ** 2\n",
    "#     if j <= 150:\n",
    "#         total += j\n",
    "\n",
    "\n",
    "\n",
    "# chaining two generator comprehensions\n",
    "\n",
    "# generates 400.. 100.. 0.. 100.. 400\n",
    "gen_1 = (i**2 for i in [-20, -10, 0, 10, 20])\n",
    "\n",
    "# iterates through gen_1, excluding any numbers whose absolute value is greater than 150\n",
    "gen_2 = (j for j in gen_1 if abs(j) <= 150)\n",
    "\n",
    "# computing 100 + 0 + 100\n",
    "sum(gen_2)\n",
    "#200"
   ]
  },
  {
   "cell_type": "code",
   "execution_count": 9,
   "metadata": {},
   "outputs": [
    {
     "data": {
      "text/plain": [
       "1.5"
      ]
     },
     "execution_count": 9,
     "metadata": {},
     "output_type": "execute_result"
    }
   ],
   "source": [
    "sum(1/n for n in range(1, 3))"
   ]
  },
  {
   "cell_type": "code",
   "execution_count": 11,
   "metadata": {},
   "outputs": [
    {
     "name": "stdout",
     "output_type": "stream",
     "text": [
      "50 abc 30 20 10 "
     ]
    }
   ],
   "source": [
    "#Given a list , reverse the list using range()\n",
    "list1 = [10, 20, 30, 40, 50]\n",
    "# start = list's size\n",
    "# stop = -1\n",
    "# step = -1\n",
    "\n",
    "# reverse a list\n",
    "for i in range(len(list1) - 1, -1, -1):\n",
    "    print(list1[i], end=\" \")"
   ]
  },
  {
   "cell_type": "code",
   "execution_count": 18,
   "metadata": {},
   "outputs": [
    {
     "name": "stdout",
     "output_type": "stream",
     "text": [
      "4\n",
      "50\n",
      "abc\n",
      "30\n",
      "20\n",
      "10\n"
     ]
    }
   ],
   "source": [
    "x = len(list1) -1\n",
    "print(x)\n",
    "\n",
    "for i in range(x,-1,-1):\n",
    "    print(list1[i])"
   ]
  },
  {
   "cell_type": "markdown",
   "metadata": {},
   "source": [
    "**Challenge**:Loop over a list of integers repeatedly, summing up all of its even values, and adding the content to a total. Repeat this process until the the total exceeds 100, or if you have looped over the list more than 50 times. Print the total only if it exceeds 100."
   ]
  },
  {
   "cell_type": "markdown",
   "metadata": {},
   "source": [
    "**Challenge:**Given a list of nonzero, positive numbers, x, append the sum of that list to the end of it. Do this until the last value in x is at least 100. Use a while-loop.\n",
    "\n",
    "If you start with x = [1], then by the end of your while-loop x should be [1, 1, 2, 4, 8, 16, 32, 64, 128]."
   ]
  },
  {
   "cell_type": "markdown",
   "metadata": {},
   "source": [
    "**Challenge:**\n",
    "Loop over a list of integers repeatedly, summing up all of its even values, and adding the content to a total. Repeat this process until the the total exceeds 100, or if you have looped over the list more than 50 times. Print the total only if it exceeds 100.\n",
    "\n",
    "**Challenge:** \n",
    "Print the following number pattern using Python range() and a loop.\n",
    "\n",
    "1 <br>\n",
    "2 2 <br>\n",
    "3 3 3 <br>\n",
    "\n",
    "1 <br>\n",
    "1 2 <br>\n",
    "1 2 3 <br>\n",
    "1 2 3 4 <br>\n",
    "1 2 3 4 5<br>\n",
    "\n",
    "5 4 3 2 1 <br>\n",
    "4 3 2 1 <br>\n",
    "3 2 1 <br>\n",
    "2 1 <br>\n",
    "1<br>\n",
    "\n",
    "\\* <br>\n",
    "\\* * <br>\n",
    "\\* * * <br>\n",
    "\\* * * * <br>\n",
    "\\* * * * * <br>\n",
    "\\* * * * <br>\n",
    "\\* * * <br>\n",
    "\\* * <br>\n",
    "\\*<br>\n",
    "\n",
    "**Challenge:**   \n",
    "Calculate the cube of all numbers from 1 to a given number\n",
    "\n",
    "**Challenge:**   \n",
    "Display Fibonacci series up to 10 terms  \n",
    "The Fibonacci Sequence is a series of numbers. The next number is found by adding up the two numbers   before it. The first two numbers are 0 and 1.  \n",
    "\n",
    "For example, 0, 1, 1, 2, 3, 5, 8, 13, 21. The next number in this series above is 13+21 = 34.  "
   ]
  },
  {
   "cell_type": "markdown",
   "metadata": {},
   "source": [
    "**Functions**<br>\n",
    "https://cs.stanford.edu/people/nick/py/python-function.html<br>\n",
    "https://pythonlikeyoumeanit.com<br>\n",
    "https://pynative.com/python/<br>\n",
    "\n",
    "\n",
    "**Assignment**:\n",
    "Write short notes on :  \n",
    "a) Zip  \n",
    "b) Enumerate  \n",
    "c) itertools \n",
    "d) First class objects\n"
   ]
  },
  {
   "attachments": {
    "python-functions.jpg": {
     "image/jpeg": "[encoded data removed]"
    }
   },
   "cell_type": "markdown",
   "metadata": {},
   "source": [
    "**Functions**:  \n",
    "In Python, the function is a block of code or lines of statement defined with a name. We use functions whenever we need to perform the same task multiple times without writing the same code again. It can take arguments and returns the value.  \n",
    "\n",
    "The same set of statements, grouped together with a name forms a function, which can be called wherever and whenever necessary which provides modularity, reusability and ease at debugging in any programming language.  \n",
    "\n",
    "There are two types of functions:  \n",
    "1) Built-in functions  \n",
    "2) User defined functions \n",
    "\n",
    "Built-in functions are the functions which are available in standard python installation. like   \n",
    "range()  \n",
    "type()  \n",
    "id()  \n",
    "len()  \n",
    "max(), min(), pow(), abs(), round() etc.\n",
    "\n",
    "User-defined functions: \n",
    "These functions are defined by user and contain the lines of statement to perform a particular task.    \n",
    "Defining a function allows you to encapsulate a segment of code, specifying the information that enters and leaves the code. You can make use of this “code-capsule” repeatedly and in many different contexts.\n",
    "\n",
    "\n",
    "**Creating a Function**  \n",
    "Use the following steps to to define a function in Python.\n",
    "\n",
    "Use the def keyword with the function name to define a function.  \n",
    "Next, pass the number of parameters as per your requirement. (Optional).  \n",
    "Next, define the function body with a block of code. This block of code is nothing but the action you wanted to perform.  \n",
    "In Python, no need to specify curly braces for the function body. The only indentation is essential to separate code blocks.  \n",
    "\n",
    "**Syntax of creating a function**  \n",
    "\n",
    "def function_name(parameter1, parameter2):  \n",
    "    &emsp;   # function body      \n",
    "    &emsp;   # write some action  \n",
    "return value  \n",
    "\n",
    "Here,\n",
    "\n",
    "a) function_name: Function name is the name of the function. We can give any name to function.   \n",
    "b) parameter: Parameter is the value passed to the function. We can pass any number of parameters. Function body uses the parameter’s value to perform an action  \n",
    "c) function_body: The function body is a block of code that performs some task. This block of code is nothing but the action you wanted to accomplish.  \n",
    "d) return value: Return value is the output of the function.  \n",
    "\n",
    "![python-functions.jpg](attachment:python-functions.jpg)\n",
    "\n"
   ]
  },
  {
   "cell_type": "code",
   "execution_count": 1,
   "metadata": {},
   "outputs": [],
   "source": [
    "#Example:Function without any parameter\n",
    "#the def statement is reserved by the Python language to signify the definition of functions.\n",
    "# message is the function name, we can use other names depending on the requirement and readability.\n",
    "# the input arguments to the function, and may be left blank if the function does not accept any arguments \n",
    "#(the parentheses must still be included, but will not encapsulate anything).\n",
    "def message():\n",
    "    '''This is documentation string'''\n",
    "    print(\"Welcome to PYTHON FUNCTIONS\")"
   ]
  },
  {
   "cell_type": "code",
   "execution_count": 4,
   "metadata": {},
   "outputs": [
    {
     "name": "stdout",
     "output_type": "stream",
     "text": [
      "Help on function message in module __main__:\n",
      "\n",
      "message()\n",
      "    This is documentation string\n",
      "\n"
     ]
    },
    {
     "data": {
      "text/plain": [
       "'This is documentation string'"
      ]
     },
     "execution_count": 4,
     "metadata": {},
     "output_type": "execute_result"
    }
   ],
   "source": [
    "help(message)\n",
    "message.__doc__"
   ]
  },
  {
   "cell_type": "code",
   "execution_count": 3,
   "metadata": {},
   "outputs": [
    {
     "name": "stdout",
     "output_type": "stream",
     "text": [
      "Welcome to PYTHON FUNCTIONS\n"
     ]
    }
   ],
   "source": [
    "# call function using its name\n",
    "message()"
   ]
  },
  {
   "cell_type": "markdown",
   "metadata": {},
   "source": [
    "The return statement is also reserved by Python. It denotes the end of a function; if reached, a return statement immediately concludes the execution of the function and returns the specified object.  \n",
    "Furthermore, an empty return statement can be specified, or the return statement of a function can be omitted altogether. In both of these cases, the function will return the None object."
   ]
  },
  {
   "cell_type": "code",
   "execution_count": 5,
   "metadata": {},
   "outputs": [],
   "source": [
    "# this function returns `None`\n",
    "# an \"empty\" return statement\n",
    "def f():\n",
    "    x = 1\n",
    "    return"
   ]
  },
  {
   "cell_type": "code",
   "execution_count": 6,
   "metadata": {},
   "outputs": [
    {
     "name": "stdout",
     "output_type": "stream",
     "text": [
      "None\n"
     ]
    }
   ],
   "source": [
    "print(f())"
   ]
  },
  {
   "cell_type": "code",
   "execution_count": 7,
   "metadata": {},
   "outputs": [],
   "source": [
    "# this function returns `None`\n",
    "# return statement is omitted\n",
    "def f():\n",
    "    x = 1"
   ]
  },
  {
   "cell_type": "code",
   "execution_count": 8,
   "metadata": {},
   "outputs": [
    {
     "name": "stdout",
     "output_type": "stream",
     "text": [
      "None\n"
     ]
    }
   ],
   "source": [
    "print(f())"
   ]
  },
  {
   "cell_type": "code",
   "execution_count": 9,
   "metadata": {},
   "outputs": [
    {
     "name": "stdout",
     "output_type": "stream",
     "text": [
      "hi\n"
     ]
    }
   ],
   "source": [
    "# All Python functions return something.\n",
    "# Even the built-in print function returns None after it prints to standard-output!\n",
    "x = print(\"hi\")"
   ]
  },
  {
   "cell_type": "code",
   "execution_count": 10,
   "metadata": {},
   "outputs": [
    {
     "data": {
      "text/plain": [
       "True"
      ]
     },
     "execution_count": 10,
     "metadata": {},
     "output_type": "execute_result"
    }
   ],
   "source": [
    "x is None"
   ]
  },
  {
   "cell_type": "code",
   "execution_count": 11,
   "metadata": {},
   "outputs": [],
   "source": [
    "# As stated above, a return statement will trigger a function to end its execution immediately\n",
    "# when reached, even when subsequent code follows it. It is impossible for multiple ``return`` \n",
    "# statements to be visited within a single function call. Thus if you want to return multiple \n",
    "# items, then your function must return a single container of those items, like a list or a tuple.\n",
    "\n",
    "# Returning multiple items from a function\n",
    "def bad_f(x):\n",
    "    \"\"\" return x**2 and x**3\"\"\"\n",
    "    return x**2\n",
    "    # this code can never be reached!\n",
    "    return x**3\n",
    "\n",
    "def good_f(x):\n",
    "    \"\"\" return x**2 and x**3\"\"\"\n",
    "    return (x**2, x**3)"
   ]
  },
  {
   "cell_type": "code",
   "execution_count": 14,
   "metadata": {},
   "outputs": [
    {
     "data": {
      "text/plain": [
       "tuple"
      ]
     },
     "execution_count": 14,
     "metadata": {},
     "output_type": "execute_result"
    }
   ],
   "source": [
    "good_f(3))"
   ]
  },
  {
   "cell_type": "code",
   "execution_count": 11,
   "metadata": {},
   "outputs": [
    {
     "name": "stdout",
     "output_type": "stream",
     "text": [
      "Hello John Welcome to Programming Langauges\n",
      "Your course name is Python Programming BCE-C307\n"
     ]
    }
   ],
   "source": [
    "#Example function with more than one parameter\n",
    "def course_func(name, course_name):\n",
    "    print(\"Hello\", name, \"Welcome to Programming Langauges\")\n",
    "    print(\"Your course name is\", course_name)\n",
    "\n",
    "# call function\n",
    "course_func('John', 'Python Programming BCE-C307')"
   ]
  },
  {
   "cell_type": "code",
   "execution_count": 12,
   "metadata": {},
   "outputs": [
    {
     "name": "stdout",
     "output_type": "stream",
     "text": [
      "Addition : 25\n"
     ]
    }
   ],
   "source": [
    "# function\n",
    "def calculator(a, b):\n",
    "    add = a + b\n",
    "    # return the addition\n",
    "    return add\n",
    "\n",
    "# call function\n",
    "# take return value in variable\n",
    "res = calculator(20, 5)\n",
    "\n",
    "print(\"Addition :\", res)\n",
    "# Output Addition : 25"
   ]
  },
  {
   "cell_type": "code",
   "execution_count": null,
   "metadata": {},
   "outputs": [],
   "source": [
    "# function to check for even or odd\n",
    "def even_odd(n):\n",
    "    # check number is even or odd\n",
    "    if n % 2 == 0:\n",
    "        print('Even number')\n",
    "    else:\n",
    "        print('Odd Number')\n",
    "\n",
    "# calling function by its name\n",
    "even_odd(19)\n",
    "# Output Odd Number"
   ]
  },
  {
   "cell_type": "code",
   "execution_count": 17,
   "metadata": {},
   "outputs": [
    {
     "name": "stdout",
     "output_type": "stream",
     "text": [
      "             \n",
      "   Description of function\n",
      "                 \n",
      "   Arguments:   \n",
      "   parameter1(int):Description of parameter1\n",
      "                 \n",
      "   Returns:      \n",
      "   int value     \n",
      "    \n"
     ]
    }
   ],
   "source": [
    "#Example of doc Strings\n",
    "def any_fun(parameter1):\n",
    "    '''             \n",
    "   Description of function\n",
    "                 \n",
    "   Arguments:   \n",
    "   parameter1(int):Description of parameter1\n",
    "                 \n",
    "   Returns:      \n",
    "   int value     \n",
    "    '''              \n",
    "print(any_fun.__doc__)"
   ]
  },
  {
   "cell_type": "code",
   "execution_count": null,
   "metadata": {},
   "outputs": [],
   "source": [
    "# function to check for even numbers in a list\n",
    "def is_even(list1):\n",
    "    even_num = []\n",
    "    for n in list1:\n",
    "        if n % 2 == 0:\n",
    "            even_num.append(n)\n",
    "    # return a list\n",
    "    return even_num\n",
    "\n",
    "# Pass list to the function\n",
    "even_num = is_even([2, 3, 42, 51, 62, 70, 5, 9])\n",
    "print(\"Even numbers are:\", even_num)\n"
   ]
  },
  {
   "cell_type": "code",
   "execution_count": 18,
   "metadata": {},
   "outputs": [
    {
     "name": "stdout",
     "output_type": "stream",
     "text": [
      "Addition:  12\n",
      "Subtraction:  8\n",
      "Multiplication:  20\n",
      "Division:  5.0\n"
     ]
    }
   ],
   "source": [
    "#Function returning multiple items\n",
    "def arithmetic(num1, num2):\n",
    "    add = num1 + num2\n",
    "    sub = num1 - num2\n",
    "    multiply = num1 * num2\n",
    "    division = num1 / num2\n",
    "    # return four values\n",
    "    return add, sub, multiply, division\n",
    "\n",
    "# read four return values in four variables\n",
    "a, b, c, d = arithmetic(10, 2)\n",
    "\n",
    "print(\"Addition: \", a)\n",
    "print(\"Subtraction: \", b)\n",
    "print(\"Multiplication: \", c)\n",
    "print(\"Division: \", d)"
   ]
  },
  {
   "cell_type": "code",
   "execution_count": 19,
   "metadata": {},
   "outputs": [
    {
     "name": "stdout",
     "output_type": "stream",
     "text": [
      "Python\n",
      "DataScience\n"
     ]
    },
    {
     "ename": "NameError",
     "evalue": "name 'local_lang' is not defined",
     "output_type": "error",
     "traceback": [
      "\u001b[1;31m---------------------------------------------------------------------------\u001b[0m",
      "\u001b[1;31mNameError\u001b[0m                                 Traceback (most recent call last)",
      "\u001b[1;32m<ipython-input-19-b532796a7e6b>\u001b[0m in \u001b[0;36m<module>\u001b[1;34m\u001b[0m\n\u001b[0;32m     13\u001b[0m \u001b[1;33m\u001b[0m\u001b[0m\n\u001b[0;32m     14\u001b[0m \u001b[1;31m# NameError: name 'local_lang' is not defined\u001b[0m\u001b[1;33m\u001b[0m\u001b[1;33m\u001b[0m\u001b[1;33m\u001b[0m\u001b[0m\n\u001b[1;32m---> 15\u001b[1;33m \u001b[0mprint\u001b[0m\u001b[1;33m(\u001b[0m\u001b[0mlocal_lang\u001b[0m\u001b[1;33m)\u001b[0m\u001b[1;33m\u001b[0m\u001b[1;33m\u001b[0m\u001b[0m\n\u001b[0m",
      "\u001b[1;31mNameError\u001b[0m: name 'local_lang' is not defined"
     ]
    }
   ],
   "source": [
    "global_lang = 'DataScience'\n",
    "\n",
    "def var_scope_test():\n",
    "    local_lang = 'Python'\n",
    "    print(local_lang)\n",
    "\n",
    "var_scope_test()\n",
    "# Output 'Python'\n",
    "\n",
    "# outside of function\n",
    "print(global_lang)\n",
    "# Output 'DataScience'\n",
    "\n",
    "# NameError: name 'local_lang' is not defined\n",
    "print(local_lang)"
   ]
  },
  {
   "cell_type": "code",
   "execution_count": 13,
   "metadata": {},
   "outputs": [
    {
     "name": "stdout",
     "output_type": "stream",
     "text": [
      "Value is : 888\n"
     ]
    },
    {
     "ename": "NameError",
     "evalue": "name 'loc_var' is not defined",
     "output_type": "error",
     "traceback": [
      "\u001b[1;31m---------------------------------------------------------------------------\u001b[0m",
      "\u001b[1;31mNameError\u001b[0m                                 Traceback (most recent call last)",
      "\u001b[1;32m<ipython-input-13-205a15fd3a93>\u001b[0m in \u001b[0;36m<module>\u001b[1;34m\u001b[0m\n\u001b[0;32m      9\u001b[0m \u001b[1;33m\u001b[0m\u001b[0m\n\u001b[0;32m     10\u001b[0m \u001b[0mfunction1\u001b[0m\u001b[1;33m(\u001b[0m\u001b[1;33m)\u001b[0m\u001b[1;33m\u001b[0m\u001b[1;33m\u001b[0m\u001b[0m\n\u001b[1;32m---> 11\u001b[1;33m \u001b[0mfunction2\u001b[0m\u001b[1;33m(\u001b[0m\u001b[1;33m)\u001b[0m\u001b[1;33m\u001b[0m\u001b[1;33m\u001b[0m\u001b[0m\n\u001b[0m",
      "\u001b[1;32m<ipython-input-13-205a15fd3a93>\u001b[0m in \u001b[0;36mfunction2\u001b[1;34m()\u001b[0m\n\u001b[0;32m      6\u001b[0m \u001b[1;32mdef\u001b[0m \u001b[0mfunction2\u001b[0m\u001b[1;33m(\u001b[0m\u001b[1;33m)\u001b[0m\u001b[1;33m:\u001b[0m\u001b[1;33m\u001b[0m\u001b[1;33m\u001b[0m\u001b[0m\n\u001b[0;32m      7\u001b[0m \u001b[1;33m\u001b[0m\u001b[0m\n\u001b[1;32m----> 8\u001b[1;33m     \u001b[0mprint\u001b[0m\u001b[1;33m(\u001b[0m\u001b[1;34m\"Value is :\"\u001b[0m\u001b[1;33m,\u001b[0m \u001b[0mloc_var\u001b[0m\u001b[1;33m)\u001b[0m\u001b[1;33m\u001b[0m\u001b[1;33m\u001b[0m\u001b[0m\n\u001b[0m\u001b[0;32m      9\u001b[0m \u001b[1;33m\u001b[0m\u001b[0m\n\u001b[0;32m     10\u001b[0m \u001b[0mfunction1\u001b[0m\u001b[1;33m(\u001b[0m\u001b[1;33m)\u001b[0m\u001b[1;33m\u001b[0m\u001b[1;33m\u001b[0m\u001b[0m\n",
      "\u001b[1;31mNameError\u001b[0m: name 'loc_var' is not defined"
     ]
    }
   ],
   "source": [
    "def function1():\n",
    "    # local variable\n",
    "    loc_var = 888\n",
    "    print(\"Value is :\", loc_var)\n",
    "\n",
    "def function2():\n",
    "\n",
    "    print(\"Value is :\", loc_var)\n",
    "\n",
    "function1()\n",
    "function2()"
   ]
  },
  {
   "cell_type": "code",
   "execution_count": null,
   "metadata": {},
   "outputs": [],
   "source": [
    "global_var = 999\n",
    "\n",
    "def function1():\n",
    "    print(\"Value in 1nd function :\", global_var)\n",
    "\n",
    "def function2():\n",
    "    print(\"Value in 2nd function :\", global_var)\n",
    "\n",
    "function1()\n",
    "function2()"
   ]
  },
  {
   "cell_type": "code",
   "execution_count": 15,
   "metadata": {},
   "outputs": [
    {
     "name": "stdout",
     "output_type": "stream",
     "text": [
      "Value in 1st function : 5\n",
      "Value in 2nd function : 555\n",
      "Value in 3rd function : 5\n"
     ]
    }
   ],
   "source": [
    "# Global variable\n",
    "global_var = 5\n",
    "\n",
    "def function1():\n",
    "    print(\"Value in 1st function :\", global_var)\n",
    "\n",
    "def function2():\n",
    "    # Modify global variable\n",
    "    # function will treat it as a local variable\n",
    "    global_var = 555\n",
    "    print(\"Value in 2nd function :\", global_var)\n",
    "\n",
    "def function3():\n",
    "    print(\"Value in 3rd function :\", global_var)\n",
    "\n",
    "function1()\n",
    "function2()\n",
    "function3()"
   ]
  },
  {
   "cell_type": "code",
   "execution_count": 20,
   "metadata": {},
   "outputs": [
    {
     "name": "stdout",
     "output_type": "stream",
     "text": [
      "Value in 1st function : 5\n",
      "Value in 2nd function : 555\n",
      "Value in 3rd function : 555\n"
     ]
    }
   ],
   "source": [
    "# Global variable\n",
    "x = 5\n",
    "\n",
    "# defining 1st function\n",
    "def function1():\n",
    "    print(\"Value in 1st function :\", x)\n",
    "\n",
    "# defining 2nd function\n",
    "def function2():\n",
    "    # Modify global variable using global keyword\n",
    "    global x\n",
    "    x = 555\n",
    "    print(\"Value in 2nd function :\", x)\n",
    "\n",
    "# defining 3rd function\n",
    "def function3():\n",
    "    print(\"Value in 3rd function :\", x)\n",
    "\n",
    "function1()\n",
    "function2()\n",
    "function3()"
   ]
  },
  {
   "cell_type": "code",
   "execution_count": 22,
   "metadata": {},
   "outputs": [
    {
     "name": "stdout",
     "output_type": "stream",
     "text": [
      "value of x inside inner function is : 700\n",
      "value of x inside outer function is : 700\n"
     ]
    }
   ],
   "source": [
    "# In Python, nonlocal is the keyword used to declare a variable that acts as a global \n",
    "# variable for a nested function (i.e., function within another function).\n",
    "# We can use a nonlocal keyword when we want to declare a variable in the \n",
    "# local scope but act as a global scope.\n",
    "def outer_func():\n",
    "    x = 777\n",
    "\n",
    "    def inner_func():\n",
    "        # local variable now acts as global variable\n",
    "        nonlocal x\n",
    "        x = 700\n",
    "        print(\"value of x inside inner function is :\", x)\n",
    "\n",
    "    inner_func()\n",
    "    print(\"value of x inside outer function is :\", x)\n",
    "\n",
    "outer_func()"
   ]
  },
  {
   "cell_type": "markdown",
   "metadata": {},
   "source": [
    "**Default-Valued Arguments**  \n",
    "You can specify default values for input arguments to a function. Their default values are utilized if a user does not specify these inputs when calling the function. Recall our count_vowels function. Suppose we want the ability to include “y” as a vowel. We know, however, that people will typically want to exclude “y” from their vowels, so we can exclude “y” by default:"
   ]
  },
  {
   "cell_type": "code",
   "execution_count": 23,
   "metadata": {},
   "outputs": [],
   "source": [
    "def count_vowels(in_string):\n",
    "    \"\"\" Returns the number of vowels contained in `in_string`\"\"\"\n",
    "    num_vowels = 0\n",
    "    vowels = \"aeiouAEIOU\"\n",
    "\n",
    "    for char in in_string:\n",
    "        if char in vowels:\n",
    "            num_vowels += 1  # equivalent to num_vowels = num_vowels + 1\n",
    "    return num_vowels"
   ]
  },
  {
   "cell_type": "code",
   "execution_count": 24,
   "metadata": {},
   "outputs": [
    {
     "data": {
      "text/plain": [
       "5"
      ]
     },
     "execution_count": 24,
     "metadata": {},
     "output_type": "execute_result"
    }
   ],
   "source": [
    "count_vowels('hello this is python')"
   ]
  },
  {
   "cell_type": "code",
   "execution_count": 30,
   "metadata": {},
   "outputs": [],
   "source": [
    "def count_vowels(in_string, include_y=False):\n",
    "    \"\"\" Returns the number of vowels contained in `in_string`\"\"\"\n",
    "    vowels = \"aeiouAEIOU\"\n",
    "    if include_y:\n",
    "        vowels += \"yY\"  # add \"y\" to vowels\n",
    "    return sum(1 for char in in_string if char in vowels)"
   ]
  },
  {
   "cell_type": "code",
   "execution_count": 28,
   "metadata": {},
   "outputs": [
    {
     "data": {
      "text/plain": [
       "4"
      ]
     },
     "execution_count": 28,
     "metadata": {},
     "output_type": "execute_result"
    }
   ],
   "source": [
    "count_vowels('this is a tasty')"
   ]
  },
  {
   "cell_type": "code",
   "execution_count": 29,
   "metadata": {},
   "outputs": [
    {
     "data": {
      "text/plain": [
       "5"
      ]
     },
     "execution_count": 29,
     "metadata": {},
     "output_type": "execute_result"
    }
   ],
   "source": [
    "count_vowels('this is a tasty',True)"
   ]
  },
  {
   "cell_type": "code",
   "execution_count": 22,
   "metadata": {},
   "outputs": [
    {
     "data": {
      "text/plain": [
       "2"
      ]
     },
     "execution_count": 22,
     "metadata": {},
     "output_type": "execute_result"
    }
   ],
   "source": [
    "#Keyword Arguments\n",
    "#A keyword argument is an argument value, passed to function preceded by the variable name and \n",
    "# an equals sign.\n",
    "count_vowels(include_y=True, in_string=\"Happy\")"
   ]
  },
  {
   "cell_type": "code",
   "execution_count": 24,
   "metadata": {},
   "outputs": [
    {
     "name": "stdout",
     "output_type": "stream",
     "text": [
      "Hello John Wilson\n",
      "Hello Kelly Wellington\n"
     ]
    }
   ],
   "source": [
    "def message(name, surname):\n",
    "    print(\"Hello\", name, surname)\n",
    "\n",
    "message(name=\"John\", surname=\"Wilson\")\n",
    "message(surname=\"Wellington\", name=\"Kelly\")"
   ]
  },
  {
   "cell_type": "code",
   "execution_count": 25,
   "metadata": {},
   "outputs": [
    {
     "name": "stdout",
     "output_type": "stream",
     "text": [
      "40\n",
      "-40\n"
     ]
    }
   ],
   "source": [
    "# Positional Arguments / Required Arguments\n",
    "# Positional arguments are arguments that are pass to function in proper positional order.\n",
    "# That is, the 1st positional argument needs to be 1st when the function is called.\n",
    "# The 2nd positional argument needs to be 2nd when the function is called, etc.\n",
    "def add(a, b):\n",
    "    print(a - b)\n",
    "\n",
    "add(50, 10)\n",
    "# Output 40\n",
    "add(10, 50)\n",
    "# Output -40"
   ]
  },
  {
   "cell_type": "code",
   "execution_count": 26,
   "metadata": {},
   "outputs": [
    {
     "ename": "SyntaxError",
     "evalue": "positional argument follows keyword argument (<ipython-input-26-8b6fe652464a>, line 16)",
     "output_type": "error",
     "traceback": [
      "\u001b[1;36m  File \u001b[1;32m\"<ipython-input-26-8b6fe652464a>\"\u001b[1;36m, line \u001b[1;32m16\u001b[0m\n\u001b[1;33m    message(first_nm=\"John\", \"Wilson\")\u001b[0m\n\u001b[1;37m                             ^\u001b[0m\n\u001b[1;31mSyntaxError\u001b[0m\u001b[1;31m:\u001b[0m positional argument follows keyword argument\n"
     ]
    }
   ],
   "source": [
    "# In keyword arguments order of argument is not matter, but the number of arguments must match. \n",
    "# Otherwise, we will get an error.\n",
    "\n",
    "# While using keyword and positional argument simultaneously, we need to pass 1st arguments \n",
    "# as positional arguments and then keyword arguments. Otherwise, we will get SyntaxError.\n",
    "\n",
    "def message(first_nm, last_nm):\n",
    "    print(\"Hello..!\", first_nm, last_nm)\n",
    "\n",
    "# correct use\n",
    "message(\"John\", \"Wilson\")\n",
    "message(\"John\", last_nm=\"Wilson\")\n",
    "\n",
    "# Error\n",
    "# SyntaxError: positional argument follows keyword argument\n",
    "message(first_nm=\"John\", \"Wilson\")"
   ]
  },
  {
   "cell_type": "code",
   "execution_count": 5,
   "metadata": {},
   "outputs": [
    {
     "name": "stdout",
     "output_type": "stream",
     "text": [
      "Hi Ram Sunder\n"
     ]
    }
   ],
   "source": [
    "def message(name, surname=\" \"):\n",
    "    print(\"Hi\", name ,surname)\n",
    "    \n",
    "message(\"Ram\", surname=\"Sunder\")"
   ]
  },
  {
   "cell_type": "code",
   "execution_count": 6,
   "metadata": {},
   "outputs": [],
   "source": [
    "# Default-valued input arguments must come after all positional input arguments \n",
    "# in the function signature: except in a situation where default argument is following varags.\n",
    "\n",
    "# this is ok\n",
    "def f(x, y, z, count=1, upper=2):\n",
    "    return None"
   ]
  },
  {
   "cell_type": "code",
   "execution_count": 7,
   "metadata": {},
   "outputs": [
    {
     "ename": "SyntaxError",
     "evalue": "non-default argument follows default argument (<ipython-input-7-5b48dbc7b172>, line 2)",
     "output_type": "error",
     "traceback": [
      "\u001b[1;36m  File \u001b[1;32m\"<ipython-input-7-5b48dbc7b172>\"\u001b[1;36m, line \u001b[1;32m2\u001b[0m\n\u001b[1;33m    def f(x, y, count=1, upper=2, z):\u001b[0m\n\u001b[1;37m          ^\u001b[0m\n\u001b[1;31mSyntaxError\u001b[0m\u001b[1;31m:\u001b[0m non-default argument follows default argument\n"
     ]
    }
   ],
   "source": [
    "# this will raise a syntax error\n",
    "def f(x, y, count=1, upper=2, z):\n",
    "    return None"
   ]
  },
  {
   "cell_type": "code",
   "execution_count": null,
   "metadata": {},
   "outputs": [],
   "source": [
    "# Variable-length Arguments\n",
    "# In Python, sometimes, there is a situation where we need to pass multiple\n",
    "# numbers of arguments to the function. Such types of arguments are called variable-length arguments.\n",
    "# We can declare a variable-length argument with the * (asterisk) symbol.\n",
    "# The special syntax *args in function definitions in python is used to pass a\n",
    "# variable number of arguments to a function. It is used to pass a non-key\n",
    "# worded, variable-length argument list. (including zero or more)\n",
    "# Because Python cannot foresee how many arguments will be passed to function, \n",
    "# all of the objects that are passed to it will be packed into a tuple,\n",
    "# which is then assigned to the variable."
   ]
  },
  {
   "cell_type": "code",
   "execution_count": 8,
   "metadata": {},
   "outputs": [],
   "source": [
    "# The * symbol indicates that an arbitrary number of\n",
    "# arguments can be passed to `args`, when calling `f`.\n",
    "def f(*args):\n",
    "    #  All arguments passed to `f` will be \"packed\" into a\n",
    "    #  tuple that is assigned to the variable `args`.\n",
    "    # `f()`  will assign `args = tuple()`\n",
    "    # `f(x, y, ...)` will assign `args = (x, y, ...)`\n",
    "    return args"
   ]
  },
  {
   "cell_type": "code",
   "execution_count": 33,
   "metadata": {},
   "outputs": [
    {
     "name": "stdout",
     "output_type": "stream",
     "text": [
      "()\n",
      "(1,)\n",
      "((0, 1), True, 'cow')\n"
     ]
    }
   ],
   "source": [
    "print(f())\n",
    "\n",
    "\n",
    "# pass one argument to `f`\n",
    "print(f(1))\n",
    "\n",
    "\n",
    "# pass three arguments to `f`\n",
    "print(f((0, 1), True, \"cow\"))\n"
   ]
  },
  {
   "cell_type": "code",
   "execution_count": null,
   "metadata": {},
   "outputs": [],
   "source": [
    "# This syntax can be combined with positional arguments,keyword argument and default arguments. \n",
    "# Any variables specified after a packed variable must be called by name:"
   ]
  },
  {
   "cell_type": "code",
   "execution_count": 11,
   "metadata": {},
   "outputs": [],
   "source": [
    "def f(x, *seq, y=10, z):\n",
    "    print(\"x is: \", x)\n",
    "    print(\"seq is: \", seq)\n",
    "    print(\"y is: \", y)\n",
    "    print(\"z is: \", z)\n",
    "    return None"
   ]
  },
  {
   "cell_type": "code",
   "execution_count": 13,
   "metadata": {},
   "outputs": [
    {
     "name": "stdout",
     "output_type": "stream",
     "text": [
      "x is:  1\n",
      "seq is:  (2, 3, 4)\n",
      "y is:  9\n",
      "z is:  11\n"
     ]
    }
   ],
   "source": [
    "f(1,2,3,4,y=9,z=11)"
   ]
  },
  {
   "cell_type": "code",
   "execution_count": 38,
   "metadata": {},
   "outputs": [
    {
     "name": "stdout",
     "output_type": "stream",
     "text": [
      "x is:  cat\n",
      "seq is:  ()\n",
      "y is:  dog\n",
      "z is:  mouse\n"
     ]
    }
   ],
   "source": [
    "f(\"cat\", y=\"dog\",z='mouse') "
   ]
  },
  {
   "cell_type": "code",
   "execution_count": 40,
   "metadata": {},
   "outputs": [],
   "source": [
    "# We see that * indicates the packing of an arbitrary number of arguments \n",
    "# into a tuple, when used in the signature of a function definition. \n",
    "# Simultaneously, * signals the unpacking of an iterable to pass each of\n",
    "# its members as a positional argument to a function, \n",
    "# when used in the context of calling a function:\n",
    "\n",
    "# Using `*` when calling a function, to unpack an\n",
    "# iterable. Passing its members as distinct arguments\n",
    "# to the function\n",
    "\n",
    "def f(x, y, z):\n",
    "    return x + y + z\n"
   ]
  },
  {
   "cell_type": "code",
   "execution_count": 41,
   "metadata": {},
   "outputs": [
    {
     "data": {
      "text/plain": [
       "6"
      ]
     },
     "execution_count": 41,
     "metadata": {},
     "output_type": "execute_result"
    }
   ],
   "source": [
    "f(1, 2, 3)"
   ]
  },
  {
   "cell_type": "code",
   "execution_count": 42,
   "metadata": {},
   "outputs": [
    {
     "data": {
      "text/plain": [
       "6"
      ]
     },
     "execution_count": 42,
     "metadata": {},
     "output_type": "execute_result"
    }
   ],
   "source": [
    "# `*` means: unpack the contents of [1, 2, 3]\n",
    "# passing each item as x, y, and z,\n",
    "# respectively\n",
    "f(*[1, 2, 3])  # equivalent to: f(1, 2, 3)\n",
    "#6"
   ]
  },
  {
   "cell_type": "code",
   "execution_count": 14,
   "metadata": {},
   "outputs": [],
   "source": [
    "def number_of_args(*args):\n",
    "    return len(args)"
   ]
  },
  {
   "cell_type": "code",
   "execution_count": 16,
   "metadata": {},
   "outputs": [
    {
     "data": {
      "text/plain": [
       "7"
      ]
     },
     "execution_count": 16,
     "metadata": {},
     "output_type": "execute_result"
    }
   ],
   "source": [
    "number_of_args(None, None,1,2,3,4,5)"
   ]
  },
  {
   "cell_type": "code",
   "execution_count": 45,
   "metadata": {},
   "outputs": [
    {
     "data": {
      "text/plain": [
       "1"
      ]
     },
     "execution_count": 45,
     "metadata": {},
     "output_type": "execute_result"
    }
   ],
   "source": [
    "some_list = [1, 2, 3, 4, 5]\n",
    "\n",
    "# passing the list itself as the sole argument\n",
    "number_of_args(some_list)"
   ]
  },
  {
   "cell_type": "code",
   "execution_count": 46,
   "metadata": {},
   "outputs": [
    {
     "data": {
      "text/plain": [
       "5"
      ]
     },
     "execution_count": 46,
     "metadata": {},
     "output_type": "execute_result"
    }
   ],
   "source": [
    "number_of_args(*some_list)"
   ]
  },
  {
   "cell_type": "code",
   "execution_count": 17,
   "metadata": {},
   "outputs": [],
   "source": [
    "# an Arbitrary Number of Keyword Arguments\n",
    "# We can also define a function that is able to accept an arbitrary number of\n",
    "# keyword arguments, using the syntax: def f(**<var_name>)\n",
    "\n",
    "# Note that a single asterisk, *, was used to denote an arbitrary number of \n",
    "# positional arguments, whereas ** signals the acceptance of an arbitrary \n",
    "# number of keyword arguments.\n",
    "\n",
    "# The ** symbol indicates that an arbitrary number of\n",
    "# keyword arguments can be passed to `args`, when calling `f`.\n",
    "def f(**args):\n",
    "    #  All keyword arguments passed to `f` will be \"packed\" into a\n",
    "    #  dictionary that is assigned to the variable `args`.\n",
    "    # `f()`  will assign `args = {}` (an empty dictionary)\n",
    "    # `f(x=1, y=2, ...)` will assign `args = {\"x\":1, \"y\":2, ...}`\n",
    "    return args"
   ]
  },
  {
   "cell_type": "code",
   "execution_count": null,
   "metadata": {},
   "outputs": [],
   "source": [
    "# Because Python cannot foresee how many arguments will be passed to f,\n",
    "# all of the keyword arguments that are passed to it will be packed into\n",
    "# a dictionary, where a given keyword is set as a key (cast as a string)\n",
    "# that maps to the corresponding value. This dictionary is then assigned\n",
    "# to the variable args. "
   ]
  },
  {
   "cell_type": "code",
   "execution_count": 18,
   "metadata": {},
   "outputs": [
    {
     "data": {
      "text/plain": [
       "{}"
      ]
     },
     "execution_count": 18,
     "metadata": {},
     "output_type": "execute_result"
    }
   ],
   "source": [
    "f()            # pass zero arguments to `f`"
   ]
  },
  {
   "cell_type": "code",
   "execution_count": 19,
   "metadata": {},
   "outputs": [
    {
     "data": {
      "text/plain": [
       "{'x': 1}"
      ]
     },
     "execution_count": 19,
     "metadata": {},
     "output_type": "execute_result"
    }
   ],
   "source": [
    "f(x=1)           # pass one argument to `f`"
   ]
  },
  {
   "cell_type": "code",
   "execution_count": 53,
   "metadata": {},
   "outputs": [
    {
     "data": {
      "text/plain": [
       "{'x': (0, 1), 'val': True, 'moo': 'cow'}"
      ]
     },
     "execution_count": 53,
     "metadata": {},
     "output_type": "execute_result"
    }
   ],
   "source": [
    "f(x=(0, 1), val=True, moo=\"cow\")  # pass three arguments to `f`"
   ]
  },
  {
   "cell_type": "code",
   "execution_count": 49,
   "metadata": {},
   "outputs": [
    {
     "name": "stdout",
     "output_type": "stream",
     "text": [
      "first == CSE\n",
      "mid == FET\n",
      "last == GKV\n"
     ]
    }
   ],
   "source": [
    "def myFun(**kwargs):\n",
    "    for key, value in kwargs.items():\n",
    "        print (\"%s == %s\" %(key, value))\n",
    "# Driver code\n",
    "myFun(first ='CSE', mid ='FET', last='GKV')"
   ]
  },
  {
   "cell_type": "code",
   "execution_count": 23,
   "metadata": {},
   "outputs": [],
   "source": [
    "# This syntax can be combined with positional arguments and default arguments.\n",
    "# No additional arguments may come after a ** entry in a function-definition signature:\n",
    "\n",
    "def f(x, y=2,**kwargs):\n",
    "    print(\"x is: \", x)\n",
    "    print(\"y is: \", y)\n",
    "    print(\"kwargs is: \", kwargs)\n",
    "    return None"
   ]
  },
  {
   "cell_type": "code",
   "execution_count": 24,
   "metadata": {},
   "outputs": [
    {
     "name": "stdout",
     "output_type": "stream",
     "text": [
      "x is:  1\n",
      "y is:  9\n",
      "kwargs is:  {'z': 3, 'k': 'hi'}\n"
     ]
    }
   ],
   "source": [
    "# passing arbitrary keyword arguments to `f`\n",
    "f(1, y=9, z=3, k=\"hi\")"
   ]
  },
  {
   "cell_type": "code",
   "execution_count": 26,
   "metadata": {},
   "outputs": [
    {
     "name": "stdout",
     "output_type": "stream",
     "text": [
      "x is:  cat\n",
      "y is:  dog\n",
      "kwargs is:  {}\n"
     ]
    }
   ],
   "source": [
    "f(\"cat\", \"dog\")"
   ]
  },
  {
   "cell_type": "code",
   "execution_count": 57,
   "metadata": {},
   "outputs": [],
   "source": [
    "# The following function accepts an arbitrary number of \n",
    "# positional arguments and an arbitrary number of keyword arguments:\n",
    "\n",
    "# accepting arbitrary positional and keyword arguments\n",
    "def f(*x, **y):\n",
    "    # all positional arguments get packed into the tuple `x`\n",
    "    # all keyword arguments get packed into the dictionary `y`\n",
    "    print(x)\n",
    "    print(y)\n",
    "    return None\n",
    "\n"
   ]
  },
  {
   "cell_type": "code",
   "execution_count": 58,
   "metadata": {},
   "outputs": [
    {
     "name": "stdout",
     "output_type": "stream",
     "text": [
      "(1, 2, 3)\n",
      "{'hi': -1, 'bye': -2, 'sigh': -3}\n"
     ]
    }
   ],
   "source": [
    " f(1, 2, 3, hi=-1, bye=-2, sigh=-3)"
   ]
  },
  {
   "cell_type": "code",
   "execution_count": 59,
   "metadata": {},
   "outputs": [
    {
     "name": "stdout",
     "output_type": "stream",
     "text": [
      "first == CSE\n",
      "mid == FET\n",
      "last == GKV\n"
     ]
    }
   ],
   "source": [
    "def myFun(*args,**kwargs):\n",
    "    for key, value in kwargs.items():\n",
    "        print (\"%s == %s\" %(key, value))\n",
    "        \n",
    "# Driver code\n",
    "myFun('Namit', first = 'CSE', mid ='FET', last='GKV')"
   ]
  },
  {
   "cell_type": "code",
   "execution_count": 27,
   "metadata": {},
   "outputs": [],
   "source": [
    "def myFun(*args,**kwargs):\n",
    "    print(\"args: \", args)\n",
    "    print(\"kwargs: \", kwargs)"
   ]
  },
  {
   "cell_type": "code",
   "execution_count": 28,
   "metadata": {},
   "outputs": [
    {
     "name": "stdout",
     "output_type": "stream",
     "text": [
      "args:  ('Namit', 'Khanduja')\n",
      "kwargs:  {}\n"
     ]
    }
   ],
   "source": [
    "args = (\"Namit\", \"Khanduja\")\n",
    "myFun(*args)"
   ]
  },
  {
   "cell_type": "code",
   "execution_count": 66,
   "metadata": {},
   "outputs": [
    {
     "name": "stdout",
     "output_type": "stream",
     "text": [
      "args:  ()\n",
      "kwargs:  {'arg1': 'CS&E', 'arg2': 'FET', 'arg3': 'GKV'}\n"
     ]
    }
   ],
   "source": [
    "kwargs = {\"arg1\" : \"CS&E\", \"arg2\" : \"FET\", \"arg3\" : \"GKV\"}\n",
    "myFun(**kwargs)"
   ]
  },
  {
   "cell_type": "code",
   "execution_count": 67,
   "metadata": {},
   "outputs": [],
   "source": [
    "# We see that ** indicates the packing of an arbitrary number of\n",
    "# keyword arguments into a dictionary, when used in the signature of\n",
    "# a function definition. Simultaneously, ** signals the unpacking of\n",
    "# a dictionary to pass each of its key-value pairs as a keyword \n",
    "# argument to a function, when used in the context of calling a function:\n",
    "\n",
    "# Using `**` when calling a function, to unpack a\n",
    "# dictionary, passing its members as keyword arguments\n",
    "# to the function\n",
    "def f(x, y, z):\n",
    "    return 0*x + 1*y + 2*z\n"
   ]
  },
  {
   "cell_type": "code",
   "execution_count": 68,
   "metadata": {},
   "outputs": [
    {
     "data": {
      "text/plain": [
       "21"
      ]
     },
     "execution_count": 68,
     "metadata": {},
     "output_type": "execute_result"
    }
   ],
   "source": [
    "f(z=10, x=9, y=1)"
   ]
  },
  {
   "cell_type": "code",
   "execution_count": 69,
   "metadata": {},
   "outputs": [
    {
     "data": {
      "text/plain": [
       "21"
      ]
     },
     "execution_count": 69,
     "metadata": {},
     "output_type": "execute_result"
    }
   ],
   "source": [
    "args = {\"x\": 9, \"y\": 1, \"z\": 10}\n",
    "f(**args)  # equivalent to: f(x=9, y=1, z=10)"
   ]
  },
  {
   "cell_type": "code",
   "execution_count": 32,
   "metadata": {},
   "outputs": [
    {
     "name": "stdout",
     "output_type": "stream",
     "text": [
      "1\n",
      "hello\n"
     ]
    }
   ],
   "source": [
    "# **Functions are Objects**  \n",
    "# Once defined, a function behaves like any other Python object, like a list \n",
    "# or string or integer. You can assign a variable to a function-object:  \n",
    "\n",
    "var = count_vowels  # `var` now references the function `count_vowels`  \n",
    "print(var(\"Hell\"))        # you can now \"call\" `var`  \n",
    "\n",
    "# You can store functions in a list:  \n",
    "\n",
    "my_list = [count_vowels, print]  \n",
    "\n",
    "for func in my_list:  \n",
    "    func(\"hello\")   \n",
    "\n",
    "#  iteration 0: calls `count_vowels(\"hello\")`  \n",
    "#  iteration 1: calls `print(\"hello\")`  \n",
    "# You can also call functions anywhere, and their return-value will be returned in-place:  \n",
    "\n",
    "# if count_vowels(\"pillow\") > 1:  \n",
    "#     print(\"that's a lot of vowels!\")  \n",
    "# And, of course, this works within comprehension expressions as well:\n",
    "\n",
    "# sum(count_vowels(word, include_y=True) for word in [\"hi\", \"bye\", \"guy\", \"sigh\"])\n",
    "# 6"
   ]
  },
  {
   "cell_type": "code",
   "execution_count": 33,
   "metadata": {},
   "outputs": [
    {
     "name": "stdout",
     "output_type": "stream",
     "text": [
      "2\n",
      "hello\n"
     ]
    }
   ],
   "source": [
    "my_list = [count_vowels,print]  \n",
    "\n",
    "for func in my_list: \n",
    "    if func is count_vowels:\n",
    "        print(func(\"hello\"))\n",
    "    else:\n",
    "        func(\"hello\")"
   ]
  },
  {
   "cell_type": "code",
   "execution_count": 42,
   "metadata": {},
   "outputs": [
    {
     "data": {
      "text/plain": [
       "6"
      ]
     },
     "execution_count": 42,
     "metadata": {},
     "output_type": "execute_result"
    }
   ],
   "source": [
    "sum(count_vowels(word, include_y=True) for word in [\"hi\", \"bye\", \"guy\", \"sigh\"])"
   ]
  },
  {
   "cell_type": "code",
   "execution_count": null,
   "metadata": {},
   "outputs": [],
   "source": [
    "# Practice Question1\n",
    "# Write a function named count_vowel. \n",
    "# It should accept one input argument, named in_string, \n",
    "# Have the function return the sum of number of vowels contained in the in_string.\n",
    "# Include a reasonable docstring."
   ]
  },
  {
   "cell_type": "code",
   "execution_count": null,
   "metadata": {},
   "outputs": [],
   "source": [
    "def count_vowels(in_string):\n",
    "    \"\"\" Returns the number of vowels contained in `in_string`\"\"\"\n",
    "    return sum(1 for char in in_string if char in \"aeiouAEIOU\")"
   ]
  },
  {
   "cell_type": "code",
   "execution_count": null,
   "metadata": {},
   "outputs": [],
   "source": [
    "# Practice Question2\n",
    "# Write a function named count_even. \n",
    "# It should accept one input argument, named numbers, \n",
    "# which will be an iterable containing integers. \n",
    "# Have the function return the number of even-valued integers contained in the list.\n",
    "# Include a reasonable docstring."
   ]
  },
  {
   "cell_type": "code",
   "execution_count": null,
   "metadata": {},
   "outputs": [],
   "source": [
    "def count_even(numbers):\n",
    "    \"\"\" Counts the number of even integers in an iterable\"\"\"\n",
    "    total = 0\n",
    "    for num in numbers:\n",
    "        if num % 2 == 0:\n",
    "            total += 1\n",
    "    return total"
   ]
  },
  {
   "attachments": {
    "python-tuple.jpg": {
     "image/jpeg": "[encoded data removed]"
    }
   },
   "cell_type": "markdown",
   "metadata": {},
   "source": [
    "**Tuples**  \n",
    "1) Ordered: Tuples are part of sequence data types, which means they hold the   order of the data insertion. It maintains the index value for each item.  \n",
    "2) Unchangeable: Tuples are unchangeable, which means that we cannot add or delete  items to the tuple after creation.  \n",
    "3) Heterogeneous: Tuples are a sequence of data of different data types (like integer, float, list, string, etc;) and can be accessed through indexing and slicing.  \n",
    "4) Contains Duplicates: Tuples can contain duplicates, which means they can have items with the same value.  \n",
    "![python-tuple.jpg](attachment:python-tuple.jpg)"
   ]
  },
  {
   "cell_type": "markdown",
   "metadata": {},
   "source": [
    "**Creating a Tuple**  \n",
    "We can create a tuple using the two ways  \n",
    "\n",
    "Using parenthesis (): A tuple is created by enclosing comma-separated items inside rounded brackets.  \n",
    "Using a tuple() constructor: Create a tuple by passing the comma-separated items inside the tuple().  "
   ]
  },
  {
   "cell_type": "code",
   "execution_count": 45,
   "metadata": {},
   "outputs": [
    {
     "name": "stdout",
     "output_type": "stream",
     "text": [
      "(10, 20, 25.75)\n",
      "('Jessa', 'Emma', 'Kelly')\n",
      "('Jessa', 30, 45.75, [25, 78])\n",
      "('Jessa', 30, 45.75, [23, 78])\n"
     ]
    }
   ],
   "source": [
    "# create a tuple using ()\n",
    "# number tuple\n",
    "number_tuple = (10, 20, 25.75)\n",
    "print(number_tuple)\n",
    "# Output (10, 20, 25.75)\n",
    "\n",
    "# string tuple\n",
    "string_tuple = ('Jessa', 'Emma', 'Kelly')\n",
    "print(string_tuple)\n",
    "# Output ('Jessa', 'Emma', 'Kelly')\n",
    "\n",
    "# mixed type tuple\n",
    "sample_tuple = ('Jessa', 30, 45.75, [25, 78])\n",
    "print(sample_tuple)\n",
    "# Output ('Jessa', 30, 45.75, [25, 78])\n",
    "\n",
    "# create a tuple using tuple() constructor\n",
    "sample_tuple2 = tuple(('Jessa', 30, 45.75, [23, 78]))\n",
    "print(sample_tuple2)\n",
    "# Output ('Jessa', 30, 45.75, [23, 78])"
   ]
  },
  {
   "cell_type": "code",
   "execution_count": 1,
   "metadata": {},
   "outputs": [
    {
     "name": "stdout",
     "output_type": "stream",
     "text": [
      "<class 'str'>\n",
      "Hello\n",
      "<class 'tuple'>\n",
      "('Hello',)\n"
     ]
    }
   ],
   "source": [
    "# A single item tuple is created by enclosing one item inside parentheses\n",
    "# followed by a comma. If the tuple time is a string enclosed within\n",
    "# parentheses and not followed by a comma, Python treats it as a str type.\n",
    "# Let us see this with an example.\n",
    "\n",
    "# without comma\n",
    "single_tuple = ('Hello')\n",
    "print(type(single_tuple))  \n",
    "# Output class 'str'\n",
    "print(single_tuple)  \n",
    "# Output Hello\n",
    "\n",
    "# with comma\n",
    "single_tuple1 = ('Hello',)  \n",
    "# output class 'tuple'\n",
    "print(type(single_tuple1))  \n",
    "# Output ('Hello',)\n",
    "print(single_tuple1)"
   ]
  },
  {
   "cell_type": "code",
   "execution_count": 47,
   "metadata": {},
   "outputs": [
    {
     "name": "stdout",
     "output_type": "stream",
     "text": [
      "(1, 2, 'Hello')\n",
      "<class 'tuple'>\n",
      "1 2 Hello\n"
     ]
    }
   ],
   "source": [
    "# Packing and Unpacking\n",
    "# A tuple can also be created without using a tuple() constructor or\n",
    "# enclosing the items inside the parentheses.\n",
    "# It is called the variable “Packing.”\n",
    "\n",
    "# In Python, we can create a tuple by packing a group of variables. \n",
    "# Packing can be used when we want to collect multiple \n",
    "# values in a single variable. Generally, \n",
    "# this operation is referred to as tuple packing.\n",
    "\n",
    "# Similarly, we can unpack the items by just assigning \n",
    "# the tuple items to the same number of variables. \n",
    "# This process is called “Unpacking.”\n",
    "\n",
    "# Let us see this with an example.\n",
    "# packing variables into tuple\n",
    "\n",
    "tuple1 = 1, 2, \"Hello\"\n",
    "# display tuple\n",
    "print(tuple1)  \n",
    "# Output (1, 2, 'Hello')\n",
    "\n",
    "print(type(tuple1))  \n",
    "# Output class 'tuple'\n",
    "\n",
    "# unpacking tuple into variable\n",
    "i, j, k = tuple1\n",
    "# printing the variables\n",
    "print(i, j, k) \n",
    "# Output 1 2 Hello"
   ]
  },
  {
   "cell_type": "code",
   "execution_count": 48,
   "metadata": {},
   "outputs": [
    {
     "name": "stdout",
     "output_type": "stream",
     "text": [
      "6\n"
     ]
    }
   ],
   "source": [
    "tuple1 = ('P', 'Y', 'T', 'H', 'O', 'N')\n",
    "# length of a tuple\n",
    "print(len(tuple1))"
   ]
  },
  {
   "cell_type": "code",
   "execution_count": 49,
   "metadata": {},
   "outputs": [
    {
     "name": "stdout",
     "output_type": "stream",
     "text": [
      "1\n",
      "2\n",
      "3\n",
      "Hello\n",
      "[4, 8, 16]\n"
     ]
    }
   ],
   "source": [
    "# create a tuple\n",
    "sample_tuple = tuple((1, 2, 3, \"Hello\", [4, 8, 16]))\n",
    "# iterate a tuple\n",
    "for item in sample_tuple:\n",
    "    print(item)"
   ]
  },
  {
   "attachments": {
    "positive-and-negative-indexing.jpg": {
     "image/jpeg": "[encoded data removed]"
    }
   },
   "cell_type": "markdown",
   "metadata": {},
   "source": [
    "**Accessing items of a Tuple**\n",
    "Tuple can be accessed through indexing and slicing. This section will guide you by accessing tuple using the following two ways  \n",
    "\n",
    "Using indexing, we can access any item from a tuple using its index number  \n",
    "Using slicing, we can access a range of items from a tuple  \n",
    "  \n",
    "Indexing  \n",
    "A tuple is an ordered sequence of items, which means they hold the order of the data insertion. It maintains the index value for each item.  \n",
    "  \n",
    "We can access an item of a tuple by using its index number inside the index operator [] and this process is called “Indexing”.  \n",
    "  \n",
    "Note:  \n",
    "  \n",
    "As tuples are ordered sequences of items, the index values start from 0 to the tuple’s length.  \n",
    "Whenever we try to access an item with an index more than the tuple’s length, it will throw the 'Index Error'.  \n",
    "Similarly, the index values are always integer. If we give any other type, then it will throw Type Error.  \n",
    "\n",
    "![positive-and-negative-indexing.jpg](attachment:positive-and-negative-indexing.jpg)"
   ]
  },
  {
   "cell_type": "code",
   "execution_count": 53,
   "metadata": {},
   "outputs": [
    {
     "name": "stdout",
     "output_type": "stream",
     "text": [
      "P\n",
      "Y\n",
      "T\n",
      "H\n",
      "O\n",
      "N\n"
     ]
    }
   ],
   "source": [
    "tuple1 = ('P', 'Y', 'T', 'H', 'O', 'N')\n",
    "for i in range(len(tuple1)):\n",
    "    print(tuple1[i])"
   ]
  },
  {
   "cell_type": "code",
   "execution_count": 58,
   "metadata": {},
   "outputs": [
    {
     "ename": "TypeError",
     "evalue": "tuple indices must be integers or slices, not float",
     "output_type": "error",
     "traceback": [
      "\u001b[1;31m---------------------------------------------------------------------------\u001b[0m",
      "\u001b[1;31mTypeError\u001b[0m                                 Traceback (most recent call last)",
      "\u001b[1;32m<ipython-input-58-351ded9ef113>\u001b[0m in \u001b[0;36m<module>\u001b[1;34m\u001b[0m\n\u001b[0;32m      1\u001b[0m \u001b[1;31m# print(tuple1[6]) # Error-index out of range\u001b[0m\u001b[1;33m\u001b[0m\u001b[1;33m\u001b[0m\u001b[1;33m\u001b[0m\u001b[0m\n\u001b[1;32m----> 2\u001b[1;33m \u001b[0mprint\u001b[0m\u001b[1;33m(\u001b[0m\u001b[0mtuple1\u001b[0m\u001b[1;33m[\u001b[0m\u001b[1;36m2.0\u001b[0m\u001b[1;33m]\u001b[0m\u001b[1;33m)\u001b[0m \u001b[1;31m# Error - index must be integer\u001b[0m\u001b[1;33m\u001b[0m\u001b[1;33m\u001b[0m\u001b[0m\n\u001b[0m",
      "\u001b[1;31mTypeError\u001b[0m: tuple indices must be integers or slices, not float"
     ]
    }
   ],
   "source": [
    "# print(tuple1[6]) # Error-index out of range\n",
    "print(tuple1[2.0]) # Error - index must be integer"
   ]
  },
  {
   "cell_type": "code",
   "execution_count": 59,
   "metadata": {},
   "outputs": [
    {
     "name": "stdout",
     "output_type": "stream",
     "text": [
      "N\n",
      "O\n",
      "P, Y, T, H, O, N, "
     ]
    }
   ],
   "source": [
    "# Negative Indexing\n",
    "# The index values can also be negative, with the last \n",
    "# but the first items having the index value as -1 and\n",
    "# second last -2 and so on.\n",
    "tuple1 = ('P', 'Y', 'T', 'H', 'O', 'N')\n",
    "# Negative indexing\n",
    "# print last item of a tuple\n",
    "print(tuple1[-1])  # N\n",
    "# print second last\n",
    "print(tuple1[-2])  # O\n",
    "\n",
    "# iterate a tuple using negative indexing\n",
    "for i in range(-6, 0):\n",
    "    print(tuple1[i], end=\", \")  \n",
    "# Output P, Y, T, H, O, N,"
   ]
  },
  {
   "cell_type": "code",
   "execution_count": 60,
   "metadata": {},
   "outputs": [
    {
     "name": "stdout",
     "output_type": "stream",
     "text": [
      "(1, 2, 3, 4)\n"
     ]
    }
   ],
   "source": [
    "# Slicing a tuple\n",
    "# We can specify the start and end values for the range\n",
    "# of items to be accessed from the tuple. The output will\n",
    "# be a tuple, and it includes the range of items with the\n",
    "# index values from the start till the end of the range.\n",
    "# The end value item will be excluded.\n",
    "tuple1 = (0, 1, 2, 3, 4, 5, 6, 7, 8, 9, 10)\n",
    "\n",
    "# slice a tuple with start and end index number\n",
    "print(tuple1[1:5])\n",
    "# Output (1, 2, 3, 4)"
   ]
  },
  {
   "cell_type": "code",
   "execution_count": 68,
   "metadata": {},
   "outputs": [
    {
     "name": "stdout",
     "output_type": "stream",
     "text": [
      "(0, 1, 2, 3, 4)\n",
      "(6, 7, 8, 9, 10)\n",
      "(0, 1, 2, 3, 4, 5, 6, 7, 8, 9, 10)\n",
      "(0, 1, 2, 3, 4, 5, 6, 7, 8, 9, 10)\n",
      "(0, 1, 2, 3, 4, 5, 6, 7, 8, 9, 10)\n",
      "(10, 9, 8, 7, 6, 5, 4, 3, 2, 1, 0)\n"
     ]
    }
   ],
   "source": [
    "tuple1 = (0, 1, 2, 3, 4, 5, 6, 7, 8, 9, 10)\n",
    "\n",
    "# slice a tuple without start index\n",
    "print(tuple1[:5])\n",
    "# Output (0, 1, 2, 3, 4)\n",
    "\n",
    "# slice a tuple without end index\n",
    "print(tuple1[6:])\n",
    "# Output (6, 7, 8, 9, 10)\n",
    "\n",
    "# slice a tuple without start and end index\n",
    "print(tuple1[:])\n",
    "# Output (0,1,2,3,4,5, 6, 7, 8, 9, 10)\n",
    "\n",
    "# slice a tuple without start and end index, and default jump =1 \n",
    "print(tuple1[::])\n",
    "# Output (0,1,2,3,4,5, 6, 7, 8, 9, 10)\n",
    "\n",
    "# slice a tuple without start and end index, and jump =1 \n",
    "print(tuple1[::1])\n",
    "# Output (0,1,2,3,4,5, 6, 7, 8, 9, 10)\n",
    "\n",
    "# Reverse printing the tuple using negative jump\n",
    "print(tuple1[::-1])\n",
    "# Output (10,9,8,7,6,5,4,3,2,1,0)"
   ]
  },
  {
   "cell_type": "code",
   "execution_count": 72,
   "metadata": {},
   "outputs": [
    {
     "name": "stdout",
     "output_type": "stream",
     "text": [
      "2\n"
     ]
    }
   ],
   "source": [
    "# The index() method accepts the following three arguments\n",
    "\n",
    "# item – The item which needs to be searched\n",
    "# start – (Optional) The starting value of the index from which the search will start\n",
    "# end – (Optional) The end value of the index search\n",
    "# Example\n",
    "\n",
    "tuple1 = (10, 20, 30, 40, 50)\n",
    "\n",
    "# get index of item 30\n",
    "position = tuple1.index(30)\n",
    "print(position)\n",
    "# Output 2"
   ]
  },
  {
   "cell_type": "code",
   "execution_count": 3,
   "metadata": {},
   "outputs": [
    {
     "name": "stdout",
     "output_type": "stream",
     "text": [
      "7\n"
     ]
    }
   ],
   "source": [
    "tuple1 = (10, 20, 60, 40, 50, 60, 70, 60 ,80)\n",
    "# Limit the search locations using start and end\n",
    "# search only from location 4 to 6\n",
    "# start = 4 and end = 6\n",
    "# get index of item 60\n",
    "position = tuple1.index(60, 6, 10)\n",
    "print(position)  \n",
    "# Output 5"
   ]
  },
  {
   "cell_type": "code",
   "execution_count": 73,
   "metadata": {},
   "outputs": [
    {
     "name": "stdout",
     "output_type": "stream",
     "text": [
      "True\n",
      "False\n"
     ]
    }
   ],
   "source": [
    "tuple1 = (10, 20, 60, 40, 50, 60, 70, 80)\n",
    "# checking whether item 50 exists in tuple\n",
    "print(50 in tuple1)\n",
    "# Output True\n",
    "print(500 in tuple1)\n",
    "# Output False"
   ]
  },
  {
   "cell_type": "code",
   "execution_count": 74,
   "metadata": {},
   "outputs": [
    {
     "ename": "TypeError",
     "evalue": "'tuple' object does not support item assignment",
     "output_type": "error",
     "traceback": [
      "\u001b[1;31m---------------------------------------------------------------------------\u001b[0m",
      "\u001b[1;31mTypeError\u001b[0m                                 Traceback (most recent call last)",
      "\u001b[1;32m<ipython-input-74-84ca7a84389a>\u001b[0m in \u001b[0;36m<module>\u001b[1;34m\u001b[0m\n\u001b[0;32m      1\u001b[0m \u001b[0mtuple1\u001b[0m \u001b[1;33m=\u001b[0m \u001b[1;33m(\u001b[0m\u001b[1;36m0\u001b[0m\u001b[1;33m,\u001b[0m \u001b[1;36m1\u001b[0m\u001b[1;33m,\u001b[0m \u001b[1;36m2\u001b[0m\u001b[1;33m,\u001b[0m \u001b[1;36m3\u001b[0m\u001b[1;33m,\u001b[0m \u001b[1;36m4\u001b[0m\u001b[1;33m,\u001b[0m \u001b[1;36m5\u001b[0m\u001b[1;33m)\u001b[0m\u001b[1;33m\u001b[0m\u001b[1;33m\u001b[0m\u001b[0m\n\u001b[1;32m----> 2\u001b[1;33m \u001b[0mtuple1\u001b[0m\u001b[1;33m[\u001b[0m\u001b[1;36m1\u001b[0m\u001b[1;33m]\u001b[0m \u001b[1;33m=\u001b[0m \u001b[1;36m10\u001b[0m\u001b[1;33m\u001b[0m\u001b[1;33m\u001b[0m\u001b[0m\n\u001b[0m\u001b[0;32m      3\u001b[0m \u001b[1;31m# Output TypeError: 'tuple' object does not support item assignment\u001b[0m\u001b[1;33m\u001b[0m\u001b[1;33m\u001b[0m\u001b[1;33m\u001b[0m\u001b[0m\n",
      "\u001b[1;31mTypeError\u001b[0m: 'tuple' object does not support item assignment"
     ]
    }
   ],
   "source": [
    "tuple1 = (0, 1, 2, 3, 4, 5)\n",
    "tuple1[1] = 10\n",
    "# Output TypeError: 'tuple' object does not support item assignment"
   ]
  },
  {
   "cell_type": "code",
   "execution_count": 75,
   "metadata": {},
   "outputs": [
    {
     "name": "stdout",
     "output_type": "stream",
     "text": [
      "(0, 1, 2, 3, 4, 5, 6)\n"
     ]
    }
   ],
   "source": [
    "tuple1 = (0, 1, 2, 3, 4, 5)\n",
    "\n",
    "# converting tuple into a list\n",
    "sample_list = list(tuple1)\n",
    "# add item to list\n",
    "sample_list.append(6)\n",
    "\n",
    "# converting list back into a tuple\n",
    "tuple1 = tuple(sample_list)\n",
    "print(tuple1)  \n",
    "# Output (0, 1, 2, 3, 4, 5, 6)"
   ]
  },
  {
   "cell_type": "code",
   "execution_count": 4,
   "metadata": {},
   "outputs": [
    {
     "name": "stdout",
     "output_type": "stream",
     "text": [
      "(10, 20, [25, 75, 85])\n",
      "(10, 20, [251, 75, 85])\n"
     ]
    }
   ],
   "source": [
    "tuple1 = (10, 20, [25, 75, 85])\n",
    "# before update\n",
    "print(tuple1)\n",
    "# Output (10, 20, [25, 75, 85])\n",
    "\n",
    "# modify last item's first value\n",
    "tuple1[2][0] = 251\n",
    "# after update\n",
    "print(tuple1)\n",
    "# Output (10, 20, [250, 75, 85])"
   ]
  },
  {
   "cell_type": "code",
   "execution_count": 77,
   "metadata": {},
   "outputs": [
    {
     "name": "stdout",
     "output_type": "stream",
     "text": [
      "3\n",
      "0\n"
     ]
    }
   ],
   "source": [
    "# To determine how many times a specific item occurred in a tuple, \n",
    "# we can use the count() method of a tuple object.\n",
    "\n",
    "# The count() method accepts any value as a parameter and\n",
    "# returns the number of times a particular value appears in a tuple.\n",
    "\n",
    "# Example\n",
    "\n",
    "tuple1 = (10, 20, 60, 30, 60, 40, 60)\n",
    "# Count all occurrences of item 60\n",
    "count = tuple1.count(60)\n",
    "print(count)\n",
    "# Output 3\n",
    "\n",
    "count = tuple1.count(600)\n",
    "print(count)\n",
    "# Output 0"
   ]
  },
  {
   "cell_type": "code",
   "execution_count": 78,
   "metadata": {},
   "outputs": [
    {
     "name": "stdout",
     "output_type": "stream",
     "text": [
      "(1, 2, 3, 4, 5, 3, 4, 5, 6, 7)\n"
     ]
    }
   ],
   "source": [
    "tuple1 = (1, 2, 3, 4, 5)\n",
    "tuple2 = (3, 4, 5, 6, 7)\n",
    "\n",
    "# concatenate tuples using + operator\n",
    "tuple3 = tuple1 + tuple2\n",
    "print(tuple3)\n",
    "# Output (1, 2, 3, 4, 5, 3, 4, 5, 6, 7)"
   ]
  },
  {
   "cell_type": "code",
   "execution_count": 7,
   "metadata": {},
   "outputs": [
    {
     "name": "stdout",
     "output_type": "stream",
     "text": [
      "(1, 2, 3, 4, 5, 3, 4, 5, 6, 7)\n"
     ]
    }
   ],
   "source": [
    "tuple1 = (1, 2, 3, 4, 5)\n",
    "tuple2 = (3, 4, 5, 6, 7)\n",
    "\n",
    "# using sum function\n",
    "tuple3 = sum((tuple1, tuple2),())\n",
    "print(tuple3)\n",
    "# Output (1, 2, 3, 4, 5, 3, 4, 5, 6, 7)"
   ]
  },
  {
   "cell_type": "code",
   "execution_count": 9,
   "metadata": {},
   "outputs": [
    {
     "name": "stdout",
     "output_type": "stream",
     "text": [
      "((1, 2), (3, 4))\n",
      "SatishSatishSatishSatish\n",
      "(1, 2, 3, 1, 2, 3)\n"
     ]
    }
   ],
   "source": [
    "a = 1,2 \n",
    "b = 3,4 \n",
    "d= a, b # Tuple of Tuples\n",
    "print(d)\n",
    "\n",
    "T = ('Satish'* 4) # WHAT WILL HAPPEN IF YOU REMOVE EXTRA COMMA\n",
    "print(T)\n",
    "\n",
    "T = 1,2,3 \n",
    "NEW_T = T * 2\n",
    "print(NEW_T)\n"
   ]
  },
  {
   "cell_type": "code",
   "execution_count": 99,
   "metadata": {},
   "outputs": [
    {
     "name": "stdout",
     "output_type": "stream",
     "text": [
      "P\n",
      "tuple (20, 40, 60) elements\n",
      "20, 40, 60, \n",
      "\n",
      "tuple (10, 30, 50) elements\n",
      "10, 30, 50, \n",
      "\n",
      "tuple Python elements\n",
      "P, y, t, h, o, n, \n",
      "\n"
     ]
    }
   ],
   "source": [
    "nested_tuple = ((20, 40, 60), (10, 30, 50), \"Python\")\n",
    "\n",
    "# access the first item of the third tuple\n",
    "print(nested_tuple[2][0])  # P\n",
    "\n",
    "# iterate a nested tuple\n",
    "for i in nested_tuple:\n",
    "    print(\"tuple\", i, \"elements\")\n",
    "    for j in i:\n",
    "        print(j, end=\", \")\n",
    "    print(\"\\n\")"
   ]
  },
  {
   "cell_type": "code",
   "execution_count": 10,
   "metadata": {},
   "outputs": [
    {
     "name": "stdout",
     "output_type": "stream",
     "text": [
      "[0, 1, 2, 3, 4, 5, 6, 7, 8, 9]\n",
      "(1, 2, 3, 4, 5, 0, 9, 6, 8, 7)\n",
      "[9, 8, 7, 6, 5, 4, 3, 2, 1, 0]\n"
     ]
    }
   ],
   "source": [
    "tuple1 = (1, 2, 3, 4, 5, 0 ,9,6,8,7)\n",
    "print(sorted(tuple1))\n",
    "print(tuple1)\n",
    "print(sorted(tuple1,reverse=True))\n",
    "# print(tuple1.sort())"
   ]
  },
  {
   "cell_type": "code",
   "execution_count": 105,
   "metadata": {},
   "outputs": [
    {
     "data": {
      "text/plain": [
       "[1, 2, 3, 4, 5, 6, 7, 8, 9]"
      ]
     },
     "execution_count": 105,
     "metadata": {},
     "output_type": "execute_result"
    }
   ],
   "source": [
    "list1 = [4,5,3,6,7,1,8,9,2]\n",
    "list1.sort() # sorts in place\n",
    "list1"
   ]
  },
  {
   "cell_type": "code",
   "execution_count": 15,
   "metadata": {},
   "outputs": [
    {
     "name": "stdout",
     "output_type": "stream",
     "text": [
      "[1, 2, 3, 4, 5, 6, 7, 8, 9]\n"
     ]
    },
    {
     "data": {
      "text/plain": [
       "[4, 5, 3, 6, 7, 1, 8, 9, 2]"
      ]
     },
     "execution_count": 15,
     "metadata": {},
     "output_type": "execute_result"
    }
   ],
   "source": [
    "list1 = [4,5,3,6,7,1,8,9,2]\n",
    "print(sorted(list1)) # original list is not modified\n",
    "list1"
   ]
  },
  {
   "cell_type": "code",
   "execution_count": 19,
   "metadata": {},
   "outputs": [
    {
     "name": "stdout",
     "output_type": "stream",
     "text": [
      "z\n",
      "a\n",
      "10\n"
     ]
    }
   ],
   "source": [
    "# Works for homogenous tuple\n",
    "tuple2= ( 1,2,3,4)\n",
    "tuple3 = ('b','a','z')\n",
    "print(max(tuple3))\n",
    "print(min(tuple3))\n",
    "print(sum(tuple2)) # only numerals"
   ]
  },
  {
   "cell_type": "code",
   "execution_count": 108,
   "metadata": {},
   "outputs": [
    {
     "name": "stdout",
     "output_type": "stream",
     "text": [
      "Help on built-in function sorted in module builtins:\n",
      "\n",
      "sorted(iterable, /, *, key=None, reverse=False)\n",
      "    Return a new list containing all items from the iterable in ascending order.\n",
      "    \n",
      "    A custom key function can be supplied to customize the sort order, and the\n",
      "    reverse flag can be set to request the result in descending order.\n",
      "\n"
     ]
    }
   ],
   "source": [
    "help(sorted)"
   ]
  },
  {
   "cell_type": "code",
   "execution_count": 20,
   "metadata": {},
   "outputs": [
    {
     "name": "stdout",
     "output_type": "stream",
     "text": [
      "['banana', 'kiwi', 'mango', 'orange', 'pineapple']\n",
      "[23, 50, 65, 82, 100]\n",
      "['pineapple', 'orange', 'mango', 'kiwi', 'banana']\n",
      "[100, 82, 65, 50, 23]\n",
      "[50, 65, 23, 82, 100]\n"
     ]
    }
   ],
   "source": [
    "#Example Sort the list alphabetically:\n",
    "thislist = [\"orange\",\"mango\",\"kiwi\",\"pineapple\",\"banana\"]\n",
    "thislist.sort()\n",
    "print(thislist)\n",
    "\n",
    "# #Example Sort the list numerically:\n",
    "thislist = [100,50,65,82,23]\n",
    "thislist.sort()\n",
    "print(thislist)\n",
    "\n",
    "# #Example Sort the list descending(String)\n",
    "thislist = [\"orange\",\"mango\",\"kiwi\",\"pineapple\",\"banana\"]\n",
    "thislist.sort(reverse =True)\n",
    "print(thislist)\n",
    "\n",
    "# #Example: Sort the list descending: (numbers)\n",
    "thislist=[100,50,65,82,23]\n",
    "thislist.sort(reverse =True)\n",
    "print(thislist)\n",
    "\n",
    "# Custom Sort\n",
    "# use the keyword argument key = function of the sort function.\n",
    "# The function will return a number that will be used to sort \n",
    "# the list (the lowest number first):\n",
    "# Example\n",
    "# Sort the list based on how close the number is to 50:\n",
    "def myfunc(n):\n",
    "    return abs(n-50)\n",
    "\n",
    "thislist = [100,50,65,82,23] # [50,0,15,32,27] [0,15,27,32,50] [50 ,65 , 23 , 82, 100]\n",
    "thislist.sort(key=myfunc)\n",
    "print(thislist)\n"
   ]
  },
  {
   "cell_type": "code",
   "execution_count": 21,
   "metadata": {},
   "outputs": [
    {
     "name": "stdout",
     "output_type": "stream",
     "text": [
      "['Banana', 'Kiwi', 'cherry', 'orange']\n",
      "['Banana', 'cherry', 'Kiwi', 'orange']\n",
      "['cherry', 'Kiwi', 'Orange', 'banana']\n"
     ]
    }
   ],
   "source": [
    "# Example Perform a case-insensitive sort of the list:\n",
    "thislist = [\"Banana\",\"orange\",\"Kiwi\",\"cherry\"]\n",
    "thislist.sort()\n",
    "print(thislist)\n",
    "thislist.sort(key=str.lower)\n",
    "print(thislist)\n",
    "\n",
    "# Example Reverse the order of the list items:\n",
    "thislist = [\"banana\",\"Orange\",\"Kiwi\",\"cherry\"]\n",
    "thislist.reverse()\n",
    "print(thislist)\n"
   ]
  },
  {
   "cell_type": "code",
   "execution_count": 12,
   "metadata": {},
   "outputs": [
    {
     "name": "stdout",
     "output_type": "stream",
     "text": [
      "['apple', 'banana', 'mango']\n",
      "['cherry', 'kiwi']\n"
     ]
    }
   ],
   "source": [
    "# using Comprehension technique Create a new list \n",
    "#Based on a list of fruits,containing only the fruits \n",
    "#with the letter \"a\" in the name.\n",
    "\n",
    "fruits = [\"apple\",\"banana\",\"cherry\",\"kiwi\",\"mango\"]\n",
    "n_list =[]\n",
    "\n",
    "for word in fruits:\n",
    "    if 'a' in word:\n",
    "        n_list.append(word)\n",
    "\n",
    "print(n_list)\n",
    "print(list(word for word in fruits if 'a' not in word)) # list comprehension"
   ]
  },
  {
   "cell_type": "code",
   "execution_count": 14,
   "metadata": {},
   "outputs": [
    {
     "data": {
      "text/plain": [
       "['banana', 'cherry', 'kiwi', 'mango', 'pineapple']"
      ]
     },
     "execution_count": 14,
     "metadata": {},
     "output_type": "execute_result"
    }
   ],
   "source": [
    "fruits = [\"apple\",\"banana\",\"cherry\",\"kiwi\",\"mango\",\"pineapple\"]\n",
    "n_l1 = [word for word in fruits if word != 'apple']\n",
    "n_l1"
   ]
  },
  {
   "cell_type": "code",
   "execution_count": 17,
   "metadata": {},
   "outputs": [
    {
     "name": "stdout",
     "output_type": "stream",
     "text": [
      "['banana', 'cherry', 'kiwi', 'mango']\n",
      "['apple', 'orange', 'cherry', 'kiwi', 'mango']\n"
     ]
    }
   ],
   "source": [
    "fruits = [\"apple\",\"banana\",\"cherry\",\"kiwi\",\"mango\"]\n",
    "#Only accept items that are not \"apple\":\n",
    "newlist = [x for x in fruits if x != \"apple\"]\n",
    "\n",
    "#Return \"orange\" instead of \"banana\":\n",
    "\n",
    "\n",
    "\n",
    "newlist1 = [x if x != \"banana\" else \"orange\" for x in fruits ]\n",
    "print(newlist)\n",
    "print(newlist1)"
   ]
  },
  {
   "cell_type": "code",
   "execution_count": null,
   "metadata": {},
   "outputs": [],
   "source": [
    "# Practice Problems\n",
    "# 1.WAP to Sum of all unique numbers in a list. \n",
    "# 2.WAP to remove duplicates from a list. \n",
    "# 3.Given two lists , concatenate index wise \n",
    "#     list1 = [\"M\", \"na\", \"i\", \"Ke\"] \n",
    "#     list2 = [\"y\", \"me\", \"s\", \"lly\"]\n",
    "#     Output [My, name, is Kelly]\n",
    "# 4.Concatenate two lists in the following order\n",
    "# \tlist1 = [\"Hello \", \"take \"] \n",
    "# \tlist2 = [\"Dear\", \"Sir\"]\n",
    "# \tExpected output:\n",
    "# \t['Hello Dear', 'Hello Sir', 'take Dear', 'take Sir'] \n",
    "# 5.Remove empty strings from the list of strings\n",
    "# \tlist1 = [\"Mike\", \"\", \"Emma\", \"Kelly\", \"\", \"Brad\"]\n",
    "# \toutput“[Mike\", \"Emma\", \"Kelly\", \"Brad\"]\n"
   ]
  },
  {
   "cell_type": "code",
   "execution_count": 129,
   "metadata": {},
   "outputs": [],
   "source": [
    "# Given a list (Matrix) with = [ \t[1  ,  2  ,  3  ,  4] ,\n",
    "# \t\t\t\t\t              [5  ,  6  ,  7  ,  8 ] ,\n",
    "# \t\t\t\t\t              [9  , 10  , 11 , 12]]\n",
    "#  Write a program to transpose the given matrix without list comprehension and with List comprehension.\n",
    "# OUTPUT\n",
    "# transposed = [ \t[1  ,  5 ,  9] ,\n",
    "# \t\t            [2  ,  6  , 10] ,\n",
    "# \t\t\t\t    [3  , 7  , 11] ,\n",
    "# \t\t\t\t   [4  ,  8 , 12]]\n"
   ]
  },
  {
   "cell_type": "code",
   "execution_count": 141,
   "metadata": {},
   "outputs": [
    {
     "name": "stdout",
     "output_type": "stream",
     "text": [
      "[[1, 2, 3, 4], [5, 6, 7, 8], [9, 10, 11, 12]]\n",
      "[[1, 5, 9], [2, 6, 10], [3, 7, 11], [4, 8, 12]]\n"
     ]
    }
   ],
   "source": [
    "matrix= [ \t[1  ,  2  ,  3  ,  4],\n",
    "            [5  ,  6  ,  7  ,  8 ] ,\n",
    "            [9  , 10  , 11 , 12]]\n",
    "# Without List Comprehension\n",
    "transposed = []\n",
    "for i in range(4):\n",
    "    lst = []\n",
    "    for row in matrix:\n",
    "         lst.append(row[i])\n",
    "    transposed.append(lst)\n",
    "\n",
    "print(matrix)\n",
    "print(transposed)\n"
   ]
  },
  {
   "cell_type": "code",
   "execution_count": 142,
   "metadata": {},
   "outputs": [
    {
     "data": {
      "text/plain": [
       "[[1, 5, 9], [2, 6, 10], [3, 7, 11], [4, 8, 12]]"
      ]
     },
     "execution_count": 142,
     "metadata": {},
     "output_type": "execute_result"
    }
   ],
   "source": [
    "transposed = [[row[i] for row in matrix] for i in range(4)]\n",
    "transposed"
   ]
  },
  {
   "attachments": {
    "dictionaries-in-python.jpg": {
     "image/jpeg": "[encoded data removed]"
    }
   },
   "cell_type": "markdown",
   "metadata": {},
   "source": [
    "**Dictionary**  \n",
    "Dictionaries are ordered collections of unique values stored in (Key-Value) pairs.  \n",
    "Python dictionary represents a mapping between a key and a value. In simple terms, a Python dictionary can store pairs of keys and values. Each key is linked to a specific value. Once stored in a dictionary, you can later obtain the value using just the key.![dictionaries-in-python.jpg](attachment:dictionaries-in-python.jpg)  \n",
    "1) Ordered (In Python 3.7 and higher version): dictionaries are ordered, which means that the items have a defined order, and that order will not change. A simple Hash Table consists of key-value pair arranged in pseudo-random order based on the calculations from Hash Function.  \n",
    "https://mail.python.org/pipermail/python-dev/2012-December/123028.html  \n",
    "\n",
    "2) Unique: As mentioned above, each value has a Key; the Keys in Dictionaries should be unique.  If we store any value with a Key that already exists, then the most recent value will replace the old value.    \n",
    "3) Mutable: The dictionaries are changeable collections, which implies that we can add or remove items after the creation."
   ]
  },
  {
   "cell_type": "markdown",
   "metadata": {},
   "source": [
    "**Creating a dictionary**  \n",
    "There are following three ways to create a dictionary.  \n",
    "\n",
    "1) Using curly brackets: The dictionaries are created by enclosing the comma-separated Key: Value pairs inside the {} curly brackets. The colon ‘:‘ is used to separate the key and value in a pair.  \n",
    "2) Using dict() constructor:  Create a dictionary by passing the comma-separated key: value pairs inside the dict().  \n",
    "3) Using sequence having each item as a pair (key-value)  \n"
   ]
  },
  {
   "cell_type": "code",
   "execution_count": 2,
   "metadata": {},
   "outputs": [
    {
     "name": "stdout",
     "output_type": "stream",
     "text": [
      "{'name': 'Jessa', 'country': 'USA', 'telephone': 1178}\n",
      "{'name': 'Jessa', 'country': 'USA', 'telephone': 1178}\n",
      "{'name': 'Mark', 'country': 'USA', 'telephone': 1178}\n",
      "{'name': 'Jessa', 10: 'Mobile'}\n",
      "{'name': 'Jessa', 'telephones': [1178, 2563, 4569]}\n"
     ]
    },
    {
     "ename": "KeyError",
     "evalue": "0",
     "output_type": "error",
     "traceback": [
      "\u001b[1;31m---------------------------------------------------------------------------\u001b[0m",
      "\u001b[1;31mKeyError\u001b[0m                                  Traceback (most recent call last)",
      "\u001b[1;32m<ipython-input-2-efa1da7059bc>\u001b[0m in \u001b[0;36m<module>\u001b[1;34m\u001b[0m\n\u001b[0;32m     23\u001b[0m \u001b[0mprint\u001b[0m\u001b[1;33m(\u001b[0m\u001b[0mperson\u001b[0m\u001b[1;33m)\u001b[0m\u001b[1;33m\u001b[0m\u001b[1;33m\u001b[0m\u001b[0m\n\u001b[0;32m     24\u001b[0m \u001b[1;31m# output {'name': 'Jessa', 'telephones': [1178, 2563, 4569]}\u001b[0m\u001b[1;33m\u001b[0m\u001b[1;33m\u001b[0m\u001b[1;33m\u001b[0m\u001b[0m\n\u001b[1;32m---> 25\u001b[1;33m \u001b[0mprint\u001b[0m\u001b[1;33m(\u001b[0m\u001b[0mperson\u001b[0m\u001b[1;33m[\u001b[0m\u001b[1;36m0\u001b[0m\u001b[1;33m]\u001b[0m\u001b[1;33m)\u001b[0m\u001b[1;33m\u001b[0m\u001b[1;33m\u001b[0m\u001b[0m\n\u001b[0m",
      "\u001b[1;31mKeyError\u001b[0m: 0"
     ]
    }
   ],
   "source": [
    "# create a dictionary using {}\n",
    "person = {\"name\": \"Jessa\", \"country\": \"USA\", \"telephone\": 1178}\n",
    "print(person)\n",
    "# output {'name': 'Jessa', 'country': 'USA', 'telephone': 1178}\n",
    "\n",
    "# create a dictionary using dict()\n",
    "person = dict({\"name\": \"Jessa\", \"country\": \"USA\", \"telephone\": 1178})\n",
    "print(person)\n",
    "# output {'name': 'Jessa', 'country': 'USA', 'telephone': 1178}\n",
    "\n",
    "# create a dictionary from sequence having each item as a pair\n",
    "person = dict([(\"name\", \"Mark\"), (\"country\", \"USA\"), (\"telephone\", 1178)])\n",
    "print(person)\n",
    "\n",
    "# create dictionary with mixed keys keys\n",
    "# first key is string and second is an integer\n",
    "sample_dict = {\"name\": \"Jessa\", 10: \"Mobile\"}\n",
    "print(sample_dict)\n",
    "# output {'name': 'Jessa', 10: 'Mobile'}\n",
    "\n",
    "# create dictionary with value as a list\n",
    "person = {\"name\": \"Jessa\", \"telephones\": [1178, 2563, 4569]}\n",
    "print(person)\n",
    "# output {'name': 'Jessa', 'telephones': [1178, 2563, 4569]}\n"
   ]
  },
  {
   "cell_type": "code",
   "execution_count": 39,
   "metadata": {},
   "outputs": [],
   "source": [
    "Mydict1 ={} # empty dictionary\n",
    "Mydict2 = {1 : \"one\", 2 : \"two\"} # dictionary with integer keys\n",
    "Mydict3 = {\"one\" : \"namit\", 1 : [\"cse\",\"fet\"] , 2 : (2,\"gkv\"), \n",
    "          3 : [ ('AI','ML','DL'), ('PYTHON','R')]}  # mixed valued dictionary with mixed keys\n",
    "# Create dictionary using dict()\n",
    "Mydict4 = dict()# pass list of comma separated pairs in round brackets\n",
    "Mydict5 = dict([ (1,'abc') , (2,'pqr')]) #dict from list of tuples \n",
    "B = Mydict.copy() # copying a dictionary\n",
    "\n",
    "# A dictionary value can be of any type, and duplicates are allowed in that.\n",
    "# Keys in the dictionary must be unique and of immutable types like string, numbers, or tuples.\n"
   ]
  },
  {
   "cell_type": "code",
   "execution_count": 24,
   "metadata": {},
   "outputs": [
    {
     "name": "stdout",
     "output_type": "stream",
     "text": [
      "Jessa\n",
      "1178\n"
     ]
    }
   ],
   "source": [
    "# Accessing elements of a dictionary\n",
    "# There are two different ways to access the elements of a dictionary.\n",
    "\n",
    "# Retrieve value using the key name inside the [] square brackets\n",
    "# Retrieve value by passing key name as a parameter to the get() method of a dictionary.\n",
    "# create a dictionary named person\n",
    "person = {\"name\": \"Jessa\", \"country\": \"USA\", \"telephone\": 1178}\n",
    "\n",
    "# access value using key name in []\n",
    "print(person['name'])\n",
    "# Output 'Jessa'\n",
    "\n",
    "#  get key value using key name in get()\n",
    "print(person.get('telephone',0))\n",
    "# Output 1178"
   ]
  },
  {
   "cell_type": "code",
   "execution_count": 41,
   "metadata": {},
   "outputs": [
    {
     "name": "stdout",
     "output_type": "stream",
     "text": [
      "dict_keys(['name', 'country', 'telephone'])\n",
      "<class 'dict_keys'>\n",
      "dict_values(['Jessa', 'USA', 1178])\n",
      "<class 'dict_values'>\n",
      "dict_items([('name', 'Jessa'), ('country', 'USA'), ('telephone', 1178)])\n",
      "<class 'dict_items'>\n"
     ]
    }
   ],
   "source": [
    "# keys()\tReturns the list of all keys present in the dictionary.\n",
    "# values()\tReturns the list of all values present in the dictionary\n",
    "# items()\tReturns all the items present in the dictionary. \n",
    "# Each item will be inside a tuple as a key-value pair.\n",
    "\n",
    "person = {\"name\": \"Jessa\", \"country\": \"USA\", \"telephone\": 1178}\n",
    "\n",
    "# Get all keys\n",
    "print(person.keys())\n",
    "# output dict_keys(['name', 'country', 'telephone'])\n",
    "print(type(person.keys()))\n",
    "# Output class 'dict_keys'\n",
    "\n",
    "# Get all values\n",
    "print(person.values())\n",
    "# output dict_values(['Jessa', 'USA', 1178])\n",
    "print(type(person.values()))  \n",
    "# Output class 'dict_values'\n",
    "\n",
    "# Get all key-value pair\n",
    "print(person.items())\n",
    "# output dict_items([('name', 'Jessa'), ('country', 'USA'), ('telephone', 1178)])\n",
    "print(type(person.items()))\n",
    "# Output class 'dict_items'"
   ]
  },
  {
   "cell_type": "code",
   "execution_count": 25,
   "metadata": {},
   "outputs": [
    {
     "name": "stdout",
     "output_type": "stream",
     "text": [
      "key : value\n",
      "name : Jessa\n",
      "country : USA\n",
      "telephone : 1178\n",
      "key : value\n",
      "name Jessa\n",
      "country USA\n",
      "telephone 1178\n",
      "name Jessa\n",
      "country USA\n",
      "telephone 1178\n"
     ]
    }
   ],
   "source": [
    "person = {\"name\": \"Jessa\", \"country\": \"USA\", \"telephone\": 1178}\n",
    "\n",
    "# Iterating the dictionary using for-loop\n",
    "print('key', ':', 'value')\n",
    "for key in person:\n",
    "    print(key, ':', person[key])\n",
    "\n",
    "# using items() method\n",
    "print('key', ':', 'value')\n",
    "for key_value in person.items():\n",
    "    # first is key, and second is value\n",
    "    print(key_value[0], key_value[1])\n",
    "    \n",
    "for key,value in person.items():\n",
    "    # first is key, and second is value\n",
    "    print(key,value)"
   ]
  },
  {
   "cell_type": "code",
   "execution_count": 43,
   "metadata": {},
   "outputs": [
    {
     "name": "stdout",
     "output_type": "stream",
     "text": [
      "3\n"
     ]
    }
   ],
   "source": [
    "person = {\"name\": \"Jessa\", \"country\": \"USA\", \"telephone\": 1178}\n",
    "\n",
    "# count number of keys present in  a dictionary\n",
    "print(len(person))  \n",
    "# output 3"
   ]
  },
  {
   "cell_type": "code",
   "execution_count": 44,
   "metadata": {},
   "outputs": [
    {
     "name": "stdout",
     "output_type": "stream",
     "text": [
      "{'name': 'Jessa', 'country': 'USA', 'telephone': 1178, 'weight': 50, 'height': 6}\n"
     ]
    }
   ],
   "source": [
    "# Adding items to the dictionary\n",
    "# We can add new items to the dictionary using the following two ways.\n",
    "\n",
    "# Using key-value assignment: Using a simple assignment statement where\n",
    "#     value can be assigned directly to the new key.\n",
    "# Using update() Method: In this method, the item passed inside the update()\n",
    "#     method will be inserted into the dictionary. The item can be another\n",
    "#     dictionary or any iterable like a tuple of key-value pairs.\n",
    "person = {\"name\": \"Jessa\", 'country': \"USA\", \"telephone\": 1178}\n",
    "\n",
    "# update dictionary by adding 2 new keys\n",
    "person[\"weight\"] = 50\n",
    "person.update({\"height\": 6})\n",
    "\n",
    "# print the updated dictionary\n",
    "print(person)"
   ]
  },
  {
   "cell_type": "code",
   "execution_count": 26,
   "metadata": {},
   "outputs": [
    {
     "name": "stdout",
     "output_type": "stream",
     "text": [
      "{'name': 'Jessa', 'country': 'USA', 'weight': 50, 'height': 6}\n",
      "{'name': 'Jessa', 'country': 'USA', 'weight': 50, 'height': 6, 'city': 'Texas', 'company': 'Google'}\n"
     ]
    }
   ],
   "source": [
    "person = {\"name\": \"Jessa\", 'country': \"USA\"}\n",
    "\n",
    "# Adding 2 new keys at once\n",
    "# pass new keys as dict\n",
    "person.update({\"weight\": 50, \"height\": 6})\n",
    "# print the updated dictionary\n",
    "print(person)\n",
    "# output {'name': 'Jessa', 'country': 'USA', 'weight': 50, 'height': 6}\n",
    "\n",
    "# pass new keys as as list of tuple\n",
    "person.update([(\"city\", \"Texas\"), (\"company\", \"Google\")])\n",
    "# print the updated dictionary\n",
    "print(person)"
   ]
  },
  {
   "cell_type": "code",
   "execution_count": 28,
   "metadata": {},
   "outputs": [
    {
     "name": "stdout",
     "output_type": "stream",
     "text": [
      "name : Jessa\n",
      "telephone : 1178\n",
      "state : Texas\n",
      "zip : None\n",
      "country : Canada\n"
     ]
    }
   ],
   "source": [
    "person_details = {\"name\": \"Jessa\", \"telephone\": 1178}\n",
    "\n",
    "# set default value if key doesn't exists\n",
    "person_details.setdefault('state', 'Texas')\n",
    "\n",
    "# key doesn't exists and value not mentioned. default None\n",
    "person_details.setdefault(\"zip\")\n",
    "\n",
    "# key exists and value mentioned. doesn't  change value\n",
    "person_details.setdefault('country', 'Canada')\n",
    "\n",
    "# Display dictionary\n",
    "for key, value in person_details.items():\n",
    "    print(key, ':', value)"
   ]
  },
  {
   "cell_type": "code",
   "execution_count": 49,
   "metadata": {},
   "outputs": [],
   "source": [
    "Mydict1 = dict.fromkeys([1,2,\"one\"])\n",
    "Mydict2 = dict.fromkeys([1,2,\"one\"],10) "
   ]
  },
  {
   "cell_type": "code",
   "execution_count": 51,
   "metadata": {},
   "outputs": [
    {
     "name": "stdout",
     "output_type": "stream",
     "text": [
      "{1: None, 2: None, 'one': None}\n",
      "{1: 10, 2: 10, 'one': 10}\n"
     ]
    }
   ],
   "source": [
    "print(Mydict1)\n",
    "print(Mydict2)"
   ]
  },
  {
   "cell_type": "code",
   "execution_count": 52,
   "metadata": {},
   "outputs": [
    {
     "name": "stdout",
     "output_type": "stream",
     "text": [
      "Canada\n",
      "USA\n"
     ]
    }
   ],
   "source": [
    "# Modify the values of the dictionary keys\n",
    "# We can modify the values of the existing dictionary keys using the following two ways.\n",
    "\n",
    "# Using key name: We can directly assign new values by using its key name. \n",
    "#     The key name will be the existing one and we can mention the new value.\n",
    "# Using update() method: We can use the update method by passing the \n",
    "#     key-value pair to change the value. Here the key name will be the \n",
    "#     existing one, and the value to be updated will be new.\n",
    "person = {\"name\": \"Jessa\", \"country\": \"USA\"}\n",
    "\n",
    "# updating the country name\n",
    "person[\"country\"] = \"Canada\"\n",
    "# print the updated country\n",
    "print(person['country'])\n",
    "# Output 'Canada'\n",
    "\n",
    "# updating the country name using update() method\n",
    "person.update({\"country\": \"USA\"})\n",
    "# print the updated country\n",
    "print(person['country'])\n",
    "# Output 'USA'"
   ]
  },
  {
   "cell_type": "code",
   "execution_count": null,
   "metadata": {},
   "outputs": [],
   "source": [
    "# Removing items from the dictionary\n",
    "# There are several methods to remove items from the dictionary.\n",
    "# pop(key[,d])\tReturn and removes the item with the key and return its value.\n",
    "#     If the key is not found, it raises KeyError.\n",
    "    \n",
    "# popitem()\tReturn and removes the last inserted item from the dictionary.\n",
    "#     If the dictionary is empty, it raises KeyError.\n",
    "    \n",
    "# del key\tThe del keyword will delete the item with the key that is passed.\n",
    "\n",
    "# clear()\tRemoves all items from the dictionary. Empty the dictionary.\n",
    "\n",
    "# del dict_name\tDelete the entire dictionary"
   ]
  },
  {
   "cell_type": "code",
   "execution_count": 53,
   "metadata": {},
   "outputs": [
    {
     "name": "stdout",
     "output_type": "stream",
     "text": [
      "('height', 6)\n",
      "{'name': 'Jessa', 'country': 'USA', 'telephone': 1178, 'weight': 50}\n",
      "1178\n",
      "{'name': 'Jessa', 'country': 'USA', 'weight': 50}\n",
      "{'name': 'Jessa', 'country': 'USA'}\n",
      "{}\n"
     ]
    }
   ],
   "source": [
    "person = {'name': 'Jessa', 'country': 'USA', 'telephone': 1178, 'weight': 50, 'height': 6}\n",
    "\n",
    "# Remove last inserted item from the dictionary\n",
    "deleted_item = person.popitem()\n",
    "print(deleted_item)  # output ('height', 6)\n",
    "# display updated dictionary\n",
    "print(person)  \n",
    "# Output {'name': 'Jessa', 'country': 'USA', 'telephone': 1178, 'weight': 50}\n",
    "\n",
    "# Remove key 'telephone' from the dictionary\n",
    "deleted_item = person.pop('telephone')\n",
    "print(deleted_item)  # output 1178\n",
    "# display updated dictionary\n",
    "print(person)  \n",
    "# Output {'name': 'Jessa', 'country': 'USA', 'weight': 50}\n",
    "\n",
    "# delete key 'weight'\n",
    "del person['weight']\n",
    "# display updated dictionary\n",
    "print(person)\n",
    "# Output {'name': 'Jessa', 'country': 'USA'}\n",
    "\n",
    "# remove all item (key-values) from dict\n",
    "person.clear()\n",
    "# display updated dictionary\n",
    "print(person)  # {}\n",
    "\n",
    "# Delete the entire dictionary\n",
    "del person"
   ]
  },
  {
   "cell_type": "code",
   "execution_count": 54,
   "metadata": {},
   "outputs": [
    {
     "name": "stdout",
     "output_type": "stream",
     "text": [
      "icecream\n"
     ]
    }
   ],
   "source": [
    "# in case of duplicate keys rather than giving \n",
    "# an error, Python will take the last instance of the key to\n",
    "# be valid and simply ignore the first key-value pair\n",
    "sweet_dict = {'a1': 'cake', 'a2':'cookie', 'a1': 'icecream'} \n",
    "print(sweet_dict['a1']) "
   ]
  },
  {
   "cell_type": "code",
   "execution_count": 55,
   "metadata": {},
   "outputs": [
    {
     "name": "stdout",
     "output_type": "stream",
     "text": [
      "{'Jessa': 70, 'Arul': 80, 'Emma': 55, 'Kelly': 68, 'Harry': 50, 'Olivia': 66}\n"
     ]
    }
   ],
   "source": [
    "# Join two dictionary\n",
    "# We can add two dictionaries using the update() method or unpacking arbitrary keywords operator **\n",
    "dict1 = {'Jessa': 70, 'Arul': 80, 'Emma': 55}\n",
    "dict2 = {'Kelly': 68, 'Harry': 50, 'Olivia': 66}\n",
    "\n",
    "# copy second dictionary into first dictionary\n",
    "dict1.update(dict2)\n",
    "# printing the updated dictionary\n",
    "print(dict1)\n",
    "# output {'Jessa': 70, 'Arul': 80, 'Emma': 55, 'Kelly': 68, 'Harry': 50, 'Olivia': 66}"
   ]
  },
  {
   "cell_type": "code",
   "execution_count": 29,
   "metadata": {},
   "outputs": [
    {
     "name": "stdout",
     "output_type": "stream",
     "text": [
      "{'Aadya': 1, 'Arul': 2, 'Harry': 5, 'Olivia': 6, 'Nancy': 7, 'Perry': 9}\n"
     ]
    }
   ],
   "source": [
    "# Using **kwargs to unpack\n",
    "# We can unpack any number of dictionary and add their contents to another dictionary using **kwargs. \n",
    "# In this way, we can add multiple length arguments to one dictionary in a single statement.\n",
    "\n",
    "student_dict1 = {'Aadya': 1, 'Arul': 2 }\n",
    "student_dict2 = {'Harry': 5, 'Olivia': 6}\n",
    "student_dict3 = {'Nancy': 7, 'Perry': 9}\n",
    "\n",
    "# join three dictionaries \n",
    "student_dict = {**student_dict1, **student_dict2, **student_dict3}\n",
    "# printing the final Merged dictionary\n",
    "print(student_dict)\n",
    "# Output {'Aadya': 1, 'Arul': 2, 'Harry': 5, 'Olivia': 6, 'Nancy': 7, 'Perry': 9}"
   ]
  },
  {
   "cell_type": "code",
   "execution_count": 30,
   "metadata": {},
   "outputs": [
    {
     "name": "stdout",
     "output_type": "stream",
     "text": [
      "66\n",
      "{'Jessa': 70, 'Arul': 80, 'Emma': 66, 'Kelly': 68, 'Harry': 50}\n"
     ]
    }
   ],
   "source": [
    "# Join two dictionaries having few items in common\n",
    "# Note: One thing to note here is that if both the dictionaries have a common key\n",
    "#     then the first dictionary value will be overridden with the second dictionary value.\n",
    "\n",
    "# Example\n",
    "\n",
    "dict1 = {'Jessa': 70, 'Arul': 80, 'Emma': 55}\n",
    "dict2 = {'Kelly': 68, 'Harry': 50, 'Emma': 66}\n",
    "\n",
    "# join two dictionaries with some common items\n",
    "dict1.update(dict2)\n",
    "# printing the updated dictionary\n",
    "print(dict1['Emma'])\n",
    "# Output 66\n",
    "print(dict1)"
   ]
  },
  {
   "cell_type": "code",
   "execution_count": 58,
   "metadata": {},
   "outputs": [
    {
     "name": "stdout",
     "output_type": "stream",
     "text": [
      "{'Jessa': 70, 'Emma': 55}\n",
      "{'Jessa': 70, 'Emma': 55}\n",
      "{'Jessa': 70, 'Emma': 55}\n"
     ]
    }
   ],
   "source": [
    "#copying a dictionary\n",
    "dict1 = {'Jessa': 70, 'Emma': 55}\n",
    "\n",
    "# Copy dictionary using copy() method\n",
    "dict2 = dict1.copy()\n",
    "# printing the new  dictionary\n",
    "print(dict2)\n",
    "# output {'Jessa': 70, 'Emma': 55}\n",
    "\n",
    "# Copy dictionary using dict() constructor\n",
    "dict3 = dict(dict1)\n",
    "print(dict3)\n",
    "# output {'Jessa': 70, 'Emma': 55}\n",
    "\n",
    "# Copy dictionary using the output of items() methods\n",
    "dict4 = dict(dict1.items())\n",
    "print(dict4)\n",
    "# output {'Jessa': 70, 'Emma': 55}"
   ]
  },
  {
   "cell_type": "code",
   "execution_count": 59,
   "metadata": {},
   "outputs": [
    {
     "name": "stdout",
     "output_type": "stream",
     "text": [
      "{'Jessa': 90, 'Emma': 55}\n",
      "{'Jessa': 90, 'Emma': 55}\n"
     ]
    }
   ],
   "source": [
    "# Copy using the assignment operator\n",
    "# We can simply use the '=' operator to create a copy.\n",
    "\n",
    "# Note: When you set dict2 = dict1, you are making them refer to the same dict object,\n",
    "#     so when you modify one of them, all references associated with that object \n",
    "#     reflect the current state of the object. \n",
    "# Example\n",
    "\n",
    "dict1 = {'Jessa': 70, 'Emma': 55}\n",
    "\n",
    "# Copy dictionary using assignment = operator\n",
    "dict2 = dict1\n",
    "# modify dict2\n",
    "dict2.update({'Jessa': 90})\n",
    "print(dict2)\n",
    "# Output {'Jessa': 90, 'Emma': 55}\n",
    "\n",
    "print(dict1)\n",
    "# Output {'Jessa': 90, 'Emma': 55}"
   ]
  },
  {
   "cell_type": "code",
   "execution_count": 60,
   "metadata": {},
   "outputs": [
    {
     "name": "stdout",
     "output_type": "stream",
     "text": [
      "person: {'name': 'Jessa', 'company': 'Google', 'address': {'state': 'Texas', 'city': 'Houston'}}\n",
      "City: Houston\n",
      "Person details\n",
      "name : Jessa\n",
      "company : Google\n",
      "Person Address\n",
      "state : Texas\n",
      "city : Houston\n"
     ]
    }
   ],
   "source": [
    "# Nested dictionary\n",
    "# Nested dictionaries are dictionaries that have one or more dictionaries as their members. \n",
    "# It is a collection of many dictionaries in one dictionary.\n",
    "# address dictionary to store person address\n",
    "address = {\"state\": \"Texas\", 'city': 'Houston'}\n",
    "\n",
    "# dictionary to store person details with address as a nested dictionary\n",
    "person = {'name': 'Jessa', 'company': 'Google', 'address': address}\n",
    "\n",
    "# Display dictionary\n",
    "print(\"person:\", person)\n",
    "\n",
    "# Get nested dictionary key 'city'\n",
    "print(\"City:\", person['address']['city'])\n",
    "\n",
    "# Iterating outer dictionary\n",
    "print(\"Person details\")\n",
    "for key, value in person.items():\n",
    "    if key == 'address':\n",
    "        # Iterating through nested dictionary\n",
    "        print(\"Person Address\")\n",
    "        for nested_key, nested_value in value.items():\n",
    "            print(nested_key, ':', nested_value)\n",
    "    else:\n",
    "        print(key, ':', value)\n"
   ]
  },
  {
   "cell_type": "code",
   "execution_count": 61,
   "metadata": {},
   "outputs": [
    {
     "name": "stdout",
     "output_type": "stream",
     "text": [
      "Student 3 name: Kelly\n",
      "Student 3 marks: 85\n",
      "\n",
      "Class details\n",
      "\n",
      "student1\n",
      "name : Jessa\n",
      "state : Texas\n",
      "city : Houston\n",
      "marks : 75\n",
      "\n",
      "\n",
      "student2\n",
      "name : Emma\n",
      "state : Texas\n",
      "city : Dallas\n",
      "marks : 60\n",
      "\n",
      "\n",
      "student3\n",
      "name : Kelly\n",
      "state : Texas\n",
      "city : Austin\n",
      "marks : 85\n",
      "\n",
      "\n"
     ]
    }
   ],
   "source": [
    "# each dictionary will store data of a single student\n",
    "jessa = {'name': 'Jessa', 'state': 'Texas', 'city': 'Houston', 'marks': 75}\n",
    "emma = {'name': 'Emma', 'state': 'Texas', 'city': 'Dallas', 'marks': 60}\n",
    "kelly = {'name': 'Kelly', 'state': 'Texas', 'city': 'Austin', 'marks': 85}\n",
    "\n",
    "# Outer dictionary to store all student dictionaries (nested dictionaries)\n",
    "class_six = {'student1': jessa, 'student2': emma, 'student3': kelly}\n",
    "\n",
    "# Get student3's name and mark\n",
    "print(\"Student 3 name:\", class_six['student3']['name'])\n",
    "print(\"Student 3 marks:\", class_six['student3']['marks'])\n",
    "\n",
    "# Iterating outer dictionary\n",
    "print(\"\\nClass details\\n\")\n",
    "for key, value in class_six.items():\n",
    "    # Iterating through nested dictionary\n",
    "    # Display each student data\n",
    "    print(key)\n",
    "    for nested_key, nested_value in value.items():\n",
    "        print(nested_key, ':', nested_value)\n",
    "    print('\\n')"
   ]
  },
  {
   "cell_type": "code",
   "execution_count": 1,
   "metadata": {},
   "outputs": [
    {
     "data": {
      "text/plain": [
       "{1: 2, 3: 4, 'list': [1, 2, 3], 'dict': {1: 2}}"
      ]
     },
     "execution_count": 1,
     "metadata": {},
     "output_type": "execute_result"
    }
   ],
   "source": [
    "a ={ 1: 2, 3: 4, 'list':[1,2,3], 'dict' : {1:2}}\n",
    "a"
   ]
  },
  {
   "cell_type": "code",
   "execution_count": 3,
   "metadata": {},
   "outputs": [
    {
     "data": {
      "text/plain": [
       "2"
      ]
     },
     "execution_count": 3,
     "metadata": {},
     "output_type": "execute_result"
    }
   ],
   "source": [
    "a[1] # index is the key"
   ]
  },
  {
   "cell_type": "code",
   "execution_count": 4,
   "metadata": {},
   "outputs": [
    {
     "ename": "KeyError",
     "evalue": "2",
     "output_type": "error",
     "traceback": [
      "\u001b[1;31m---------------------------------------------------------------------------\u001b[0m",
      "\u001b[1;31mKeyError\u001b[0m                                  Traceback (most recent call last)",
      "\u001b[1;32m<ipython-input-4-fc907be37984>\u001b[0m in \u001b[0;36m<module>\u001b[1;34m\u001b[0m\n\u001b[1;32m----> 1\u001b[1;33m \u001b[0ma\u001b[0m\u001b[1;33m[\u001b[0m\u001b[1;36m2\u001b[0m\u001b[1;33m]\u001b[0m\u001b[1;33m\u001b[0m\u001b[1;33m\u001b[0m\u001b[0m\n\u001b[0m",
      "\u001b[1;31mKeyError\u001b[0m: 2"
     ]
    }
   ],
   "source": [
    "a[2] # Error- as key is not present in dictionary."
   ]
  },
  {
   "cell_type": "code",
   "execution_count": 5,
   "metadata": {},
   "outputs": [
    {
     "data": {
      "text/plain": [
       "[1, 2, 3]"
      ]
     },
     "execution_count": 5,
     "metadata": {},
     "output_type": "execute_result"
    }
   ],
   "source": [
    "a['list']"
   ]
  },
  {
   "cell_type": "code",
   "execution_count": 6,
   "metadata": {},
   "outputs": [
    {
     "data": {
      "text/plain": [
       "2"
      ]
     },
     "execution_count": 6,
     "metadata": {},
     "output_type": "execute_result"
    }
   ],
   "source": [
    "a.get(1) # similar to a[1]"
   ]
  },
  {
   "cell_type": "code",
   "execution_count": 9,
   "metadata": {},
   "outputs": [],
   "source": [
    "a.get(2) # similar to a[2] , but if key is not present it wont give error"
   ]
  },
  {
   "cell_type": "code",
   "execution_count": 10,
   "metadata": {},
   "outputs": [
    {
     "name": "stdout",
     "output_type": "stream",
     "text": [
      "None\n"
     ]
    }
   ],
   "source": [
    "print(a.get(2))"
   ]
  },
  {
   "cell_type": "code",
   "execution_count": 12,
   "metadata": {},
   "outputs": [
    {
     "data": {
      "text/plain": [
       "0"
      ]
     },
     "execution_count": 12,
     "metadata": {},
     "output_type": "execute_result"
    }
   ],
   "source": [
    "# #a.get(key, return value if key not present)\n",
    "a.get(2,0) # returns value of key if present or returns the assigned return value i.e 0,"
   ]
  },
  {
   "cell_type": "code",
   "execution_count": 14,
   "metadata": {},
   "outputs": [
    {
     "data": {
      "text/plain": [
       "{1: 11, 3: 4, 'list': [1, 2, 3], 'dict': {1: 2}}"
      ]
     },
     "execution_count": 14,
     "metadata": {},
     "output_type": "execute_result"
    }
   ],
   "source": [
    "a[1] = 11 # updation using key (if key is present)\n",
    "a"
   ]
  },
  {
   "cell_type": "code",
   "execution_count": null,
   "metadata": {},
   "outputs": [],
   "source": [
    "a[5] = 12 # insert the key value pair (if key is not present)"
   ]
  },
  {
   "cell_type": "code",
   "execution_count": 32,
   "metadata": {},
   "outputs": [
    {
     "name": "stdout",
     "output_type": "stream",
     "text": [
      "[1, 2, 4, 5]\n",
      "[1, 2, 4, 5]\n",
      "['a', 'b', 'd', 'z']\n",
      "[(1, 'd'), (2, 'z'), (4, 'a'), (5, 'b')]\n",
      "[(5, 'b'), (4, 'a'), (2, 'z'), (1, 'd')]\n",
      "[4, 5, 1, 2]\n"
     ]
    }
   ],
   "source": [
    "#sorting\n",
    "a = {1:\"d\",2:\"z\",5:\"b\",4:'a'}\n",
    "print(sorted(a)) # sort by keys, return list of keys\n",
    "print(sorted(a.keys())) # sort by keys, return list of keys\n",
    "print(sorted(a.values())) # sort by values, return values\n",
    "print(sorted(a.items()))\n",
    "print(sorted(a.items(),reverse=True)) # sort by keys and reverse sorting, return items\n",
    "print(sorted(a, key = a.get)) # sort by values,  return keys"
   ]
  },
  {
   "cell_type": "code",
   "execution_count": null,
   "metadata": {},
   "outputs": [],
   "source": [
    "# Sort dictionary\n",
    "# The built-in method sorted() will sort the keys in the dictionary and returns a sorted list.\n",
    "dict1 = {'c': 45, 'b': 95, 'a': 35}\n",
    "\n",
    "# sorting dictionary by keys\n",
    "print(sorted(dict1.items()))\n",
    "# Output [('a', 35), ('b', 95), ('c', 45)]\n",
    "\n",
    "# sort dict eys\n",
    "print(sorted(dict1))\n",
    "# output ['a', 'b', 'c']\n",
    "\n",
    "# sort dictionary values\n",
    "print(sorted(dict1.values()))\n",
    "# output [35, 45, 95]"
   ]
  },
  {
   "cell_type": "code",
   "execution_count": 15,
   "metadata": {},
   "outputs": [
    {
     "name": "stdout",
     "output_type": "stream",
     "text": [
      "{1: 'd', 2: 'z', 4: 'a', 5: 'b'}\n"
     ]
    }
   ],
   "source": [
    "#creating dict with sorting by keys using sorted method with a and a.keys()\n",
    "a = {1:\"d\",2:\"z\",5:\"b\",4:'a'}\n",
    "d = {k:a[k] for k in sorted(a)} # try a.keys() instead of \n",
    "print(d)"
   ]
  },
  {
   "cell_type": "code",
   "execution_count": 16,
   "metadata": {},
   "outputs": [
    {
     "name": "stdout",
     "output_type": "stream",
     "text": [
      "{1: 'd', 2: 'z', 4: 'a', 5: 'b'}\n"
     ]
    }
   ],
   "source": [
    "a = {1:\"d\",2:\"z\",5:\"b\",4:'a'}\n",
    "d = {k:a.get(k) for k in sorted(a)} # try a.keys() instead of \n",
    "print(d)"
   ]
  },
  {
   "cell_type": "code",
   "execution_count": 17,
   "metadata": {},
   "outputs": [
    {
     "name": "stdout",
     "output_type": "stream",
     "text": [
      "{1: 'd', 2: 'z', 4: 'a', 5: 'b'}\n"
     ]
    }
   ],
   "source": [
    "a = {1:\"d\",2:\"z\",5:\"b\",4:'a'}\n",
    "d = {k:a.get(k) for k in sorted(a.keys())} # try a.keys() instead of \n",
    "print(d)"
   ]
  },
  {
   "cell_type": "code",
   "execution_count": 18,
   "metadata": {},
   "outputs": [
    {
     "name": "stdout",
     "output_type": "stream",
     "text": [
      "{4: 'a', 5: 'b', 1: 'd', 2: 'z'}\n"
     ]
    }
   ],
   "source": [
    "#creating dict with sorting by values using sorted method\n",
    "a = {1:\"d\",2:\"z\",5:\"b\",4:'a'}\n",
    "d = {k:a.get(k,0) for val in sorted(a.values()) for k,v in a.items() if v==val}\n",
    "print(d)"
   ]
  },
  {
   "cell_type": "code",
   "execution_count": 21,
   "metadata": {},
   "outputs": [
    {
     "name": "stdout",
     "output_type": "stream",
     "text": [
      "{4: 'a', 5: 'b', 1: 'd', 2: 'z'}\n"
     ]
    }
   ],
   "source": [
    "a = {1:\"d\",2:\"z\",5:\"b\",4:'a'}\n",
    "d = {k:a.get(k,0) for val in sorted(a.values()) for k,v in a.items() if v==val}\n",
    "print(d)"
   ]
  },
  {
   "cell_type": "code",
   "execution_count": 33,
   "metadata": {},
   "outputs": [
    {
     "name": "stdout",
     "output_type": "stream",
     "text": [
      "20\n"
     ]
    }
   ],
   "source": [
    "d = lambda x:\n",
    "print(d(10))"
   ]
  },
  {
   "cell_type": "code",
   "execution_count": null,
   "metadata": {},
   "outputs": [],
   "source": [
    "high_order = lambda x, lmbfunc: x*lmbfunc(x) \n",
    "# The inner lambda function is defined when calling the high_order. \n",
    "high_order(10, lambda x : x*x) #> 1000 \n"
   ]
  },
  {
   "cell_type": "code",
   "execution_count": 3,
   "metadata": {},
   "outputs": [
    {
     "ename": "IndentationError",
     "evalue": "unexpected indent (<ipython-input-3-104b8e713511>, line 2)",
     "output_type": "error",
     "traceback": [
      "\u001b[1;36m  File \u001b[1;32m\"<ipython-input-3-104b8e713511>\"\u001b[1;36m, line \u001b[1;32m2\u001b[0m\n\u001b[1;33m    for num in range(1, 11):\u001b[0m\n\u001b[1;37m    ^\u001b[0m\n\u001b[1;31mIndentationError\u001b[0m\u001b[1;31m:\u001b[0m unexpected indent\n"
     ]
    }
   ],
   "source": [
    "square_dict = dict() \n",
    "for num in range(1, 11): \n",
    "    square_dict[num] = num*num \n",
    "print(square_dict) "
   ]
  },
  {
   "cell_type": "code",
   "execution_count": null,
   "metadata": {},
   "outputs": [],
   "source": []
  }
 ],
 "metadata": {
  "kernelspec": {
   "display_name": "Python 3",
   "language": "python",
   "name": "python3"
  },
  "language_info": {
   "codemirror_mode": {
    "name": "ipython",
    "version": 3
   },
   "file_extension": ".py",
   "mimetype": "text/x-python",
   "name": "python",
   "nbconvert_exporter": "python",
   "pygments_lexer": "ipython3",
   "version": "3.8.5"
  }
 },
 "nbformat": 4,
 "nbformat_minor": 5
}
